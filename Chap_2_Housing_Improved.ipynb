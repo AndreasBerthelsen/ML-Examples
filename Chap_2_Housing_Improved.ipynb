{
  "cells": [
    {
      "cell_type": "markdown",
      "metadata": {
        "id": "kkp1UXlMYgVE"
      },
      "source": [
        "**Chapter 2 – End-to-end Machine Learning project**\n",
        "\n",
        "# Contents\n",
        "1. Get the data\n",
        "2. Data analysis\n",
        "3. Data preparation\n",
        "4. Select and train a couple of models\n",
        "5. Evaluate the models on the test set\n",
        "\n",
        "\n",
        "Your task is to predict median house values in Californian districts, given a number of features from these districts. A district typically has a population of 600 to 3000 people.\n",
        "\n",
        "This is a regression task, since you are asked to predict a numerical value.\n",
        "\n",
        "![mls2_0201.png](attachment:mls2_0201.png)"
      ]
    },
    {
      "cell_type": "markdown",
      "metadata": {
        "id": "Zzd8I-0TYgVG"
      },
      "source": [
        "## Setup"
      ]
    },
    {
      "cell_type": "code",
      "execution_count": 1,
      "metadata": {
        "id": "rlGyfOV0YgVG"
      },
      "outputs": [],
      "source": [
        "# Common imports\n",
        "import sklearn\n",
        "import numpy as np\n",
        "\n",
        "# Import the SSL module and configure certificate verification to be optional to avoid SSLCertVerificationError.\n",
        "import ssl\n",
        "ssl.SSLContext.verify_mode = ssl.VerifyMode.CERT_OPTIONAL\n",
        "\n",
        "# Ignore useless warnings (see SciPy issue #5998)\n",
        "import warnings\n",
        "warnings.filterwarnings(action=\"ignore\", message=\"^internal gelsd\")"
      ]
    },
    {
      "cell_type": "markdown",
      "metadata": {
        "id": "BehdMhmWYgVH"
      },
      "source": [
        "# Get the data"
      ]
    },
    {
      "cell_type": "code",
      "execution_count": 2,
      "metadata": {
        "id": "21ZXBcRmYgVH"
      },
      "outputs": [],
      "source": [
        "# This function creates a dataset/housing directory subdirectory, if it doesn't already exists. Then it downloads \n",
        "# the housing.tgz file, and extracts the housing.csv file.\n",
        "\n",
        "from pathlib import Path\n",
        "import pandas as pd\n",
        "import tarfile\n",
        "import urllib.request\n",
        "\n",
        "def load_housing_data():\n",
        "    tarball_path = Path(\"datasets/housing.tgz\")\n",
        "    if not tarball_path.is_file():\n",
        "        Path(\"datasets\").mkdir(parents=True, exist_ok=True)\n",
        "        url = \"https://github.com/ageron/data/raw/main/housing.tgz\"\n",
        "        urllib.request.urlretrieve(url, tarball_path)\n",
        "        with tarfile.open(tarball_path) as housing_tarball:\n",
        "            housing_tarball.extractall(path=\"datasets\")\n",
        "    return pd.read_csv(Path(\"datasets/housing/housing.csv\"))\n",
        "\n",
        "housing = load_housing_data()"
      ]
    },
    {
      "cell_type": "code",
      "execution_count": 3,
      "metadata": {
        "id": "3EV9qgyfYgVH",
        "outputId": "e180d724-d1dd-4abd-e169-27d730c13ef3",
        "colab": {
          "base_uri": "https://localhost:8080/",
          "height": 206
        }
      },
      "outputs": [
        {
          "output_type": "execute_result",
          "data": {
            "text/plain": [
              "   longitude  latitude  housing_median_age  total_rooms  total_bedrooms  \\\n",
              "0    -122.23     37.88                41.0        880.0           129.0   \n",
              "1    -122.22     37.86                21.0       7099.0          1106.0   \n",
              "2    -122.24     37.85                52.0       1467.0           190.0   \n",
              "3    -122.25     37.85                52.0       1274.0           235.0   \n",
              "4    -122.25     37.85                52.0       1627.0           280.0   \n",
              "\n",
              "   population  households  median_income  median_house_value ocean_proximity  \n",
              "0       322.0       126.0         8.3252            452600.0        NEAR BAY  \n",
              "1      2401.0      1138.0         8.3014            358500.0        NEAR BAY  \n",
              "2       496.0       177.0         7.2574            352100.0        NEAR BAY  \n",
              "3       558.0       219.0         5.6431            341300.0        NEAR BAY  \n",
              "4       565.0       259.0         3.8462            342200.0        NEAR BAY  "
            ],
            "text/html": [
              "\n",
              "  <div id=\"df-8219b71c-5ae5-47cc-9bd6-1e7d994741e8\">\n",
              "    <div class=\"colab-df-container\">\n",
              "      <div>\n",
              "<style scoped>\n",
              "    .dataframe tbody tr th:only-of-type {\n",
              "        vertical-align: middle;\n",
              "    }\n",
              "\n",
              "    .dataframe tbody tr th {\n",
              "        vertical-align: top;\n",
              "    }\n",
              "\n",
              "    .dataframe thead th {\n",
              "        text-align: right;\n",
              "    }\n",
              "</style>\n",
              "<table border=\"1\" class=\"dataframe\">\n",
              "  <thead>\n",
              "    <tr style=\"text-align: right;\">\n",
              "      <th></th>\n",
              "      <th>longitude</th>\n",
              "      <th>latitude</th>\n",
              "      <th>housing_median_age</th>\n",
              "      <th>total_rooms</th>\n",
              "      <th>total_bedrooms</th>\n",
              "      <th>population</th>\n",
              "      <th>households</th>\n",
              "      <th>median_income</th>\n",
              "      <th>median_house_value</th>\n",
              "      <th>ocean_proximity</th>\n",
              "    </tr>\n",
              "  </thead>\n",
              "  <tbody>\n",
              "    <tr>\n",
              "      <th>0</th>\n",
              "      <td>-122.23</td>\n",
              "      <td>37.88</td>\n",
              "      <td>41.0</td>\n",
              "      <td>880.0</td>\n",
              "      <td>129.0</td>\n",
              "      <td>322.0</td>\n",
              "      <td>126.0</td>\n",
              "      <td>8.3252</td>\n",
              "      <td>452600.0</td>\n",
              "      <td>NEAR BAY</td>\n",
              "    </tr>\n",
              "    <tr>\n",
              "      <th>1</th>\n",
              "      <td>-122.22</td>\n",
              "      <td>37.86</td>\n",
              "      <td>21.0</td>\n",
              "      <td>7099.0</td>\n",
              "      <td>1106.0</td>\n",
              "      <td>2401.0</td>\n",
              "      <td>1138.0</td>\n",
              "      <td>8.3014</td>\n",
              "      <td>358500.0</td>\n",
              "      <td>NEAR BAY</td>\n",
              "    </tr>\n",
              "    <tr>\n",
              "      <th>2</th>\n",
              "      <td>-122.24</td>\n",
              "      <td>37.85</td>\n",
              "      <td>52.0</td>\n",
              "      <td>1467.0</td>\n",
              "      <td>190.0</td>\n",
              "      <td>496.0</td>\n",
              "      <td>177.0</td>\n",
              "      <td>7.2574</td>\n",
              "      <td>352100.0</td>\n",
              "      <td>NEAR BAY</td>\n",
              "    </tr>\n",
              "    <tr>\n",
              "      <th>3</th>\n",
              "      <td>-122.25</td>\n",
              "      <td>37.85</td>\n",
              "      <td>52.0</td>\n",
              "      <td>1274.0</td>\n",
              "      <td>235.0</td>\n",
              "      <td>558.0</td>\n",
              "      <td>219.0</td>\n",
              "      <td>5.6431</td>\n",
              "      <td>341300.0</td>\n",
              "      <td>NEAR BAY</td>\n",
              "    </tr>\n",
              "    <tr>\n",
              "      <th>4</th>\n",
              "      <td>-122.25</td>\n",
              "      <td>37.85</td>\n",
              "      <td>52.0</td>\n",
              "      <td>1627.0</td>\n",
              "      <td>280.0</td>\n",
              "      <td>565.0</td>\n",
              "      <td>259.0</td>\n",
              "      <td>3.8462</td>\n",
              "      <td>342200.0</td>\n",
              "      <td>NEAR BAY</td>\n",
              "    </tr>\n",
              "  </tbody>\n",
              "</table>\n",
              "</div>\n",
              "      <button class=\"colab-df-convert\" onclick=\"convertToInteractive('df-8219b71c-5ae5-47cc-9bd6-1e7d994741e8')\"\n",
              "              title=\"Convert this dataframe to an interactive table.\"\n",
              "              style=\"display:none;\">\n",
              "        \n",
              "  <svg xmlns=\"http://www.w3.org/2000/svg\" height=\"24px\"viewBox=\"0 0 24 24\"\n",
              "       width=\"24px\">\n",
              "    <path d=\"M0 0h24v24H0V0z\" fill=\"none\"/>\n",
              "    <path d=\"M18.56 5.44l.94 2.06.94-2.06 2.06-.94-2.06-.94-.94-2.06-.94 2.06-2.06.94zm-11 1L8.5 8.5l.94-2.06 2.06-.94-2.06-.94L8.5 2.5l-.94 2.06-2.06.94zm10 10l.94 2.06.94-2.06 2.06-.94-2.06-.94-.94-2.06-.94 2.06-2.06.94z\"/><path d=\"M17.41 7.96l-1.37-1.37c-.4-.4-.92-.59-1.43-.59-.52 0-1.04.2-1.43.59L10.3 9.45l-7.72 7.72c-.78.78-.78 2.05 0 2.83L4 21.41c.39.39.9.59 1.41.59.51 0 1.02-.2 1.41-.59l7.78-7.78 2.81-2.81c.8-.78.8-2.07 0-2.86zM5.41 20L4 18.59l7.72-7.72 1.47 1.35L5.41 20z\"/>\n",
              "  </svg>\n",
              "      </button>\n",
              "      \n",
              "  <style>\n",
              "    .colab-df-container {\n",
              "      display:flex;\n",
              "      flex-wrap:wrap;\n",
              "      gap: 12px;\n",
              "    }\n",
              "\n",
              "    .colab-df-convert {\n",
              "      background-color: #E8F0FE;\n",
              "      border: none;\n",
              "      border-radius: 50%;\n",
              "      cursor: pointer;\n",
              "      display: none;\n",
              "      fill: #1967D2;\n",
              "      height: 32px;\n",
              "      padding: 0 0 0 0;\n",
              "      width: 32px;\n",
              "    }\n",
              "\n",
              "    .colab-df-convert:hover {\n",
              "      background-color: #E2EBFA;\n",
              "      box-shadow: 0px 1px 2px rgba(60, 64, 67, 0.3), 0px 1px 3px 1px rgba(60, 64, 67, 0.15);\n",
              "      fill: #174EA6;\n",
              "    }\n",
              "\n",
              "    [theme=dark] .colab-df-convert {\n",
              "      background-color: #3B4455;\n",
              "      fill: #D2E3FC;\n",
              "    }\n",
              "\n",
              "    [theme=dark] .colab-df-convert:hover {\n",
              "      background-color: #434B5C;\n",
              "      box-shadow: 0px 1px 3px 1px rgba(0, 0, 0, 0.15);\n",
              "      filter: drop-shadow(0px 1px 2px rgba(0, 0, 0, 0.3));\n",
              "      fill: #FFFFFF;\n",
              "    }\n",
              "  </style>\n",
              "\n",
              "      <script>\n",
              "        const buttonEl =\n",
              "          document.querySelector('#df-8219b71c-5ae5-47cc-9bd6-1e7d994741e8 button.colab-df-convert');\n",
              "        buttonEl.style.display =\n",
              "          google.colab.kernel.accessAllowed ? 'block' : 'none';\n",
              "\n",
              "        async function convertToInteractive(key) {\n",
              "          const element = document.querySelector('#df-8219b71c-5ae5-47cc-9bd6-1e7d994741e8');\n",
              "          const dataTable =\n",
              "            await google.colab.kernel.invokeFunction('convertToInteractive',\n",
              "                                                     [key], {});\n",
              "          if (!dataTable) return;\n",
              "\n",
              "          const docLinkHtml = 'Like what you see? Visit the ' +\n",
              "            '<a target=\"_blank\" href=https://colab.research.google.com/notebooks/data_table.ipynb>data table notebook</a>'\n",
              "            + ' to learn more about interactive tables.';\n",
              "          element.innerHTML = '';\n",
              "          dataTable['output_type'] = 'display_data';\n",
              "          await google.colab.output.renderOutput(dataTable, element);\n",
              "          const docLink = document.createElement('div');\n",
              "          docLink.innerHTML = docLinkHtml;\n",
              "          element.appendChild(docLink);\n",
              "        }\n",
              "      </script>\n",
              "    </div>\n",
              "  </div>\n",
              "  "
            ]
          },
          "metadata": {},
          "execution_count": 3
        }
      ],
      "source": [
        "# Display the top five rows\n",
        "housing.head()"
      ]
    },
    {
      "cell_type": "code",
      "execution_count": 4,
      "metadata": {
        "id": "aDK5pvMPYgVI",
        "outputId": "877b20be-117e-40fc-e3ac-699576e0e232",
        "colab": {
          "base_uri": "https://localhost:8080/"
        }
      },
      "outputs": [
        {
          "output_type": "stream",
          "name": "stdout",
          "text": [
            "<class 'pandas.core.frame.DataFrame'>\n",
            "RangeIndex: 20640 entries, 0 to 20639\n",
            "Data columns (total 10 columns):\n",
            " #   Column              Non-Null Count  Dtype  \n",
            "---  ------              --------------  -----  \n",
            " 0   longitude           20640 non-null  float64\n",
            " 1   latitude            20640 non-null  float64\n",
            " 2   housing_median_age  20640 non-null  float64\n",
            " 3   total_rooms         20640 non-null  float64\n",
            " 4   total_bedrooms      20433 non-null  float64\n",
            " 5   population          20640 non-null  float64\n",
            " 6   households          20640 non-null  float64\n",
            " 7   median_income       20640 non-null  float64\n",
            " 8   median_house_value  20640 non-null  float64\n",
            " 9   ocean_proximity     20640 non-null  object \n",
            "dtypes: float64(9), object(1)\n",
            "memory usage: 1.6+ MB\n"
          ]
        }
      ],
      "source": [
        "# Get a quick description of the data\n",
        "# (look for null values and non-numerical data which require special data preparation)\n",
        "housing.info()"
      ]
    },
    {
      "cell_type": "code",
      "execution_count": 5,
      "metadata": {
        "id": "MEzPsMwpYgVI",
        "outputId": "65a3586a-d47b-4d02-d265-9769b940b4e6",
        "colab": {
          "base_uri": "https://localhost:8080/"
        }
      },
      "outputs": [
        {
          "output_type": "execute_result",
          "data": {
            "text/plain": [
              "<1H OCEAN     9136\n",
              "INLAND        6551\n",
              "NEAR OCEAN    2658\n",
              "NEAR BAY      2290\n",
              "ISLAND           5\n",
              "Name: ocean_proximity, dtype: int64"
            ]
          },
          "metadata": {},
          "execution_count": 5
        }
      ],
      "source": [
        "# Look at the non-numerical feature, ocean_proximity\n",
        "housing[\"ocean_proximity\"].value_counts()"
      ]
    },
    {
      "cell_type": "code",
      "execution_count": 6,
      "metadata": {
        "id": "BhPJhZp3YgVI",
        "outputId": "d7f96d51-aa66-4242-c5b2-a18697cb44e1",
        "colab": {
          "base_uri": "https://localhost:8080/",
          "height": 300
        }
      },
      "outputs": [
        {
          "output_type": "execute_result",
          "data": {
            "text/plain": [
              "          longitude      latitude  housing_median_age   total_rooms  \\\n",
              "count  20640.000000  20640.000000        20640.000000  20640.000000   \n",
              "mean    -119.569704     35.631861           28.639486   2635.763081   \n",
              "std        2.003532      2.135952           12.585558   2181.615252   \n",
              "min     -124.350000     32.540000            1.000000      2.000000   \n",
              "25%     -121.800000     33.930000           18.000000   1447.750000   \n",
              "50%     -118.490000     34.260000           29.000000   2127.000000   \n",
              "75%     -118.010000     37.710000           37.000000   3148.000000   \n",
              "max     -114.310000     41.950000           52.000000  39320.000000   \n",
              "\n",
              "       total_bedrooms    population    households  median_income  \\\n",
              "count    20433.000000  20640.000000  20640.000000   20640.000000   \n",
              "mean       537.870553   1425.476744    499.539680       3.870671   \n",
              "std        421.385070   1132.462122    382.329753       1.899822   \n",
              "min          1.000000      3.000000      1.000000       0.499900   \n",
              "25%        296.000000    787.000000    280.000000       2.563400   \n",
              "50%        435.000000   1166.000000    409.000000       3.534800   \n",
              "75%        647.000000   1725.000000    605.000000       4.743250   \n",
              "max       6445.000000  35682.000000   6082.000000      15.000100   \n",
              "\n",
              "       median_house_value  \n",
              "count        20640.000000  \n",
              "mean        206855.816909  \n",
              "std         115395.615874  \n",
              "min          14999.000000  \n",
              "25%         119600.000000  \n",
              "50%         179700.000000  \n",
              "75%         264725.000000  \n",
              "max         500001.000000  "
            ],
            "text/html": [
              "\n",
              "  <div id=\"df-53b7eb8e-db36-4d20-82af-114e12b1bb95\">\n",
              "    <div class=\"colab-df-container\">\n",
              "      <div>\n",
              "<style scoped>\n",
              "    .dataframe tbody tr th:only-of-type {\n",
              "        vertical-align: middle;\n",
              "    }\n",
              "\n",
              "    .dataframe tbody tr th {\n",
              "        vertical-align: top;\n",
              "    }\n",
              "\n",
              "    .dataframe thead th {\n",
              "        text-align: right;\n",
              "    }\n",
              "</style>\n",
              "<table border=\"1\" class=\"dataframe\">\n",
              "  <thead>\n",
              "    <tr style=\"text-align: right;\">\n",
              "      <th></th>\n",
              "      <th>longitude</th>\n",
              "      <th>latitude</th>\n",
              "      <th>housing_median_age</th>\n",
              "      <th>total_rooms</th>\n",
              "      <th>total_bedrooms</th>\n",
              "      <th>population</th>\n",
              "      <th>households</th>\n",
              "      <th>median_income</th>\n",
              "      <th>median_house_value</th>\n",
              "    </tr>\n",
              "  </thead>\n",
              "  <tbody>\n",
              "    <tr>\n",
              "      <th>count</th>\n",
              "      <td>20640.000000</td>\n",
              "      <td>20640.000000</td>\n",
              "      <td>20640.000000</td>\n",
              "      <td>20640.000000</td>\n",
              "      <td>20433.000000</td>\n",
              "      <td>20640.000000</td>\n",
              "      <td>20640.000000</td>\n",
              "      <td>20640.000000</td>\n",
              "      <td>20640.000000</td>\n",
              "    </tr>\n",
              "    <tr>\n",
              "      <th>mean</th>\n",
              "      <td>-119.569704</td>\n",
              "      <td>35.631861</td>\n",
              "      <td>28.639486</td>\n",
              "      <td>2635.763081</td>\n",
              "      <td>537.870553</td>\n",
              "      <td>1425.476744</td>\n",
              "      <td>499.539680</td>\n",
              "      <td>3.870671</td>\n",
              "      <td>206855.816909</td>\n",
              "    </tr>\n",
              "    <tr>\n",
              "      <th>std</th>\n",
              "      <td>2.003532</td>\n",
              "      <td>2.135952</td>\n",
              "      <td>12.585558</td>\n",
              "      <td>2181.615252</td>\n",
              "      <td>421.385070</td>\n",
              "      <td>1132.462122</td>\n",
              "      <td>382.329753</td>\n",
              "      <td>1.899822</td>\n",
              "      <td>115395.615874</td>\n",
              "    </tr>\n",
              "    <tr>\n",
              "      <th>min</th>\n",
              "      <td>-124.350000</td>\n",
              "      <td>32.540000</td>\n",
              "      <td>1.000000</td>\n",
              "      <td>2.000000</td>\n",
              "      <td>1.000000</td>\n",
              "      <td>3.000000</td>\n",
              "      <td>1.000000</td>\n",
              "      <td>0.499900</td>\n",
              "      <td>14999.000000</td>\n",
              "    </tr>\n",
              "    <tr>\n",
              "      <th>25%</th>\n",
              "      <td>-121.800000</td>\n",
              "      <td>33.930000</td>\n",
              "      <td>18.000000</td>\n",
              "      <td>1447.750000</td>\n",
              "      <td>296.000000</td>\n",
              "      <td>787.000000</td>\n",
              "      <td>280.000000</td>\n",
              "      <td>2.563400</td>\n",
              "      <td>119600.000000</td>\n",
              "    </tr>\n",
              "    <tr>\n",
              "      <th>50%</th>\n",
              "      <td>-118.490000</td>\n",
              "      <td>34.260000</td>\n",
              "      <td>29.000000</td>\n",
              "      <td>2127.000000</td>\n",
              "      <td>435.000000</td>\n",
              "      <td>1166.000000</td>\n",
              "      <td>409.000000</td>\n",
              "      <td>3.534800</td>\n",
              "      <td>179700.000000</td>\n",
              "    </tr>\n",
              "    <tr>\n",
              "      <th>75%</th>\n",
              "      <td>-118.010000</td>\n",
              "      <td>37.710000</td>\n",
              "      <td>37.000000</td>\n",
              "      <td>3148.000000</td>\n",
              "      <td>647.000000</td>\n",
              "      <td>1725.000000</td>\n",
              "      <td>605.000000</td>\n",
              "      <td>4.743250</td>\n",
              "      <td>264725.000000</td>\n",
              "    </tr>\n",
              "    <tr>\n",
              "      <th>max</th>\n",
              "      <td>-114.310000</td>\n",
              "      <td>41.950000</td>\n",
              "      <td>52.000000</td>\n",
              "      <td>39320.000000</td>\n",
              "      <td>6445.000000</td>\n",
              "      <td>35682.000000</td>\n",
              "      <td>6082.000000</td>\n",
              "      <td>15.000100</td>\n",
              "      <td>500001.000000</td>\n",
              "    </tr>\n",
              "  </tbody>\n",
              "</table>\n",
              "</div>\n",
              "      <button class=\"colab-df-convert\" onclick=\"convertToInteractive('df-53b7eb8e-db36-4d20-82af-114e12b1bb95')\"\n",
              "              title=\"Convert this dataframe to an interactive table.\"\n",
              "              style=\"display:none;\">\n",
              "        \n",
              "  <svg xmlns=\"http://www.w3.org/2000/svg\" height=\"24px\"viewBox=\"0 0 24 24\"\n",
              "       width=\"24px\">\n",
              "    <path d=\"M0 0h24v24H0V0z\" fill=\"none\"/>\n",
              "    <path d=\"M18.56 5.44l.94 2.06.94-2.06 2.06-.94-2.06-.94-.94-2.06-.94 2.06-2.06.94zm-11 1L8.5 8.5l.94-2.06 2.06-.94-2.06-.94L8.5 2.5l-.94 2.06-2.06.94zm10 10l.94 2.06.94-2.06 2.06-.94-2.06-.94-.94-2.06-.94 2.06-2.06.94z\"/><path d=\"M17.41 7.96l-1.37-1.37c-.4-.4-.92-.59-1.43-.59-.52 0-1.04.2-1.43.59L10.3 9.45l-7.72 7.72c-.78.78-.78 2.05 0 2.83L4 21.41c.39.39.9.59 1.41.59.51 0 1.02-.2 1.41-.59l7.78-7.78 2.81-2.81c.8-.78.8-2.07 0-2.86zM5.41 20L4 18.59l7.72-7.72 1.47 1.35L5.41 20z\"/>\n",
              "  </svg>\n",
              "      </button>\n",
              "      \n",
              "  <style>\n",
              "    .colab-df-container {\n",
              "      display:flex;\n",
              "      flex-wrap:wrap;\n",
              "      gap: 12px;\n",
              "    }\n",
              "\n",
              "    .colab-df-convert {\n",
              "      background-color: #E8F0FE;\n",
              "      border: none;\n",
              "      border-radius: 50%;\n",
              "      cursor: pointer;\n",
              "      display: none;\n",
              "      fill: #1967D2;\n",
              "      height: 32px;\n",
              "      padding: 0 0 0 0;\n",
              "      width: 32px;\n",
              "    }\n",
              "\n",
              "    .colab-df-convert:hover {\n",
              "      background-color: #E2EBFA;\n",
              "      box-shadow: 0px 1px 2px rgba(60, 64, 67, 0.3), 0px 1px 3px 1px rgba(60, 64, 67, 0.15);\n",
              "      fill: #174EA6;\n",
              "    }\n",
              "\n",
              "    [theme=dark] .colab-df-convert {\n",
              "      background-color: #3B4455;\n",
              "      fill: #D2E3FC;\n",
              "    }\n",
              "\n",
              "    [theme=dark] .colab-df-convert:hover {\n",
              "      background-color: #434B5C;\n",
              "      box-shadow: 0px 1px 3px 1px rgba(0, 0, 0, 0.15);\n",
              "      filter: drop-shadow(0px 1px 2px rgba(0, 0, 0, 0.3));\n",
              "      fill: #FFFFFF;\n",
              "    }\n",
              "  </style>\n",
              "\n",
              "      <script>\n",
              "        const buttonEl =\n",
              "          document.querySelector('#df-53b7eb8e-db36-4d20-82af-114e12b1bb95 button.colab-df-convert');\n",
              "        buttonEl.style.display =\n",
              "          google.colab.kernel.accessAllowed ? 'block' : 'none';\n",
              "\n",
              "        async function convertToInteractive(key) {\n",
              "          const element = document.querySelector('#df-53b7eb8e-db36-4d20-82af-114e12b1bb95');\n",
              "          const dataTable =\n",
              "            await google.colab.kernel.invokeFunction('convertToInteractive',\n",
              "                                                     [key], {});\n",
              "          if (!dataTable) return;\n",
              "\n",
              "          const docLinkHtml = 'Like what you see? Visit the ' +\n",
              "            '<a target=\"_blank\" href=https://colab.research.google.com/notebooks/data_table.ipynb>data table notebook</a>'\n",
              "            + ' to learn more about interactive tables.';\n",
              "          element.innerHTML = '';\n",
              "          dataTable['output_type'] = 'display_data';\n",
              "          await google.colab.output.renderOutput(dataTable, element);\n",
              "          const docLink = document.createElement('div');\n",
              "          docLink.innerHTML = docLinkHtml;\n",
              "          element.appendChild(docLink);\n",
              "        }\n",
              "      </script>\n",
              "    </div>\n",
              "  </div>\n",
              "  "
            ]
          },
          "metadata": {},
          "execution_count": 6
        }
      ],
      "source": [
        "# Display basic statistics for the features\n",
        "housing.describe()"
      ]
    },
    {
      "cell_type": "code",
      "execution_count": 7,
      "metadata": {
        "scrolled": true,
        "id": "lFHwY1ITYgVI",
        "outputId": "533039cd-aece-418a-a727-6b3751ae2125",
        "colab": {
          "base_uri": "https://localhost:8080/",
          "height": 879
        }
      },
      "outputs": [
        {
          "output_type": "display_data",
          "data": {
            "text/plain": [
              "<Figure size 1440x1080 with 9 Axes>"
            ],
            "image/png": "[encoded data removed]"
          },
          "metadata": {
            "needs_background": "light"
          }
        }
      ],
      "source": [
        "# Plot a histogram of each numerical feature\n",
        "import matplotlib.pyplot as plt\n",
        "housing.hist(bins=50, figsize=(20,15))\n",
        "plt.show()"
      ]
    },
    {
      "cell_type": "markdown",
      "metadata": {
        "id": "UeHlXBaEYgVJ"
      },
      "source": [
        "### Observations in the histograms\n",
        "1) housing_median_age, median_house_value and median_income have been capped. If this is a problem, we could\n",
        "   remove the largest values (we will omit that here for simplicity)\n",
        "2) median_income has been scaled to tens of thousand dollars.\n",
        "3) Some histograms are tail-heavy (may be a problem for some algorithms). Although a feature can be made less\n",
        "   tail-heavy by using simple techniques, such as replacing each value with its square root or the logarithm,\n",
        "   we will omit that here for simplicity.\n",
        "4) The features has different scales (scaling may be required)"
      ]
    },
    {
      "cell_type": "markdown",
      "metadata": {
        "id": "7VcG_F4UYgVJ"
      },
      "source": [
        "# Data analysis"
      ]
    },
    {
      "cell_type": "code",
      "execution_count": 8,
      "metadata": {
        "id": "tJ7mbsR9YgVJ",
        "outputId": "cc5a0767-6922-424f-e18b-66e2095097ba",
        "colab": {
          "base_uri": "https://localhost:8080/",
          "height": 279
        }
      },
      "outputs": [
        {
          "output_type": "display_data",
          "data": {
            "text/plain": [
              "<Figure size 432x288 with 1 Axes>"
            ],
            "image/png": "[encoded data removed]"
          },
          "metadata": {
            "needs_background": "light"
          }
        }
      ],
      "source": [
        "# Perform a geographical scatterplot of the data\n",
        "housing.plot(kind=\"scatter\", x=\"longitude\", y=\"latitude\", grid=True, alpha=0.2)\n",
        "plt.show()"
      ]
    },
    {
      "cell_type": "code",
      "execution_count": 9,
      "metadata": {
        "scrolled": true,
        "id": "fv_-fph3YgVJ",
        "outputId": "991e3548-896e-40ea-b483-edc31248a4c8",
        "colab": {
          "base_uri": "https://localhost:8080/",
          "height": 446
        }
      },
      "outputs": [
        {
          "output_type": "display_data",
          "data": {
            "text/plain": [
              "<Figure size 720x504 with 2 Axes>"
            ],
            "image/png": "[encoded data removed]"
          },
          "metadata": {
            "needs_background": "light"
          }
        }
      ],
      "source": [
        "# A better visualization. The radius of each circle (option s) represents the district's population, and the\n",
        "# color (option c) represents the price.\n",
        "housing.plot(kind=\"scatter\", x=\"longitude\", y=\"latitude\",\n",
        "    s=housing[\"population\"]/100, label=\"population\",\n",
        "    c=\"median_house_value\", cmap=\"jet\", colorbar=True,\n",
        "    legend=True, sharex=False, figsize=(10,7))\n",
        "plt.show()"
      ]
    },
    {
      "cell_type": "markdown",
      "metadata": {
        "id": "91KrKl4UYgVJ"
      },
      "source": [
        "### Correlations\n",
        "The plot above shows that the prices are much related to the location and the population density.\n",
        "\n",
        "Let us now compute and illustrate linear correlations between selected attributes."
      ]
    },
    {
      "cell_type": "code",
      "execution_count": 10,
      "metadata": {
        "id": "-mMySF7mYgVJ",
        "outputId": "76956607-8ba8-4884-e1ac-fbf705ee8c29",
        "colab": {
          "base_uri": "https://localhost:8080/"
        }
      },
      "outputs": [
        {
          "output_type": "execute_result",
          "data": {
            "text/plain": [
              "median_house_value    1.000000\n",
              "median_income         0.688075\n",
              "total_rooms           0.134153\n",
              "housing_median_age    0.105623\n",
              "households            0.065843\n",
              "total_bedrooms        0.049686\n",
              "population           -0.024650\n",
              "longitude            -0.045967\n",
              "latitude             -0.144160\n",
              "Name: median_house_value, dtype: float64"
            ]
          },
          "metadata": {},
          "execution_count": 10
        }
      ],
      "source": [
        "# How much does each feature correlate with the median house value?\n",
        "# The correlation coefficient ranges from -1 (100% negative correlation) to 1 (100% positive correlation)\n",
        "corr_matrix = housing.corr()\n",
        "corr_matrix[\"median_house_value\"].sort_values(ascending=False)"
      ]
    },
    {
      "cell_type": "markdown",
      "metadata": {
        "id": "noAEPqkKYgVK"
      },
      "source": [
        "### Attribute combinations\n",
        "The total number of rooms in a district is not very useful. Instead, we want the number of rooms per household. Similarly, we want the number of bedrooms per room instead of the total number of bedrooms in a district, and the population per household instead of the total population in a district."
      ]
    },
    {
      "cell_type": "code",
      "execution_count": 11,
      "metadata": {
        "id": "MoUTcm8BYgVK"
      },
      "outputs": [],
      "source": [
        "housing[\"rooms_per_household\"] = housing[\"total_rooms\"]/housing[\"households\"]\n",
        "housing[\"bedrooms_per_room\"] = housing[\"total_bedrooms\"]/housing[\"total_rooms\"]\n",
        "housing[\"population_per_household\"]=housing[\"population\"]/housing[\"households\"]"
      ]
    },
    {
      "cell_type": "code",
      "execution_count": 12,
      "metadata": {
        "id": "ngB5cv7HYgVK",
        "outputId": "6f5ed3f4-e80d-4f2f-e137-89cc87fe516e",
        "colab": {
          "base_uri": "https://localhost:8080/"
        }
      },
      "outputs": [
        {
          "output_type": "execute_result",
          "data": {
            "text/plain": [
              "median_house_value          1.000000\n",
              "median_income               0.688075\n",
              "rooms_per_household         0.151948\n",
              "total_rooms                 0.134153\n",
              "housing_median_age          0.105623\n",
              "households                  0.065843\n",
              "total_bedrooms              0.049686\n",
              "population_per_household   -0.023737\n",
              "population                 -0.024650\n",
              "longitude                  -0.045967\n",
              "latitude                   -0.144160\n",
              "bedrooms_per_room          -0.255880\n",
              "Name: median_house_value, dtype: float64"
            ]
          },
          "metadata": {},
          "execution_count": 12
        }
      ],
      "source": [
        "# How much does each of the new attributes correlate with the median house value?\n",
        "corr_matrix = housing.corr()\n",
        "corr_matrix[\"median_house_value\"].sort_values(ascending=False)"
      ]
    },
    {
      "cell_type": "code",
      "execution_count": 13,
      "metadata": {
        "id": "aYBBILUHYgVK"
      },
      "outputs": [],
      "source": [
        "# We will keep the new attributes and delete the original ones.\n",
        "housing = housing.drop(columns=\"total_rooms\")\n",
        "housing = housing.drop(columns=\"total_bedrooms\")\n",
        "housing = housing.drop(columns=\"population\")"
      ]
    },
    {
      "cell_type": "markdown",
      "metadata": {
        "id": "Ev2A4O7uYgVK"
      },
      "source": [
        "# Data preparation\n",
        "\n",
        "<ol>\n",
        "<li>how to split the dataset in a training set and a test set</li>\n",
        "<li>how to clean the data so that there are no missing values</li>\n",
        "<li>how to re-scale attribute values</li>\n",
        "<li>and how to handle a non-numerical feature</li>\n",
        "</ol>\n",
        "\n",
        "## Split the dataset"
      ]
    },
    {
      "cell_type": "code",
      "execution_count": 14,
      "metadata": {
        "id": "aZoQ2qtdYgVK"
      },
      "outputs": [],
      "source": [
        "# Split the dataset randomly in training set (80%) and test set (20%). Use a fixed random seed (42).\n",
        "# As a rule of thumb, pick 20% for the test set, unless the dataset is very large.\n",
        "from sklearn.model_selection import train_test_split\n",
        "\n",
        "train_set, test_set = train_test_split(housing, test_size=0.2, random_state=42)"
      ]
    },
    {
      "cell_type": "markdown",
      "metadata": {
        "id": "e39qIO9MYgVK"
      },
      "source": [
        "### stratified sampling\n",
        "Random sampling is fine, if the dataset is large enough. If not, stratified sampling should be considered. Stratified sampling ensures that the test set is representative of the whole dataset. The dataset is first divided into subgroups called strata (e.g. a stratum could represent an income group). Then the right number of instances for both training and test sets are picked from each stratum. Stratified sampling reduces sampling bias."
      ]
    },
    {
      "cell_type": "code",
      "execution_count": 15,
      "metadata": {
        "id": "ZCYVjnjJYgVK"
      },
      "outputs": [],
      "source": [
        "# Remove the labels from the training set (the method returns a new set, and it does not affect the original one).\n",
        "housing_predictors = train_set.drop(columns=\"median_house_value\")\n",
        "# Keep the labels in a separate set.\n",
        "housing_labels = train_set[\"median_house_value\"].copy()"
      ]
    },
    {
      "cell_type": "markdown",
      "metadata": {
        "id": "yz_7MHpbYgVK"
      },
      "source": [
        "## Data cleaning\n",
        "\n",
        "Strategies:\n",
        "<ol>\n",
        "<li>Remove all rows with missing values. Use the DataFrame's dropna() method.</li>\n",
        "<li>Remove all columns with missing values.</li>\n",
        "<li>Replace missing values with some default value (mean, median, most frequent or some fixed value). Use Scikit-Learn's SimpleImputer class.</li>\n",
        "</ol>"
      ]
    },
    {
      "cell_type": "code",
      "execution_count": 16,
      "metadata": {
        "id": "z8lRNb-mYgVK"
      },
      "outputs": [],
      "source": [
        "from sklearn.impute import SimpleImputer\n",
        "imputer = SimpleImputer(strategy=\"median\")"
      ]
    },
    {
      "cell_type": "code",
      "execution_count": 17,
      "metadata": {
        "id": "JLhyuigiYgVK"
      },
      "outputs": [],
      "source": [
        "# Remove the text attribute because median can only be calculated on numerical attributes.\n",
        "housing_num = housing_predictors.select_dtypes(include=[np.number])"
      ]
    },
    {
      "cell_type": "code",
      "execution_count": 18,
      "metadata": {
        "id": "0kxx-GCeYgVK",
        "outputId": "50cae9dd-a8f3-4f20-bd6d-215e52229243",
        "colab": {
          "base_uri": "https://localhost:8080/"
        }
      },
      "outputs": [
        {
          "output_type": "execute_result",
          "data": {
            "text/plain": [
              "SimpleImputer(strategy='median')"
            ]
          },
          "metadata": {},
          "execution_count": 18
        }
      ],
      "source": [
        "# Compute the median of each attribute.\n",
        "imputer.fit(housing_num)"
      ]
    },
    {
      "cell_type": "code",
      "execution_count": 19,
      "metadata": {
        "id": "t9GwculXYgVL",
        "outputId": "536ee892-532d-4fd4-bdd7-5205387177cc",
        "colab": {
          "base_uri": "https://localhost:8080/"
        }
      },
      "outputs": [
        {
          "output_type": "execute_result",
          "data": {
            "text/plain": [
              "array([-1.18490000e+02,  3.42500000e+01,  2.90000000e+01,  4.11000000e+02,\n",
              "        3.52460000e+00,  5.23242240e+00,  2.03058929e-01,  2.81956622e+00])"
            ]
          },
          "metadata": {},
          "execution_count": 19
        }
      ],
      "source": [
        "# The result is stored in the statistics_ instance variable.\n",
        "imputer.statistics_"
      ]
    },
    {
      "cell_type": "code",
      "execution_count": 20,
      "metadata": {
        "scrolled": true,
        "id": "t1JIE1WkYgVL",
        "outputId": "f52e4058-c4fd-49b3-d22f-e8fa57129adf",
        "colab": {
          "base_uri": "https://localhost:8080/"
        }
      },
      "outputs": [
        {
          "output_type": "execute_result",
          "data": {
            "text/plain": [
              "array([[-117.22      ,   32.75      ,   34.        , ...,    5.59794776,\n",
              "           0.18513581,    2.47574627],\n",
              "       [-117.03      ,   32.69      ,   10.        , ...,    5.39520958,\n",
              "           0.1809101 ,    4.17964072],\n",
              "       [-122.27      ,   37.74      ,   28.        , ...,    4.65566038,\n",
              "           0.22492401,    2.00404313],\n",
              "       ...,\n",
              "       [-119.33      ,   36.28      ,   16.        , ...,    5.04615385,\n",
              "           0.20083841,    2.07115385],\n",
              "       [-117.19      ,   34.08      ,   22.        , ...,    4.99392713,\n",
              "           0.2249696 ,    3.17206478],\n",
              "       [-118.86      ,   34.22      ,   22.        , ...,    6.30769231,\n",
              "           0.16260163,    3.45128205]])"
            ]
          },
          "metadata": {},
          "execution_count": 20
        }
      ],
      "source": [
        "# Replace missing values with the medians.\n",
        "imputer.transform(housing_num)"
      ]
    },
    {
      "cell_type": "code",
      "execution_count": 21,
      "metadata": {
        "id": "y7dzeT4yYgVL",
        "outputId": "89018e6c-2a90-4e34-cc69-518469fa3896",
        "colab": {
          "base_uri": "https://localhost:8080/",
          "height": 206
        }
      },
      "outputs": [
        {
          "output_type": "execute_result",
          "data": {
            "text/plain": [
              "       longitude  latitude  housing_median_age  households  median_income  \\\n",
              "14196    -117.22     32.75                34.0      1072.0         4.5878   \n",
              "8267     -117.03     32.69                10.0       167.0         4.6648   \n",
              "17445    -122.27     37.74                28.0      1484.0         3.6875   \n",
              "14265    -121.82     37.25                25.0       650.0         5.1663   \n",
              "2271     -115.98     33.32                 8.0        24.0         1.4688   \n",
              "\n",
              "       rooms_per_household  bedrooms_per_room  population_per_household  \n",
              "14196             5.597948           0.185136                  2.475746  \n",
              "8267              5.395210           0.180910                  4.179641  \n",
              "17445             4.655660           0.224924                  2.004043  \n",
              "14265             6.186154           0.157672                  3.350769  \n",
              "2271             10.000000           0.191667                  2.625000  "
            ],
            "text/html": [
              "\n",
              "  <div id=\"df-3beea7a1-b7a2-46fd-8cb7-510dfeee3537\">\n",
              "    <div class=\"colab-df-container\">\n",
              "      <div>\n",
              "<style scoped>\n",
              "    .dataframe tbody tr th:only-of-type {\n",
              "        vertical-align: middle;\n",
              "    }\n",
              "\n",
              "    .dataframe tbody tr th {\n",
              "        vertical-align: top;\n",
              "    }\n",
              "\n",
              "    .dataframe thead th {\n",
              "        text-align: right;\n",
              "    }\n",
              "</style>\n",
              "<table border=\"1\" class=\"dataframe\">\n",
              "  <thead>\n",
              "    <tr style=\"text-align: right;\">\n",
              "      <th></th>\n",
              "      <th>longitude</th>\n",
              "      <th>latitude</th>\n",
              "      <th>housing_median_age</th>\n",
              "      <th>households</th>\n",
              "      <th>median_income</th>\n",
              "      <th>rooms_per_household</th>\n",
              "      <th>bedrooms_per_room</th>\n",
              "      <th>population_per_household</th>\n",
              "    </tr>\n",
              "  </thead>\n",
              "  <tbody>\n",
              "    <tr>\n",
              "      <th>14196</th>\n",
              "      <td>-117.22</td>\n",
              "      <td>32.75</td>\n",
              "      <td>34.0</td>\n",
              "      <td>1072.0</td>\n",
              "      <td>4.5878</td>\n",
              "      <td>5.597948</td>\n",
              "      <td>0.185136</td>\n",
              "      <td>2.475746</td>\n",
              "    </tr>\n",
              "    <tr>\n",
              "      <th>8267</th>\n",
              "      <td>-117.03</td>\n",
              "      <td>32.69</td>\n",
              "      <td>10.0</td>\n",
              "      <td>167.0</td>\n",
              "      <td>4.6648</td>\n",
              "      <td>5.395210</td>\n",
              "      <td>0.180910</td>\n",
              "      <td>4.179641</td>\n",
              "    </tr>\n",
              "    <tr>\n",
              "      <th>17445</th>\n",
              "      <td>-122.27</td>\n",
              "      <td>37.74</td>\n",
              "      <td>28.0</td>\n",
              "      <td>1484.0</td>\n",
              "      <td>3.6875</td>\n",
              "      <td>4.655660</td>\n",
              "      <td>0.224924</td>\n",
              "      <td>2.004043</td>\n",
              "    </tr>\n",
              "    <tr>\n",
              "      <th>14265</th>\n",
              "      <td>-121.82</td>\n",
              "      <td>37.25</td>\n",
              "      <td>25.0</td>\n",
              "      <td>650.0</td>\n",
              "      <td>5.1663</td>\n",
              "      <td>6.186154</td>\n",
              "      <td>0.157672</td>\n",
              "      <td>3.350769</td>\n",
              "    </tr>\n",
              "    <tr>\n",
              "      <th>2271</th>\n",
              "      <td>-115.98</td>\n",
              "      <td>33.32</td>\n",
              "      <td>8.0</td>\n",
              "      <td>24.0</td>\n",
              "      <td>1.4688</td>\n",
              "      <td>10.000000</td>\n",
              "      <td>0.191667</td>\n",
              "      <td>2.625000</td>\n",
              "    </tr>\n",
              "  </tbody>\n",
              "</table>\n",
              "</div>\n",
              "      <button class=\"colab-df-convert\" onclick=\"convertToInteractive('df-3beea7a1-b7a2-46fd-8cb7-510dfeee3537')\"\n",
              "              title=\"Convert this dataframe to an interactive table.\"\n",
              "              style=\"display:none;\">\n",
              "        \n",
              "  <svg xmlns=\"http://www.w3.org/2000/svg\" height=\"24px\"viewBox=\"0 0 24 24\"\n",
              "       width=\"24px\">\n",
              "    <path d=\"M0 0h24v24H0V0z\" fill=\"none\"/>\n",
              "    <path d=\"M18.56 5.44l.94 2.06.94-2.06 2.06-.94-2.06-.94-.94-2.06-.94 2.06-2.06.94zm-11 1L8.5 8.5l.94-2.06 2.06-.94-2.06-.94L8.5 2.5l-.94 2.06-2.06.94zm10 10l.94 2.06.94-2.06 2.06-.94-2.06-.94-.94-2.06-.94 2.06-2.06.94z\"/><path d=\"M17.41 7.96l-1.37-1.37c-.4-.4-.92-.59-1.43-.59-.52 0-1.04.2-1.43.59L10.3 9.45l-7.72 7.72c-.78.78-.78 2.05 0 2.83L4 21.41c.39.39.9.59 1.41.59.51 0 1.02-.2 1.41-.59l7.78-7.78 2.81-2.81c.8-.78.8-2.07 0-2.86zM5.41 20L4 18.59l7.72-7.72 1.47 1.35L5.41 20z\"/>\n",
              "  </svg>\n",
              "      </button>\n",
              "      \n",
              "  <style>\n",
              "    .colab-df-container {\n",
              "      display:flex;\n",
              "      flex-wrap:wrap;\n",
              "      gap: 12px;\n",
              "    }\n",
              "\n",
              "    .colab-df-convert {\n",
              "      background-color: #E8F0FE;\n",
              "      border: none;\n",
              "      border-radius: 50%;\n",
              "      cursor: pointer;\n",
              "      display: none;\n",
              "      fill: #1967D2;\n",
              "      height: 32px;\n",
              "      padding: 0 0 0 0;\n",
              "      width: 32px;\n",
              "    }\n",
              "\n",
              "    .colab-df-convert:hover {\n",
              "      background-color: #E2EBFA;\n",
              "      box-shadow: 0px 1px 2px rgba(60, 64, 67, 0.3), 0px 1px 3px 1px rgba(60, 64, 67, 0.15);\n",
              "      fill: #174EA6;\n",
              "    }\n",
              "\n",
              "    [theme=dark] .colab-df-convert {\n",
              "      background-color: #3B4455;\n",
              "      fill: #D2E3FC;\n",
              "    }\n",
              "\n",
              "    [theme=dark] .colab-df-convert:hover {\n",
              "      background-color: #434B5C;\n",
              "      box-shadow: 0px 1px 3px 1px rgba(0, 0, 0, 0.15);\n",
              "      filter: drop-shadow(0px 1px 2px rgba(0, 0, 0, 0.3));\n",
              "      fill: #FFFFFF;\n",
              "    }\n",
              "  </style>\n",
              "\n",
              "      <script>\n",
              "        const buttonEl =\n",
              "          document.querySelector('#df-3beea7a1-b7a2-46fd-8cb7-510dfeee3537 button.colab-df-convert');\n",
              "        buttonEl.style.display =\n",
              "          google.colab.kernel.accessAllowed ? 'block' : 'none';\n",
              "\n",
              "        async function convertToInteractive(key) {\n",
              "          const element = document.querySelector('#df-3beea7a1-b7a2-46fd-8cb7-510dfeee3537');\n",
              "          const dataTable =\n",
              "            await google.colab.kernel.invokeFunction('convertToInteractive',\n",
              "                                                     [key], {});\n",
              "          if (!dataTable) return;\n",
              "\n",
              "          const docLinkHtml = 'Like what you see? Visit the ' +\n",
              "            '<a target=\"_blank\" href=https://colab.research.google.com/notebooks/data_table.ipynb>data table notebook</a>'\n",
              "            + ' to learn more about interactive tables.';\n",
              "          element.innerHTML = '';\n",
              "          dataTable['output_type'] = 'display_data';\n",
              "          await google.colab.output.renderOutput(dataTable, element);\n",
              "          const docLink = document.createElement('div');\n",
              "          docLink.innerHTML = docLinkHtml;\n",
              "          element.appendChild(docLink);\n",
              "        }\n",
              "      </script>\n",
              "    </div>\n",
              "  </div>\n",
              "  "
            ]
          },
          "metadata": {},
          "execution_count": 21
        }
      ],
      "source": [
        "# Scikit-Learn transformers returns NumPy arrays even when they get a Pandas DataFrame as input.\n",
        "housing_num_numpy = imputer.transform(housing_num)\n",
        "\n",
        "# If you want, you can wrap the returned NumPy array in a DataFrame, with the following code:\n",
        "housing_dataframe = pd.DataFrame(housing_num_numpy, columns=housing_num.columns, index=housing_num.index)\n",
        "housing_dataframe.head()"
      ]
    },
    {
      "cell_type": "code",
      "execution_count": 22,
      "metadata": {
        "id": "_JHFFKKDYgVL",
        "outputId": "6b606a54-6790-47ec-ef28-78165f708b00",
        "colab": {
          "base_uri": "https://localhost:8080/"
        }
      },
      "outputs": [
        {
          "output_type": "execute_result",
          "data": {
            "text/plain": [
              "array([[-117.22      ,   32.75      ,   34.        , ...,    5.59794776,\n",
              "           0.18513581,    2.47574627],\n",
              "       [-117.03      ,   32.69      ,   10.        , ...,    5.39520958,\n",
              "           0.1809101 ,    4.17964072],\n",
              "       [-122.27      ,   37.74      ,   28.        , ...,    4.65566038,\n",
              "           0.22492401,    2.00404313],\n",
              "       ...,\n",
              "       [-119.33      ,   36.28      ,   16.        , ...,    5.04615385,\n",
              "           0.20083841,    2.07115385],\n",
              "       [-117.19      ,   34.08      ,   22.        , ...,    4.99392713,\n",
              "           0.2249696 ,    3.17206478],\n",
              "       [-118.86      ,   34.22      ,   22.        , ...,    6.30769231,\n",
              "           0.16260163,    3.45128205]])"
            ]
          },
          "metadata": {},
          "execution_count": 22
        }
      ],
      "source": [
        "# You can also convert a Pandas DataFrame to a numpy array with the following code:\n",
        "housing_dataframe.to_numpy()"
      ]
    },
    {
      "cell_type": "markdown",
      "metadata": {
        "id": "ykWzzToPYgVL"
      },
      "source": [
        "## Feature scaling\n",
        "Most ML algorithms don't perform well, when the numerical input attributes have different scales. They tend to focus more on features with a large range of values, and less on features with a small range of values. There are two common  ways of scaling:\n",
        "\n",
        "Min-max scaling (also called normalization): values are rescaled so that they end up ranging from 0 to 1.\n",
        "Standardization: values are rescaled so that they have zero mean and unit variance.\n",
        "\n",
        "Standardization is much less affected by outliers, but the lack of a fixed range (0 to 1) is a problem for some algorithms (e.g. neural networks).\n",
        "\n",
        "Scaling the target values is generally not required."
      ]
    },
    {
      "cell_type": "code",
      "execution_count": 23,
      "metadata": {
        "id": "AtQKnrFuYgVL",
        "outputId": "c79d87b6-54e0-4a85-a4b8-a4223eca6fd7",
        "colab": {
          "base_uri": "https://localhost:8080/"
        }
      },
      "outputs": [
        {
          "output_type": "execute_result",
          "data": {
            "text/plain": [
              "array([[0.71015936, 0.02231668, 0.64705882, ..., 0.0333928 , 0.09459535,\n",
              "        0.0014352 ],\n",
              "       [0.72908367, 0.01594049, 0.17647059, ..., 0.03195514, 0.08990011,\n",
              "        0.00280639],\n",
              "       [0.20717131, 0.55260361, 0.52941176, ..., 0.02671086, 0.13880446,\n",
              "        0.0010556 ],\n",
              "       ...,\n",
              "       [0.5       , 0.39744952, 0.29411765, ..., 0.02947992, 0.11204268,\n",
              "        0.00110961],\n",
              "       [0.71314741, 0.16365569, 0.41176471, ..., 0.02910958, 0.13885511,\n",
              "        0.00199555],\n",
              "       [0.54681275, 0.17853348, 0.41176471, ..., 0.03842572, 0.06955736,\n",
              "        0.00222025]])"
            ]
          },
          "metadata": {},
          "execution_count": 23
        }
      ],
      "source": [
        "from sklearn.preprocessing import StandardScaler, MinMaxScaler\n",
        "# scaler = StandardScaler()\n",
        "scaler = MinMaxScaler()\n",
        "housing_num_scaled = scaler.fit_transform(housing_num)\n",
        "housing_num_scaled"
      ]
    },
    {
      "cell_type": "markdown",
      "metadata": {
        "id": "wvaI34EfYgVL"
      },
      "source": [
        "## Handling non-numerical features"
      ]
    },
    {
      "cell_type": "code",
      "execution_count": 24,
      "metadata": {
        "id": "Yyv-B7ooYgVL",
        "outputId": "56a05d90-e471-4297-b6af-91d28fce2d9b",
        "colab": {
          "base_uri": "https://localhost:8080/"
        }
      },
      "outputs": [
        {
          "output_type": "execute_result",
          "data": {
            "text/plain": [
              "ocean_proximity\n",
              "<1H OCEAN          7313\n",
              "INLAND             5276\n",
              "NEAR OCEAN         2091\n",
              "NEAR BAY           1827\n",
              "ISLAND                5\n",
              "dtype: int64"
            ]
          },
          "metadata": {},
          "execution_count": 24
        }
      ],
      "source": [
        "# Extract the single non-numerical attribute, which is categorial.\n",
        "housing_cat = housing_predictors[[\"ocean_proximity\"]]\n",
        "\n",
        "# Show the different categories.\n",
        "housing_cat.value_counts()"
      ]
    },
    {
      "cell_type": "code",
      "execution_count": 25,
      "metadata": {
        "id": "dBQOHT4dYgVL",
        "outputId": "26c16090-91f9-4c94-f0d9-4758f08a4e69",
        "colab": {
          "base_uri": "https://localhost:8080/"
        }
      },
      "outputs": [
        {
          "output_type": "execute_result",
          "data": {
            "text/plain": [
              "array([[0., 0., 0., 0., 1.],\n",
              "       [0., 0., 0., 0., 1.],\n",
              "       [0., 0., 0., 1., 0.],\n",
              "       ...,\n",
              "       [0., 1., 0., 0., 0.],\n",
              "       [0., 1., 0., 0., 0.],\n",
              "       [1., 0., 0., 0., 0.]])"
            ]
          },
          "metadata": {},
          "execution_count": 25
        }
      ],
      "source": [
        "# Create one binary attribute per category.\n",
        "# It is called one-hot encoding, because only one attribute value will be 1 (hot) while the others will be 0 (cold).\n",
        "# The default output is a sparse matrix, which only stores the location of the non-zero elements. Here we will use\n",
        "# a dense matrix (sparse=False), since there are only a few categories.\n",
        "from sklearn.preprocessing import OneHotEncoder\n",
        "\n",
        "cat_encoder = OneHotEncoder(sparse=False)\n",
        "housing_cat_1hot = cat_encoder.fit_transform(housing_cat)\n",
        "housing_cat_1hot\n",
        "\n",
        "# Other ways of converting a categorical attribute:\n",
        "# https://scikit-learn.org/stable/modules/generated/sklearn.preprocessing.OrdinalEncoder.html#sklearn.preprocessing.OrdinalEncoder\n",
        "# https://scikit-learn.org/stable/modules/generated/sklearn.preprocessing.LabelEncoder.html"
      ]
    },
    {
      "cell_type": "code",
      "execution_count": 26,
      "metadata": {
        "id": "ZNAxCMZpYgVL",
        "outputId": "ffd66b0b-e8a9-46e7-f9c9-2e2e1afe7eda",
        "colab": {
          "base_uri": "https://localhost:8080/"
        }
      },
      "outputs": [
        {
          "output_type": "execute_result",
          "data": {
            "text/plain": [
              "[array(['<1H OCEAN', 'INLAND', 'ISLAND', 'NEAR BAY', 'NEAR OCEAN'],\n",
              "       dtype=object)]"
            ]
          },
          "metadata": {},
          "execution_count": 26
        }
      ],
      "source": [
        "# The original categories are stored in the categories_ instance variable.\n",
        "cat_encoder.categories_"
      ]
    },
    {
      "cell_type": "markdown",
      "metadata": {
        "id": "pP8F1xj_YgVL"
      },
      "source": [
        "## Transformation pipelines\n",
        "The Scikit-Learn Pipeline class can perform a sequence of transformations."
      ]
    },
    {
      "cell_type": "code",
      "execution_count": 27,
      "metadata": {
        "id": "1zNPSSaLYgVL"
      },
      "outputs": [],
      "source": [
        "# Pipeline for the numerical attributes.\n",
        "from sklearn.pipeline import make_pipeline\n",
        "\n",
        "num_pipeline = make_pipeline(SimpleImputer(strategy=\"median\"), MinMaxScaler())\n",
        "\n",
        "housing_num_transformed = num_pipeline.fit_transform(housing_num)"
      ]
    },
    {
      "cell_type": "code",
      "execution_count": 28,
      "metadata": {
        "id": "ig9OJs3tYgVL"
      },
      "outputs": [],
      "source": [
        "# Pipeline for the categorical attribute.\n",
        "cat_pipeline = make_pipeline(SimpleImputer(strategy=\"most_frequent\"), OneHotEncoder(sparse=False))"
      ]
    },
    {
      "cell_type": "code",
      "execution_count": 29,
      "metadata": {
        "id": "exocnCuqYgVL"
      },
      "outputs": [],
      "source": [
        "# Pipeline that will transform both the numerical and categorial attributes and combine them.\n",
        "from sklearn.compose import ColumnTransformer\n",
        "\n",
        "# We must pass the names of the attributes which should be transformed\n",
        "num_attribs = list(housing_num)\n",
        "cat_attribs = [\"ocean_proximity\"]\n",
        "\n",
        "preprocessing_pipeline = ColumnTransformer([\n",
        "        (\"num\", num_pipeline, num_attribs),\n",
        "        (\"cat\", cat_pipeline, cat_attribs),\n",
        "    ])\n",
        "\n",
        "# Alternative construct:\n",
        "#from sklearn.compose import make_column_selector, make_column_transformer\n",
        "\n",
        "#preprocessing_pipeline = make_column_transformer(\n",
        "#    (num_pipeline, make_column_selector(dtype_include=np.number)),\n",
        "#    (cat_pipeline, make_column_selector(dtype_include=object)),\n",
        "#)\n",
        "\n",
        "housing_predictors_prepared = preprocessing_pipeline.fit_transform(housing_predictors)"
      ]
    },
    {
      "cell_type": "code",
      "execution_count": 30,
      "metadata": {
        "id": "qJvPTwbwYgVL",
        "outputId": "6f2c0acc-9c98-49f5-8e78-9faba96b95a5",
        "colab": {
          "base_uri": "https://localhost:8080/"
        }
      },
      "outputs": [
        {
          "output_type": "execute_result",
          "data": {
            "text/plain": [
              "array([[0.71015936, 0.02231668, 0.64705882, ..., 0.        , 0.        ,\n",
              "        1.        ],\n",
              "       [0.72908367, 0.01594049, 0.17647059, ..., 0.        , 0.        ,\n",
              "        1.        ],\n",
              "       [0.20717131, 0.55260361, 0.52941176, ..., 0.        , 1.        ,\n",
              "        0.        ],\n",
              "       ...,\n",
              "       [0.5       , 0.39744952, 0.29411765, ..., 0.        , 0.        ,\n",
              "        0.        ],\n",
              "       [0.71314741, 0.16365569, 0.41176471, ..., 0.        , 0.        ,\n",
              "        0.        ],\n",
              "       [0.54681275, 0.17853348, 0.41176471, ..., 0.        , 0.        ,\n",
              "        0.        ]])"
            ]
          },
          "metadata": {},
          "execution_count": 30
        }
      ],
      "source": [
        "housing_predictors_prepared"
      ]
    },
    {
      "cell_type": "code",
      "execution_count": 31,
      "metadata": {
        "id": "yyqB8AS6YgVM",
        "outputId": "ef2260a0-e1b2-4c05-dc02-4d8a840e0b9b",
        "colab": {
          "base_uri": "https://localhost:8080/"
        }
      },
      "outputs": [
        {
          "output_type": "execute_result",
          "data": {
            "text/plain": [
              "(16512, 13)"
            ]
          },
          "metadata": {},
          "execution_count": 31
        }
      ],
      "source": [
        "# This method outputs the number of rows and columns in the dataset.\n",
        "housing_predictors_prepared.shape"
      ]
    },
    {
      "cell_type": "markdown",
      "metadata": {
        "id": "_oISEIEMYgVM"
      },
      "source": [
        "# Select and train a model "
      ]
    },
    {
      "cell_type": "code",
      "execution_count": 32,
      "metadata": {
        "id": "BYnMySKhYgVM",
        "outputId": "ea802886-f491-425b-8471-654a567fa643",
        "colab": {
          "base_uri": "https://localhost:8080/"
        }
      },
      "outputs": [
        {
          "output_type": "execute_result",
          "data": {
            "text/plain": [
              "Pipeline(steps=[('columntransformer',\n",
              "                 ColumnTransformer(transformers=[('num',\n",
              "                                                  Pipeline(steps=[('simpleimputer',\n",
              "                                                                   SimpleImputer(strategy='median')),\n",
              "                                                                  ('minmaxscaler',\n",
              "                                                                   MinMaxScaler())]),\n",
              "                                                  ['longitude', 'latitude',\n",
              "                                                   'housing_median_age',\n",
              "                                                   'households',\n",
              "                                                   'median_income',\n",
              "                                                   'rooms_per_household',\n",
              "                                                   'bedrooms_per_room',\n",
              "                                                   'population_per_household']),\n",
              "                                                 ('cat',\n",
              "                                                  Pipeline(steps=[('simpleimputer',\n",
              "                                                                   SimpleImputer(strategy='most_frequent')),\n",
              "                                                                  ('onehotencoder',\n",
              "                                                                   OneHotEncoder(sparse=False))]),\n",
              "                                                  ['ocean_proximity'])])),\n",
              "                ('decisiontreeregressor',\n",
              "                 DecisionTreeRegressor(random_state=42))])"
            ]
          },
          "metadata": {},
          "execution_count": 32
        }
      ],
      "source": [
        "# Train a DecisionTreeRegressor.\n",
        "from sklearn.tree import DecisionTreeRegressor\n",
        "\n",
        "# As can be seen below, the last element in a pipeline can be a predictor (DecisionTreeRegressor)\n",
        "# while the preceeding elements (those in the preprocessing_pipeline) must be transformers.\n",
        "tree_reg = make_pipeline(preprocessing_pipeline, DecisionTreeRegressor(random_state=42))\n",
        "# The fit method runs the preprocessing_pipeline before it trains the DecisionTreeRegressor.\n",
        "tree_reg.fit(housing_predictors, housing_labels)"
      ]
    },
    {
      "cell_type": "markdown",
      "metadata": {
        "id": "bxk0iPNBYgVM"
      },
      "source": [
        "The preferred performance measure for regression problems is the Root Mean Square Error (RMSE):\n",
        "\n",
        "![Sk%C3%A6rmbillede%202020-11-05%20kl.%2022.08.54.png](attachment:Sk%C3%A6rmbillede%202020-11-05%20kl.%2022.08.54.png)\n",
        "\n",
        "It measures the distance between the vector of predictions and the vector of target values.\n",
        "\n",
        "<b>X</b> is a matrix containing all the features in the dataset, except labels.<br/>\n",
        "h is the prediction function, also called a hypothesis.<br/>\n",
        "m is the number of instances in the dataset.<br/>\n",
        "<b>x</b>(i) is a vector of all the feature values, except the label, of the i'th instance in the dataset.<br/>\n",
        "y(i) is the label of the i'th instance in the dataset."
      ]
    },
    {
      "cell_type": "code",
      "execution_count": 33,
      "metadata": {
        "id": "WlaaUu7eYgVM",
        "outputId": "29b174ed-3e8e-492a-a94e-3e49ffcfcdad",
        "colab": {
          "base_uri": "https://localhost:8080/"
        }
      },
      "outputs": [
        {
          "output_type": "execute_result",
          "data": {
            "text/plain": [
              "0.0"
            ]
          },
          "metadata": {},
          "execution_count": 33
        }
      ],
      "source": [
        "# Measure the models RMSE on the training set\n",
        "from sklearn.metrics import mean_squared_error\n",
        "\n",
        "# We input the unprepared predictors of the training set to the predict method, because the predict method\n",
        "# will run the preprocessing_pipeline on the input data, before making predictions.\n",
        "housing_predictions = tree_reg.predict(housing_predictors)\n",
        "tree_rmse = mean_squared_error(housing_labels, housing_predictions, squared=False)\n",
        "tree_rmse"
      ]
    },
    {
      "cell_type": "markdown",
      "metadata": {
        "id": "xEbAA5t9YgVM"
      },
      "source": [
        "If there are many outliers in the dataset, you may consider using the Mean Absolute Error (MAE) instead:\n",
        "    \n",
        "![Sk%C3%A6rmbillede%202020-11-05%20kl.%2022.31.54.png](attachment:Sk%C3%A6rmbillede%202020-11-05%20kl.%2022.31.54.png)"
      ]
    },
    {
      "cell_type": "code",
      "execution_count": 34,
      "metadata": {
        "id": "HOHTWFeFYgVM",
        "outputId": "9ea7d46e-1fc0-4f69-b648-4f5c10f4c1f9",
        "colab": {
          "base_uri": "https://localhost:8080/"
        }
      },
      "outputs": [
        {
          "output_type": "execute_result",
          "data": {
            "text/plain": [
              "0.0"
            ]
          },
          "metadata": {},
          "execution_count": 34
        }
      ],
      "source": [
        "# Measure the models MAE on the training set\n",
        "from sklearn.metrics import mean_absolute_error\n",
        "\n",
        "tree_mae = mean_absolute_error(housing_labels, housing_predictions)\n",
        "tree_mae"
      ]
    },
    {
      "cell_type": "markdown",
      "metadata": {
        "id": "J9pQ9T_dYgVM"
      },
      "source": [
        "Observation:\n",
        "No error at all? But maybe the model badly overfits the training data?\n",
        "A better evaluation can be obtained using Cross-Validation, which we will not cover here.\n",
        "We will just evaluate on the test set instead. This is okay, since we do not intend to fine-tune the model."
      ]
    },
    {
      "cell_type": "markdown",
      "metadata": {
        "id": "wr8h31ewYgVM"
      },
      "source": [
        "# Evaluate the model on the test set"
      ]
    },
    {
      "cell_type": "code",
      "execution_count": 35,
      "metadata": {
        "id": "alBl3I0EYgVM"
      },
      "outputs": [],
      "source": [
        "# Remove the labels from the test set.\n",
        "X_test = test_set.drop(\"median_house_value\", axis=1)\n",
        "# Keep the labels in a separate set.\n",
        "y_test = test_set[\"median_house_value\"].copy()"
      ]
    },
    {
      "cell_type": "code",
      "execution_count": 36,
      "metadata": {
        "id": "sPgl8VOyYgVM",
        "outputId": "1a9b83fc-b231-474c-8ae0-51315fcd67b6",
        "colab": {
          "base_uri": "https://localhost:8080/"
        }
      },
      "outputs": [
        {
          "output_type": "execute_result",
          "data": {
            "text/plain": [
              "72139.33884812282"
            ]
          },
          "metadata": {},
          "execution_count": 36
        }
      ],
      "source": [
        "# Evaluate the DecisionTreeRegressor.\n",
        "# Remember that the predict method will run the preprocessing_pipeline on X_test, before making predictions.\n",
        "tree_reg_predictions = tree_reg.predict(X_test)\n",
        "tree_reg_rmse = mean_squared_error(y_test, tree_reg_predictions, squared=False)\n",
        "tree_reg_rmse"
      ]
    },
    {
      "cell_type": "code",
      "execution_count": 36,
      "metadata": {
        "id": "wuM6sej3YgVM"
      },
      "outputs": [],
      "source": []
    }
  ],
  "metadata": {
    "kernelspec": {
      "display_name": "Python 3 (ipykernel)",
      "language": "python",
      "name": "python3"
    },
    "language_info": {
      "codemirror_mode": {
        "name": "ipython",
        "version": 3
      },
      "file_extension": ".py",
      "mimetype": "text/x-python",
      "name": "python",
      "nbconvert_exporter": "python",
      "pygments_lexer": "ipython3",
      "version": "3.9.15"
    },
    "nav_menu": {
      "height": "279px",
      "width": "309px"
    },
    "toc": {
      "nav_menu": {},
      "number_sections": true,
      "sideBar": true,
      "skip_h1_title": false,
      "toc_cell": false,
      "toc_position": {},
      "toc_section_display": "block",
      "toc_window_display": false
    },
    "colab": {
      "provenance": []
    }
  },
  "nbformat": 4,
  "nbformat_minor": 0
}