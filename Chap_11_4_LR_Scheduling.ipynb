{
 "cells": [
  {
   "cell_type": "markdown",
   "metadata": {},
   "source": [
    "# Training using the Fashion MNIST dataset\n",
    "We will train and evaluate an MLP on the Fashion MNIST dataset. It consists of 70.000 grayscale images of 28x28 pixels each, and there are 10 classes.\n",
    "\n",
    "Hyperparameters:\n",
    "1. Optimizer: Momentum optimization\n",
    "2. Activation function: RELU\n",
    "3. Weight initialization: Default (glorot_uniform)\n",
    "4. Learning rate schedule: Performance scheduling"
   ]
  },
  {
   "cell_type": "markdown",
   "metadata": {},
   "source": [
    "## Setup"
   ]
  },
  {
   "cell_type": "code",
   "execution_count": 1,
   "metadata": {},
   "outputs": [],
   "source": [
    "# Common imports\n",
    "import sys\n",
    "import os\n",
    "import sklearn\n",
    "import numpy as np\n",
    "import pandas as pd\n",
    "import tensorflow as tf\n",
    "from tensorflow import keras\n",
    "\n",
    "# to make this notebook's output stable across runs\n",
    "np.random.seed(42)\n",
    "tf.random.set_seed(42)\n",
    "\n",
    "# To plot pretty figures\n",
    "%matplotlib inline\n",
    "import matplotlib.pyplot as plt\n",
    "\n",
    "# Ignore useless warnings (see SciPy issue #5998)\n",
    "import warnings\n",
    "warnings.filterwarnings(action=\"ignore\", message=\"^internal gelsd\")"
   ]
  },
  {
   "cell_type": "markdown",
   "metadata": {},
   "source": [
    "## Load the data"
   ]
  },
  {
   "cell_type": "code",
   "execution_count": 2,
   "metadata": {},
   "outputs": [],
   "source": [
    "fashion_mnist = keras.datasets.fashion_mnist\n",
    "(X_train_full, y_train_full), (X_test, y_test) = fashion_mnist.load_data()"
   ]
  },
  {
   "cell_type": "code",
   "execution_count": 3,
   "metadata": {},
   "outputs": [],
   "source": [
    "# Split the full training set into a validation set and a (smaller) training set.\n",
    "# Normalize the data\n",
    "X_valid, X_train = X_train_full[:5000] / 255.0, X_train_full[5000:] / 255.0\n",
    "y_valid, y_train = y_train_full[:5000], y_train_full[5000:]\n",
    "X_test = X_test / 255.0"
   ]
  },
  {
   "cell_type": "code",
   "execution_count": 4,
   "metadata": {},
   "outputs": [
    {
     "data": {
      "text/plain": [
       "(55000, 28, 28)"
      ]
     },
     "execution_count": 4,
     "metadata": {},
     "output_type": "execute_result"
    }
   ],
   "source": [
    "X_train.shape"
   ]
  },
  {
   "cell_type": "markdown",
   "metadata": {},
   "source": [
    "## Create a model using the Sequential API"
   ]
  },
  {
   "cell_type": "code",
   "execution_count": 5,
   "metadata": {},
   "outputs": [],
   "source": [
    "model = keras.models.Sequential()\n",
    "# Input layer:\n",
    "model.add(keras.layers.Flatten(input_shape=[28, 28]))\n",
    "\n",
    "# Hidden layers:\n",
    "for layer in range(3):\n",
    "    model.add(keras.layers.Dense(100, activation=\"relu\"))\n",
    "        \n",
    "# Output layer.\n",
    "model.add(keras.layers.Dense(10, activation=\"softmax\"))"
   ]
  },
  {
   "cell_type": "markdown",
   "metadata": {},
   "source": [
    "## Compile the model\n",
    "You must at least specify the loss function and the optimizer to use. You can also specify a list of additional metrics to use during training and evaluation."
   ]
  },
  {
   "cell_type": "code",
   "execution_count": 6,
   "metadata": {},
   "outputs": [],
   "source": [
    "# The optimixer is Stochastic Gradient Descent with momentum optimization. The momentum is set to 0.9.\n",
    "# This value usually works well in practice. We use the default learning rate (0.01).\n",
    "model.compile(loss=\"sparse_categorical_crossentropy\",\n",
    "              optimizer=keras.optimizers.SGD(momentum=0.9),\n",
    "              metrics=[\"accuracy\"])"
   ]
  },
  {
   "cell_type": "markdown",
   "metadata": {},
   "source": [
    "## Train the model"
   ]
  },
  {
   "cell_type": "code",
   "execution_count": 7,
   "metadata": {
    "scrolled": true
   },
   "outputs": [
    {
     "name": "stdout",
     "output_type": "stream",
     "text": [
      "Epoch 1/40\n",
      "   1/1719 [..............................] - ETA: 4:46 - loss: 2.3005 - accuracy: 0.1250"
     ]
    },
    {
     "name": "stderr",
     "output_type": "stream",
     "text": [
      "2022-12-06 16:20:38.385795: W tensorflow/core/platform/profile_utils/cpu_utils.cc:128] Failed to get CPU frequency: 0 Hz\n"
     ]
    },
    {
     "name": "stdout",
     "output_type": "stream",
     "text": [
      "1719/1719 [==============================] - 2s 878us/step - loss: 0.5548 - accuracy: 0.8012 - val_loss: 0.4128 - val_accuracy: 0.8500 - lr: 0.0100\n",
      "Epoch 2/40\n",
      "1719/1719 [==============================] - 1s 765us/step - loss: 0.3974 - accuracy: 0.8548 - val_loss: 0.3935 - val_accuracy: 0.8562 - lr: 0.0100\n",
      "Epoch 3/40\n",
      "1719/1719 [==============================] - 1s 772us/step - loss: 0.3605 - accuracy: 0.8658 - val_loss: 0.3457 - val_accuracy: 0.8734 - lr: 0.0100\n",
      "Epoch 4/40\n",
      "1719/1719 [==============================] - 1s 770us/step - loss: 0.3356 - accuracy: 0.8769 - val_loss: 0.3222 - val_accuracy: 0.8828 - lr: 0.0100\n",
      "Epoch 5/40\n",
      "1719/1719 [==============================] - 1s 750us/step - loss: 0.3175 - accuracy: 0.8822 - val_loss: 0.3196 - val_accuracy: 0.8794 - lr: 0.0100\n",
      "Epoch 6/40\n",
      "1719/1719 [==============================] - 1s 739us/step - loss: 0.3010 - accuracy: 0.8905 - val_loss: 0.3597 - val_accuracy: 0.8758 - lr: 0.0100\n",
      "Epoch 7/40\n",
      "1719/1719 [==============================] - 1s 768us/step - loss: 0.2922 - accuracy: 0.8904 - val_loss: 0.3044 - val_accuracy: 0.8890 - lr: 0.0100\n",
      "Epoch 8/40\n",
      "1719/1719 [==============================] - 1s 769us/step - loss: 0.2792 - accuracy: 0.8952 - val_loss: 0.2979 - val_accuracy: 0.8892 - lr: 0.0100\n",
      "Epoch 9/40\n",
      "1719/1719 [==============================] - 1s 756us/step - loss: 0.2718 - accuracy: 0.8976 - val_loss: 0.3042 - val_accuracy: 0.8884 - lr: 0.0100\n",
      "Epoch 10/40\n",
      "1719/1719 [==============================] - 1s 752us/step - loss: 0.2603 - accuracy: 0.9020 - val_loss: 0.2994 - val_accuracy: 0.8932 - lr: 0.0100\n",
      "Epoch 11/40\n",
      "1719/1719 [==============================] - 1s 757us/step - loss: 0.2537 - accuracy: 0.9037 - val_loss: 0.3016 - val_accuracy: 0.8888 - lr: 0.0100\n",
      "Epoch 12/40\n",
      "1719/1719 [==============================] - 1s 760us/step - loss: 0.2474 - accuracy: 0.9065 - val_loss: 0.2995 - val_accuracy: 0.8884 - lr: 0.0100\n",
      "Epoch 13/40\n",
      "1719/1719 [==============================] - 1s 761us/step - loss: 0.2112 - accuracy: 0.9206 - val_loss: 0.2971 - val_accuracy: 0.8966 - lr: 0.0050\n",
      "Epoch 14/40\n",
      "1719/1719 [==============================] - 1s 762us/step - loss: 0.2028 - accuracy: 0.9229 - val_loss: 0.3029 - val_accuracy: 0.8898 - lr: 0.0050\n",
      "Epoch 15/40\n",
      "1719/1719 [==============================] - 1s 751us/step - loss: 0.1987 - accuracy: 0.9249 - val_loss: 0.2919 - val_accuracy: 0.8940 - lr: 0.0050\n",
      "Epoch 16/40\n",
      "1719/1719 [==============================] - 1s 764us/step - loss: 0.1943 - accuracy: 0.9252 - val_loss: 0.2874 - val_accuracy: 0.8966 - lr: 0.0050\n",
      "Epoch 17/40\n",
      "1719/1719 [==============================] - 1s 750us/step - loss: 0.1895 - accuracy: 0.9267 - val_loss: 0.2952 - val_accuracy: 0.8910 - lr: 0.0050\n",
      "Epoch 18/40\n",
      "1719/1719 [==============================] - 1s 761us/step - loss: 0.1862 - accuracy: 0.9302 - val_loss: 0.2940 - val_accuracy: 0.8944 - lr: 0.0050\n",
      "Epoch 19/40\n",
      "1719/1719 [==============================] - 1s 763us/step - loss: 0.1840 - accuracy: 0.9306 - val_loss: 0.2874 - val_accuracy: 0.8984 - lr: 0.0050\n",
      "Epoch 20/40\n",
      "1719/1719 [==============================] - 1s 748us/step - loss: 0.1786 - accuracy: 0.9320 - val_loss: 0.3030 - val_accuracy: 0.8896 - lr: 0.0050\n",
      "Epoch 21/40\n",
      "1719/1719 [==============================] - 1s 762us/step - loss: 0.1570 - accuracy: 0.9411 - val_loss: 0.2961 - val_accuracy: 0.8970 - lr: 0.0025\n",
      "Epoch 22/40\n",
      "1719/1719 [==============================] - 1s 749us/step - loss: 0.1525 - accuracy: 0.9430 - val_loss: 0.2981 - val_accuracy: 0.8970 - lr: 0.0025\n",
      "Epoch 23/40\n",
      "1719/1719 [==============================] - 1s 769us/step - loss: 0.1492 - accuracy: 0.9450 - val_loss: 0.2994 - val_accuracy: 0.8990 - lr: 0.0025\n",
      "Epoch 24/40\n",
      "1719/1719 [==============================] - 1s 759us/step - loss: 0.1469 - accuracy: 0.9449 - val_loss: 0.3129 - val_accuracy: 0.8948 - lr: 0.0025\n",
      "Epoch 25/40\n",
      "1719/1719 [==============================] - 1s 787us/step - loss: 0.1352 - accuracy: 0.9499 - val_loss: 0.3065 - val_accuracy: 0.8994 - lr: 0.0012\n",
      "Epoch 26/40\n",
      "1719/1719 [==============================] - 1s 785us/step - loss: 0.1326 - accuracy: 0.9513 - val_loss: 0.3025 - val_accuracy: 0.8994 - lr: 0.0012\n",
      "Epoch 27/40\n",
      "1719/1719 [==============================] - 1s 776us/step - loss: 0.1306 - accuracy: 0.9523 - val_loss: 0.3048 - val_accuracy: 0.8986 - lr: 0.0012\n",
      "Epoch 28/40\n",
      "1719/1719 [==============================] - 1s 745us/step - loss: 0.1292 - accuracy: 0.9532 - val_loss: 0.3168 - val_accuracy: 0.8960 - lr: 0.0012\n",
      "Epoch 29/40\n",
      "1719/1719 [==============================] - 1s 744us/step - loss: 0.1227 - accuracy: 0.9558 - val_loss: 0.3064 - val_accuracy: 0.8990 - lr: 6.2500e-04\n"
     ]
    }
   ],
   "source": [
    "# EarlyStopping (with rollback to the best model).\n",
    "early_stopping = keras.callbacks.EarlyStopping(patience=10, restore_best_weights=True)\n",
    "\n",
    "# Performance scheduling\n",
    "# (multiply the learning rate by a factor when the error stops dropping for a number of epochs, called patience)\n",
    "lr_scheduler = keras.callbacks.ReduceLROnPlateau(factor=0.5, patience=4)\n",
    "\n",
    "# Train the model with early stopping or performance scheduling or both. Training is much faster when\n",
    "# early stopping is used, but a slightly better accuracy is achieved with performance scheduling alone.\n",
    "history = model.fit(X_train, y_train, epochs=40,\n",
    "                    validation_data=(X_valid, y_valid),\n",
    "                    callbacks=[lr_scheduler, early_stopping])"
   ]
  },
  {
   "cell_type": "code",
   "execution_count": 8,
   "metadata": {},
   "outputs": [
    {
     "data": {
      "image/png": "[encoded data removed]",
      "text/plain": [
       "<Figure size 800x500 with 1 Axes>"
      ]
     },
     "metadata": {},
     "output_type": "display_data"
    }
   ],
   "source": [
    "# Show the learning curves.\n",
    "# (The training curves should be shifted half an epoch to the left to be completely comparable with\n",
    "# the validation curves).\n",
    "\n",
    "pd.DataFrame(history.history).plot(figsize=(8, 5))\n",
    "plt.grid(True)\n",
    "plt.gca().set_ylim(0, 1)\n",
    "plt.show()"
   ]
  },
  {
   "cell_type": "markdown",
   "metadata": {},
   "source": [
    "## Evaluate the model."
   ]
  },
  {
   "cell_type": "code",
   "execution_count": 9,
   "metadata": {},
   "outputs": [
    {
     "name": "stdout",
     "output_type": "stream",
     "text": [
      "313/313 [==============================] - 0s 444us/step - loss: 0.3236 - accuracy: 0.8928\n"
     ]
    },
    {
     "data": {
      "text/plain": [
       "[0.32362300157546997, 0.892799973487854]"
      ]
     },
     "execution_count": 9,
     "metadata": {},
     "output_type": "execute_result"
    }
   ],
   "source": [
    "model.evaluate(X_test, y_test)"
   ]
  }
 ],
 "metadata": {
  "kernelspec": {
   "display_name": "Python 3 (ipykernel)",
   "language": "python",
   "name": "python3"
  },
  "language_info": {
   "codemirror_mode": {
    "name": "ipython",
    "version": 3
   },
   "file_extension": ".py",
   "mimetype": "text/x-python",
   "name": "python",
   "nbconvert_exporter": "python",
   "pygments_lexer": "ipython3",
   "version": "3.9.15"
  },
  "nav_menu": {
   "height": "264px",
   "width": "369px"
  },
  "toc": {
   "navigate_menu": true,
   "number_sections": true,
   "sideBar": true,
   "threshold": 6,
   "toc_cell": false,
   "toc_section_display": "block",
   "toc_window_display": false
  }
 },
 "nbformat": 4,
 "nbformat_minor": 4
}
