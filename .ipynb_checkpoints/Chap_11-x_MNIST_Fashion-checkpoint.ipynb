{
 "cells": [
  {
   "cell_type": "markdown",
   "metadata": {},
   "source": [
    "**Chapter 11 – Training Deep Neural Networks**"
   ]
  },
  {
   "cell_type": "markdown",
   "metadata": {},
   "source": [
    "<table align=\"left\">\n",
    "  <td>\n",
    "    <a target=\"_blank\" href=\"https://colab.research.google.com/github/ageron/handson-ml2/blob/master/10_neural_nets_with_keras.ipynb\"><img src=\"https://www.tensorflow.org/images/colab_logo_32px.png\" />Run in Google Colab</a>\n",
    "  </td>\n",
    "</table>"
   ]
  },
  {
   "cell_type": "markdown",
   "metadata": {},
   "source": [
    "# Hyperparameter tuning using the Fashion MNIST dataset\n",
    "We will train and evaluate an MLP on the Fashion MNIST dataset. It consists of 70.000 grayscale images of 28x28 pixels each, and there are 10 classes.\n",
    "\n",
    "Hyperparameters:\n",
    "1. Optimizer: Momentum optimization\n",
    "2. Activation function: SELU\n",
    "3. Weight initialization: LeCun\n",
    "4. Learning rate schedule: Performance scheduling\n",
    "5. Regularization: Alpha dropout"
   ]
  },
  {
   "cell_type": "markdown",
   "metadata": {},
   "source": [
    "## Setup"
   ]
  },
  {
   "cell_type": "code",
   "execution_count": 1,
   "metadata": {},
   "outputs": [],
   "source": [
    "# Common imports\n",
    "import sys\n",
    "import os\n",
    "import sklearn\n",
    "import numpy as np\n",
    "import pandas as pd\n",
    "import tensorflow as tf\n",
    "from tensorflow import keras\n",
    "\n",
    "# to make this notebook's output stable across runs\n",
    "np.random.seed(42)\n",
    "tf.random.set_seed(42)\n",
    "\n",
    "# To plot pretty figures\n",
    "%matplotlib inline\n",
    "import matplotlib.pyplot as plt\n",
    "\n",
    "# Ignore useless warnings (see SciPy issue #5998)\n",
    "import warnings\n",
    "warnings.filterwarnings(action=\"ignore\", message=\"^internal gelsd\")"
   ]
  },
  {
   "cell_type": "markdown",
   "metadata": {},
   "source": [
    "## Load the data"
   ]
  },
  {
   "cell_type": "code",
   "execution_count": 2,
   "metadata": {},
   "outputs": [],
   "source": [
    "fashion_mnist = keras.datasets.fashion_mnist\n",
    "(X_train_full, y_train_full), (X_test, y_test) = fashion_mnist.load_data()"
   ]
  },
  {
   "cell_type": "code",
   "execution_count": 3,
   "metadata": {},
   "outputs": [],
   "source": [
    "# Split the full training set into a validation set and a (smaller) training set.\n",
    "# Normalize the input data to a range from 0 to 1.\n",
    "X_valid, X_train = X_train_full[:5000], X_train_full[5000:]\n",
    "y_valid, y_train = y_train_full[:5000], y_train_full[5000:]"
   ]
  },
  {
   "cell_type": "markdown",
   "metadata": {},
   "source": [
    "## Standardize the data\n",
    "Because we want to use the SELU activation function and LeCun weight initializer, we should standardize all the input features to a mean of 0 and a standard deviation of 1. Since each pixel is an input feature, there are 28x28=784 input features, and we need to compute the mean and standard deviation for each of them."
   ]
  },
  {
   "cell_type": "code",
   "execution_count": 4,
   "metadata": {},
   "outputs": [
    {
     "data": {
      "text/plain": [
       "(28, 28)"
      ]
     },
     "execution_count": 4,
     "metadata": {},
     "output_type": "execute_result"
    }
   ],
   "source": [
    "# Compute the mean for each pixel.\n",
    "pixel_means = X_train.mean(axis=0)\n",
    "pixel_means.shape"
   ]
  },
  {
   "cell_type": "code",
   "execution_count": 5,
   "metadata": {},
   "outputs": [
    {
     "data": {
      "text/plain": [
       "(28, 28)"
      ]
     },
     "execution_count": 5,
     "metadata": {},
     "output_type": "execute_result"
    }
   ],
   "source": [
    "# Compute the standard deviation for each pixel.\n",
    "pixel_stds = X_train.std(axis=0)\n",
    "pixel_stds.shape"
   ]
  },
  {
   "cell_type": "code",
   "execution_count": 6,
   "metadata": {},
   "outputs": [],
   "source": [
    "# Scale the inputs to mean 0 and standard deviation 1 to achieve self-normalization with SELU and LeCun.\n",
    "X_train_standardized = (X_train - pixel_means) / pixel_stds\n",
    "\n",
    "X_valid_standardized = (X_valid - X_valid.mean(axis=0)) / X_valid.std(axis=0)\n",
    "X_test_standardized = (X_test - X_test.mean(axis=0)) / X_test.std(axis=0)"
   ]
  },
  {
   "cell_type": "code",
   "execution_count": 7,
   "metadata": {},
   "outputs": [
    {
     "data": {
      "text/plain": [
       "array([[ 2.02095556e-15,  1.62754053e-15,  4.46262219e-16,\n",
       "         1.14067644e-15, -7.41440495e-16, -2.63235242e-15,\n",
       "        -1.34868732e-15, -2.60230625e-15,  1.66292233e-16,\n",
       "         6.41022589e-16,  1.30749956e-16, -1.75860942e-15,\n",
       "         1.77240041e-16, -4.50241864e-16,  5.90933363e-16,\n",
       "        -7.87533675e-16,  2.07429427e-15, -2.87339849e-16,\n",
       "        -4.16042958e-16, -6.74107235e-17,  2.68472416e-15,\n",
       "        -2.27123371e-16, -5.26867943e-16, -1.31060062e-15,\n",
       "        -2.53719217e-15, -4.31397342e-17,  1.73844777e-16,\n",
       "         1.29615371e-15],\n",
       "       [ 3.54259040e-15, -7.59241659e-16,  4.87038213e-15,\n",
       "        -8.00087774e-16, -1.62997292e-15,  7.67104562e-16,\n",
       "         1.68777820e-15, -2.78451504e-15,  6.71137893e-16,\n",
       "        -2.99043013e-15, -2.08019057e-15,  7.63978779e-16,\n",
       "         7.48899932e-16,  1.82329707e-15, -5.25664361e-16,\n",
       "        -9.88134826e-16,  9.29450456e-16, -5.45922903e-16,\n",
       "        -1.89077037e-16,  4.06024709e-16, -7.56264748e-16,\n",
       "         5.24574323e-16, -5.09536857e-16, -6.95127794e-16,\n",
       "         1.93974432e-15, -3.91134953e-15, -2.12833993e-15,\n",
       "        -4.34997366e-16],\n",
       "       [ 1.16915713e-15,  2.54497749e-15, -1.64231078e-15,\n",
       "         3.47755158e-16, -4.24395872e-16,  1.39421303e-15,\n",
       "        -2.15336133e-15,  9.67811689e-16,  1.02042415e-15,\n",
       "         4.21378084e-16,  2.65700593e-16,  4.80988986e-17,\n",
       "        -5.89157006e-16, -6.06597600e-16, -2.38718136e-17,\n",
       "        -7.33821085e-16,  2.34479103e-17, -4.45764637e-16,\n",
       "         1.45425894e-15, -3.23056733e-16,  4.44280976e-16,\n",
       "         8.02731619e-17,  2.28470071e-15, -2.07982722e-15,\n",
       "        -5.36960880e-15,  2.06685477e-15, -2.05969585e-15,\n",
       "        -5.66516455e-15],\n",
       "       [-1.45512327e-15,  1.78212293e-15, -1.11624699e-15,\n",
       "        -7.28211935e-16, -1.08861506e-15,  1.73117278e-15,\n",
       "        -1.89141026e-15,  1.48113844e-16,  5.14961811e-17,\n",
       "        -6.95015762e-16,  3.29090290e-16,  2.68585154e-16,\n",
       "        -2.47535326e-16, -3.65969881e-16, -2.82921161e-16,\n",
       "        -1.05333923e-16,  4.09329136e-17,  4.50685953e-16,\n",
       "        -8.19546451e-18,  7.57236698e-16,  8.82486003e-16,\n",
       "         1.09289143e-15,  4.18590415e-16, -5.53910453e-16,\n",
       "        -6.33915143e-16, -7.53606268e-16,  6.08405750e-16,\n",
       "        -8.92821171e-18],\n",
       "       [ 1.31337239e-15,  1.02845964e-15,  1.79397154e-15,\n",
       "         3.84364258e-16, -1.67785180e-15,  6.60407083e-16,\n",
       "         7.03699725e-16, -2.63750637e-16, -2.92394392e-16,\n",
       "         4.20203266e-16, -5.47921304e-16, -4.17657828e-16,\n",
       "         2.70946901e-16,  4.01848252e-16,  8.30172295e-16,\n",
       "         3.53854320e-16, -1.22326391e-18,  9.66539979e-17,\n",
       "         1.48406540e-17,  5.63823735e-16, -5.05510785e-16,\n",
       "        -3.02138113e-16, -4.27032147e-16, -8.41643926e-16,\n",
       "        -2.05964538e-16,  1.26391120e-15,  7.35242170e-16,\n",
       "        -1.78039553e-15],\n",
       "       [ 4.53804519e-15, -4.91072334e-16,  5.00741368e-16,\n",
       "         2.37829150e-15, -2.22007362e-15,  1.20062546e-15,\n",
       "        -4.50441704e-16, -2.50288679e-16, -4.39511054e-16,\n",
       "         3.04411042e-16,  3.22848818e-16, -3.50765881e-16,\n",
       "         1.49415833e-16, -1.98035527e-16, -2.25795140e-16,\n",
       "        -4.94436815e-16, -6.03678723e-17, -7.37422244e-16,\n",
       "        -2.42472709e-17,  7.19343776e-17, -5.33411699e-17,\n",
       "        -1.56238658e-16,  1.06976044e-15,  2.38368921e-16,\n",
       "         2.25294531e-16,  9.61027217e-16, -5.57106886e-16,\n",
       "        -3.12900514e-15],\n",
       "       [ 2.51478636e-15, -3.48257282e-16,  3.06546707e-16,\n",
       "        -1.39353175e-15,  8.07006986e-16, -5.04630681e-16,\n",
       "        -4.62627916e-16,  2.11856795e-16,  9.67414028e-16,\n",
       "        -3.03018217e-16,  6.18022805e-16,  4.83290176e-17,\n",
       "        -9.66338121e-17,  2.24886776e-16,  4.33459329e-16,\n",
       "         2.52892656e-16, -2.77931213e-16,  2.28810910e-16,\n",
       "         2.39662835e-16, -3.70915420e-16, -2.92852611e-16,\n",
       "         3.16116830e-16, -3.94997166e-17,  1.06007930e-15,\n",
       "         1.25990329e-15, -2.72147961e-16,  2.43558709e-15,\n",
       "        -1.47468199e-15],\n",
       "       [-8.43544931e-16,  1.17028508e-15, -1.06133688e-15,\n",
       "         1.44746740e-15,  1.03549391e-15,  1.13557446e-15,\n",
       "         8.28918752e-16, -3.50580171e-16, -3.40836450e-16,\n",
       "         1.98701661e-16, -4.05776423e-16,  2.28326449e-16,\n",
       "        -1.83352323e-16,  3.08682373e-16,  2.58476069e-16,\n",
       "        -3.22852856e-16,  2.40575236e-16,  4.02659724e-16,\n",
       "        -3.64815249e-16, -2.24261014e-16,  1.12423202e-16,\n",
       "        -2.37319255e-16, -3.68781773e-16,  9.44715013e-16,\n",
       "        -3.14520127e-16, -8.32418982e-16, -2.81825674e-15,\n",
       "         2.98972968e-16],\n",
       "       [-8.05355782e-17,  1.38508397e-15,  3.49935232e-16,\n",
       "        -2.36655140e-16, -1.26710965e-15, -7.76883608e-16,\n",
       "        -1.16627919e-15, -2.67402262e-16,  1.09219906e-15,\n",
       "        -3.66010252e-17,  7.31939761e-18,  1.67300517e-16,\n",
       "         4.28768132e-16, -3.29049919e-16, -2.40918396e-16,\n",
       "         1.41167885e-16, -1.28099551e-17, -5.70121728e-16,\n",
       "        -2.80430224e-16, -1.53868837e-16,  3.00184120e-16,\n",
       "        -5.13254086e-16, -3.94258363e-16, -2.69301753e-16,\n",
       "        -9.90841752e-16,  6.82536855e-16, -4.87704826e-16,\n",
       "        -7.09120641e-16],\n",
       "       [ 2.66742840e-15, -1.39883963e-15,  4.74111659e-16,\n",
       "        -1.74627585e-15, -2.72090027e-15, -7.68464080e-16,\n",
       "        -1.11622025e-15, -1.65435342e-16,  8.20878719e-17,\n",
       "         6.59177763e-16, -5.53637944e-16, -3.04697681e-16,\n",
       "         7.21128208e-16,  6.37130752e-16,  5.42063364e-16,\n",
       "         1.46412175e-16, -1.00662912e-16,  2.52573720e-16,\n",
       "         4.99289499e-16, -2.86114566e-16,  3.57116357e-16,\n",
       "        -5.75612285e-16, -1.17580289e-15, -3.07325882e-16,\n",
       "         1.03705277e-15,  1.67875814e-16,  9.47135299e-16,\n",
       "        -6.82245169e-16],\n",
       "       [ 4.82807229e-16, -8.31734681e-16,  1.30594525e-16,\n",
       "         8.60807385e-16, -1.32472417e-15, -5.23389413e-16,\n",
       "         1.71117665e-16,  3.17606547e-16,  3.50186546e-16,\n",
       "        -9.50027935e-17,  9.83253882e-17, -4.45324585e-16,\n",
       "        -1.47942264e-16,  2.75924738e-16,  2.37049774e-16,\n",
       "         2.37704805e-16, -1.66703015e-16,  1.61600026e-16,\n",
       "        -3.69425702e-16,  1.97660070e-16, -1.42552636e-17,\n",
       "         4.51394477e-16, -3.12773040e-16, -1.00721098e-15,\n",
       "         1.65584718e-16,  4.75665467e-16, -2.15568775e-15,\n",
       "        -3.84815412e-16],\n",
       "       [-8.84143264e-16,  1.06885511e-15,  9.50989792e-16,\n",
       "         4.35581874e-16,  1.51204705e-15, -2.30556584e-15,\n",
       "         6.45616893e-16,  2.22125348e-17, -8.83162230e-16,\n",
       "        -3.55796201e-16, -5.65737356e-16, -4.51416682e-16,\n",
       "         3.63834215e-16, -3.41294669e-16, -4.24105195e-17,\n",
       "        -1.01588182e-16, -5.56928241e-18,  1.98604769e-16,\n",
       "         3.97778780e-16,  8.39046004e-17,  7.25480282e-17,\n",
       "        -4.18803376e-16, -5.51182837e-16,  5.52854732e-16,\n",
       "         3.77948178e-16, -1.02026127e-15,  3.54213628e-16,\n",
       "         7.08852169e-16],\n",
       "       [-2.45640452e-15, -2.64818975e-15,  1.13642378e-15,\n",
       "        -7.42383932e-16, -3.67445468e-16, -1.70147734e-15,\n",
       "        -1.29135894e-15,  8.75198903e-17,  2.17539118e-16,\n",
       "         2.62040894e-16,  4.20742229e-16, -1.16524971e-16,\n",
       "         1.06375514e-16,  5.73198055e-17, -4.19422073e-17,\n",
       "         1.38111744e-16,  5.83634151e-17, -9.36927303e-17,\n",
       "        -1.02128407e-16,  1.47637458e-16, -5.50731178e-16,\n",
       "         4.26398311e-16, -1.08454659e-16, -4.95856891e-16,\n",
       "         3.94972943e-16, -2.91181221e-17,  2.95416620e-15,\n",
       "         1.13062085e-16],\n",
       "       [-3.99110858e-16,  2.69531872e-16, -6.67538752e-16,\n",
       "        -1.66254889e-15,  2.19091412e-15, -2.16209273e-15,\n",
       "        -1.06051329e-15,  5.86702404e-17, -3.92695977e-17,\n",
       "         1.25733767e-16,  1.21341321e-16,  3.27467346e-16,\n",
       "        -2.34063274e-16, -1.66048993e-16,  1.19710302e-16,\n",
       "        -1.08446585e-16, -7.79093961e-17, -2.67925076e-16,\n",
       "        -4.01444030e-17,  3.28424157e-18,  2.49170381e-16,\n",
       "         2.10215683e-16, -4.14146495e-16,  3.04001269e-16,\n",
       "        -2.82892901e-16, -2.17623899e-17, -8.36421841e-16,\n",
       "        -3.14741566e-15],\n",
       "       [ 1.85577109e-15, -7.00738457e-16,  3.30774801e-16,\n",
       "         8.37654188e-16,  9.52400785e-16, -6.37734814e-16,\n",
       "         3.39342695e-16,  2.99375676e-16, -5.61036066e-16,\n",
       "         2.93320923e-17, -7.20272327e-17,  1.63828547e-16,\n",
       "        -1.28592086e-16, -3.00769510e-18,  2.34156129e-17,\n",
       "        -2.77232782e-16,  2.73526656e-16, -1.02455418e-16,\n",
       "         1.11264533e-16,  3.07430848e-18, -5.06645231e-16,\n",
       "         3.89827060e-17, -3.60148275e-16,  1.71624331e-16,\n",
       "         6.49948782e-16, -5.31562673e-16,  1.31113706e-15,\n",
       "        -3.90680417e-15],\n",
       "       [ 2.17739463e-16, -5.07145840e-16,  1.01932705e-15,\n",
       "         5.57301680e-16,  3.37873164e-16,  5.75067267e-16,\n",
       "         1.67887926e-16,  4.11912928e-16, -5.29649052e-16,\n",
       "         2.19176192e-16,  5.12923037e-17, -1.39710465e-16,\n",
       "         7.98956860e-17,  3.60115977e-17, -2.19658635e-16,\n",
       "         3.43757346e-16, -4.67101105e-17,  2.03449379e-16,\n",
       "        -1.61468818e-16,  2.41556270e-16, -2.46225262e-16,\n",
       "        -3.25638506e-16, -7.71907790e-18, -4.63467648e-17,\n",
       "        -5.91526828e-17, -2.81875533e-16, -1.12235877e-15,\n",
       "         3.53004494e-16],\n",
       "       [ 9.34981385e-16,  4.09551181e-17, -2.09405220e-15,\n",
       "        -3.88210676e-16, -3.67677606e-16, -1.56891671e-16,\n",
       "        -5.82412275e-17,  3.00664544e-16, -8.28630094e-17,\n",
       "        -9.37512694e-17, -1.59904413e-16, -8.71626004e-17,\n",
       "        -6.48370246e-17, -3.79236037e-16, -2.42547396e-16,\n",
       "         8.29276042e-17,  2.98544522e-16, -9.12118865e-17,\n",
       "         3.55117955e-16, -1.94450516e-17,  1.59531984e-16,\n",
       "         5.45781602e-16, -4.61211372e-16, -3.30271164e-16,\n",
       "         3.39473904e-16,  4.74208551e-16, -1.26752346e-15,\n",
       "         1.40069925e-15],\n",
       "       [-7.03255636e-17, -2.22759122e-16,  1.19993561e-15,\n",
       "         1.07759357e-15, -3.95007259e-16, -2.80838168e-16,\n",
       "        -1.40541114e-16,  4.29058809e-16,  3.43341517e-17,\n",
       "        -1.74603766e-16, -6.41370795e-17, -2.89216126e-16,\n",
       "         2.71859807e-16, -6.85068164e-17, -5.61066345e-17,\n",
       "        -4.62670306e-17, -1.83796412e-16, -2.36881222e-16,\n",
       "         2.38611151e-16,  4.61933522e-17, -2.32854140e-17,\n",
       "        -3.17675179e-16, -4.53677500e-16, -3.29332521e-17,\n",
       "        -1.75112450e-16, -6.85673740e-16, -4.70116875e-16,\n",
       "         1.06754605e-15],\n",
       "       [-5.68216181e-16,  9.01032784e-16,  1.40760938e-15,\n",
       "        -5.83323289e-16,  8.09429291e-16,  3.49696030e-16,\n",
       "        -4.19232199e-16,  1.75435424e-16,  1.65193112e-16,\n",
       "        -3.08393588e-16, -1.96031070e-16, -1.66153959e-16,\n",
       "        -6.53315785e-18,  3.13197952e-16,  5.63640044e-17,\n",
       "         3.68816089e-17, -2.91988655e-17,  2.31693452e-17,\n",
       "         6.68233146e-17,  3.47802595e-17,  2.53378127e-16,\n",
       "        -2.86764551e-16, -5.58391717e-16, -8.60879045e-16,\n",
       "        -4.15954140e-16,  6.81959539e-17, -8.79950658e-16,\n",
       "         1.22100713e-15],\n",
       "       [-1.03544648e-15,  3.16680016e-16, -2.53462907e-15,\n",
       "         7.04123628e-16,  1.87343070e-16, -1.28283243e-16,\n",
       "        -6.95476426e-16,  4.26035470e-16,  1.78665163e-16,\n",
       "         2.92231895e-16, -2.28748333e-16, -2.01491349e-16,\n",
       "        -2.29836352e-16,  3.08393715e-16, -4.50687972e-16,\n",
       "        -7.32827940e-17,  2.24244865e-17, -3.14923845e-16,\n",
       "         1.29460079e-16,  1.45338287e-16, -2.38574816e-16,\n",
       "        -6.51247743e-16, -3.69603338e-18, -3.05736244e-16,\n",
       "        -3.07820436e-16,  7.65114235e-16, -1.11209627e-15,\n",
       "        -7.36570401e-16],\n",
       "       [ 1.72407543e-16, -1.32856554e-15, -2.32196081e-16,\n",
       "         5.10254465e-16,  1.64430086e-16,  1.21912581e-15,\n",
       "        -5.96125169e-16, -5.47634665e-16, -1.18281142e-16,\n",
       "        -4.04589493e-16,  3.22497584e-16, -2.59057422e-16,\n",
       "        -6.07917757e-17,  5.79201333e-16, -3.86838036e-16,\n",
       "        -2.21386545e-16, -6.20715600e-17,  5.84029794e-16,\n",
       "        -6.75100380e-16, -3.33729004e-16, -2.80264700e-16,\n",
       "        -4.08150281e-16,  2.38738322e-16,  6.59113168e-16,\n",
       "         1.60623030e-16,  3.36659993e-16,  7.20589245e-16,\n",
       "        -6.79771391e-16],\n",
       "       [-8.46264473e-16, -1.15888713e-15, -8.40751711e-16,\n",
       "        -1.07774799e-15,  5.68284813e-16,  1.02627805e-15,\n",
       "         7.70309069e-16, -7.74933653e-16, -1.95760176e-15,\n",
       "        -7.67450749e-16, -4.42882095e-16, -4.48247500e-17,\n",
       "        -5.27315565e-16, -5.87388724e-16, -2.62133749e-16,\n",
       "         6.85564736e-16,  1.06212009e-15, -1.39298674e-15,\n",
       "        -3.61060676e-16,  5.42806204e-16,  1.84163795e-16,\n",
       "         7.77075374e-16, -2.05819200e-16, -9.53580649e-16,\n",
       "        -5.10718740e-16,  1.00900702e-15, -3.80820628e-16,\n",
       "        -2.00788275e-15],\n",
       "       [-1.15673935e-15, -2.10475879e-15, -1.05773975e-16,\n",
       "        -8.78578018e-16,  6.03234634e-16, -4.99075528e-16,\n",
       "        -4.27238043e-16, -2.46988288e-16, -3.04782462e-16,\n",
       "        -5.53940732e-17,  1.71265022e-16, -5.29079810e-16,\n",
       "         6.47692001e-16,  2.42153772e-16,  1.97470323e-16,\n",
       "         5.23338948e-17,  7.56283924e-17, -6.59593592e-17,\n",
       "        -9.34295066e-16, -1.23769278e-15, -7.95077135e-16,\n",
       "         1.76288479e-15,  7.41507865e-17, -4.45062169e-16,\n",
       "        -2.28705943e-15,  1.71242818e-16,  5.27196468e-16,\n",
       "         1.35821354e-15],\n",
       "       [-7.23075135e-16, -1.39290599e-15, -1.23764635e-15,\n",
       "        -9.63534303e-16, -1.17829383e-15,  1.10396137e-15,\n",
       "         1.20361499e-15, -1.04500247e-15, -4.67876243e-16,\n",
       "        -1.30647008e-16,  2.14955326e-16, -2.73591251e-16,\n",
       "        -1.66371967e-16,  3.46861933e-16, -6.57712268e-16,\n",
       "        -2.89251451e-16,  7.73845634e-16,  2.60086902e-16,\n",
       "        -8.21682116e-16, -2.83821451e-16,  1.52464506e-15,\n",
       "         1.67641254e-15,  1.68260153e-15, -1.13018685e-15,\n",
       "         2.83276433e-16, -3.34663610e-16, -2.28821003e-16,\n",
       "        -3.72476797e-16],\n",
       "       [ 1.66326044e-15,  6.24628632e-16, -6.57082469e-16,\n",
       "        -5.42521583e-16, -8.65231119e-16,  5.68797534e-17,\n",
       "        -1.75485888e-15,  7.45857921e-16,  2.77927176e-16,\n",
       "         3.43079100e-17, -6.52649651e-17,  1.41789610e-16,\n",
       "        -1.54127216e-16, -1.55552339e-16,  2.28907802e-17,\n",
       "        -6.78188818e-16,  4.91840911e-16, -5.57440962e-16,\n",
       "        -8.01859589e-16, -5.09971863e-16,  1.61399177e-15,\n",
       "         6.94826015e-16,  6.19944500e-16,  1.02243466e-15,\n",
       "        -1.30896909e-15,  1.00523832e-15, -1.97728702e-15,\n",
       "        -2.09241412e-15],\n",
       "       [-6.17578715e-16, -2.32589705e-16, -1.03854804e-15,\n",
       "         2.05720491e-15, -1.41830790e-15, -3.07080422e-15,\n",
       "         2.15760339e-15,  3.60233056e-16, -3.67053862e-16,\n",
       "         6.13014690e-16,  6.22823005e-16, -4.21141909e-16,\n",
       "        -2.85577622e-16,  4.98599142e-16,  1.83719706e-16,\n",
       "        -4.54099384e-16, -2.17890352e-16, -5.06386852e-16,\n",
       "        -2.27997419e-16,  1.23200440e-15, -4.61154347e-16,\n",
       "        -1.88180784e-16,  5.24877111e-16, -1.01806240e-15,\n",
       "        -7.41857081e-16, -3.69686100e-16, -1.87119209e-15,\n",
       "        -1.61534069e-15],\n",
       "       [ 5.48615698e-16,  3.56072898e-15, -5.54112312e-17,\n",
       "         1.32119164e-15,  2.62853174e-15,  1.50398078e-15,\n",
       "         4.02388426e-15, -1.50164729e-15, -4.87141640e-16,\n",
       "        -4.79567901e-16, -7.46110244e-17,  6.11222184e-16,\n",
       "        -8.80063699e-17, -2.39606315e-18, -6.88299922e-16,\n",
       "         5.25559394e-16,  3.83446810e-16, -2.12702583e-16,\n",
       "         4.71321971e-16,  5.81118991e-16, -1.10974664e-15,\n",
       "        -6.48523659e-16,  8.63131788e-16, -5.59647278e-16,\n",
       "         1.05665981e-15, -2.99508903e-16, -5.57695304e-16,\n",
       "        -8.63260473e-16],\n",
       "       [ 2.26325133e-15,  7.82260872e-16,  3.34150636e-15,\n",
       "        -2.82000080e-15, -3.11170281e-15,  4.80871504e-15,\n",
       "         2.52231569e-15, -2.80177901e-16, -8.55116987e-16,\n",
       "        -7.83446035e-16, -1.69680431e-16,  8.86038717e-17,\n",
       "        -1.43360071e-17, -8.36926488e-17,  1.69755321e-15,\n",
       "        -4.87165863e-16,  9.40437627e-16, -9.97983514e-16,\n",
       "         2.17847962e-16,  7.06072574e-16,  6.36230462e-16,\n",
       "        -4.87806765e-16,  6.00564043e-16,  5.29142386e-16,\n",
       "        -1.24697020e-15, -6.49005092e-16, -1.58525465e-15,\n",
       "         4.86188615e-16]])"
      ]
     },
     "execution_count": 7,
     "metadata": {},
     "output_type": "execute_result"
    }
   ],
   "source": [
    "# Validate that the mean is close to 0 for each pixel.\n",
    "X_train_standardized.mean(axis=0)"
   ]
  },
  {
   "cell_type": "code",
   "execution_count": 8,
   "metadata": {},
   "outputs": [
    {
     "data": {
      "text/plain": [
       "array([[1., 1., 1., 1., 1., 1., 1., 1., 1., 1., 1., 1., 1., 1., 1., 1.,\n",
       "        1., 1., 1., 1., 1., 1., 1., 1., 1., 1., 1., 1.],\n",
       "       [1., 1., 1., 1., 1., 1., 1., 1., 1., 1., 1., 1., 1., 1., 1., 1.,\n",
       "        1., 1., 1., 1., 1., 1., 1., 1., 1., 1., 1., 1.],\n",
       "       [1., 1., 1., 1., 1., 1., 1., 1., 1., 1., 1., 1., 1., 1., 1., 1.,\n",
       "        1., 1., 1., 1., 1., 1., 1., 1., 1., 1., 1., 1.],\n",
       "       [1., 1., 1., 1., 1., 1., 1., 1., 1., 1., 1., 1., 1., 1., 1., 1.,\n",
       "        1., 1., 1., 1., 1., 1., 1., 1., 1., 1., 1., 1.],\n",
       "       [1., 1., 1., 1., 1., 1., 1., 1., 1., 1., 1., 1., 1., 1., 1., 1.,\n",
       "        1., 1., 1., 1., 1., 1., 1., 1., 1., 1., 1., 1.],\n",
       "       [1., 1., 1., 1., 1., 1., 1., 1., 1., 1., 1., 1., 1., 1., 1., 1.,\n",
       "        1., 1., 1., 1., 1., 1., 1., 1., 1., 1., 1., 1.],\n",
       "       [1., 1., 1., 1., 1., 1., 1., 1., 1., 1., 1., 1., 1., 1., 1., 1.,\n",
       "        1., 1., 1., 1., 1., 1., 1., 1., 1., 1., 1., 1.],\n",
       "       [1., 1., 1., 1., 1., 1., 1., 1., 1., 1., 1., 1., 1., 1., 1., 1.,\n",
       "        1., 1., 1., 1., 1., 1., 1., 1., 1., 1., 1., 1.],\n",
       "       [1., 1., 1., 1., 1., 1., 1., 1., 1., 1., 1., 1., 1., 1., 1., 1.,\n",
       "        1., 1., 1., 1., 1., 1., 1., 1., 1., 1., 1., 1.],\n",
       "       [1., 1., 1., 1., 1., 1., 1., 1., 1., 1., 1., 1., 1., 1., 1., 1.,\n",
       "        1., 1., 1., 1., 1., 1., 1., 1., 1., 1., 1., 1.],\n",
       "       [1., 1., 1., 1., 1., 1., 1., 1., 1., 1., 1., 1., 1., 1., 1., 1.,\n",
       "        1., 1., 1., 1., 1., 1., 1., 1., 1., 1., 1., 1.],\n",
       "       [1., 1., 1., 1., 1., 1., 1., 1., 1., 1., 1., 1., 1., 1., 1., 1.,\n",
       "        1., 1., 1., 1., 1., 1., 1., 1., 1., 1., 1., 1.],\n",
       "       [1., 1., 1., 1., 1., 1., 1., 1., 1., 1., 1., 1., 1., 1., 1., 1.,\n",
       "        1., 1., 1., 1., 1., 1., 1., 1., 1., 1., 1., 1.],\n",
       "       [1., 1., 1., 1., 1., 1., 1., 1., 1., 1., 1., 1., 1., 1., 1., 1.,\n",
       "        1., 1., 1., 1., 1., 1., 1., 1., 1., 1., 1., 1.],\n",
       "       [1., 1., 1., 1., 1., 1., 1., 1., 1., 1., 1., 1., 1., 1., 1., 1.,\n",
       "        1., 1., 1., 1., 1., 1., 1., 1., 1., 1., 1., 1.],\n",
       "       [1., 1., 1., 1., 1., 1., 1., 1., 1., 1., 1., 1., 1., 1., 1., 1.,\n",
       "        1., 1., 1., 1., 1., 1., 1., 1., 1., 1., 1., 1.],\n",
       "       [1., 1., 1., 1., 1., 1., 1., 1., 1., 1., 1., 1., 1., 1., 1., 1.,\n",
       "        1., 1., 1., 1., 1., 1., 1., 1., 1., 1., 1., 1.],\n",
       "       [1., 1., 1., 1., 1., 1., 1., 1., 1., 1., 1., 1., 1., 1., 1., 1.,\n",
       "        1., 1., 1., 1., 1., 1., 1., 1., 1., 1., 1., 1.],\n",
       "       [1., 1., 1., 1., 1., 1., 1., 1., 1., 1., 1., 1., 1., 1., 1., 1.,\n",
       "        1., 1., 1., 1., 1., 1., 1., 1., 1., 1., 1., 1.],\n",
       "       [1., 1., 1., 1., 1., 1., 1., 1., 1., 1., 1., 1., 1., 1., 1., 1.,\n",
       "        1., 1., 1., 1., 1., 1., 1., 1., 1., 1., 1., 1.],\n",
       "       [1., 1., 1., 1., 1., 1., 1., 1., 1., 1., 1., 1., 1., 1., 1., 1.,\n",
       "        1., 1., 1., 1., 1., 1., 1., 1., 1., 1., 1., 1.],\n",
       "       [1., 1., 1., 1., 1., 1., 1., 1., 1., 1., 1., 1., 1., 1., 1., 1.,\n",
       "        1., 1., 1., 1., 1., 1., 1., 1., 1., 1., 1., 1.],\n",
       "       [1., 1., 1., 1., 1., 1., 1., 1., 1., 1., 1., 1., 1., 1., 1., 1.,\n",
       "        1., 1., 1., 1., 1., 1., 1., 1., 1., 1., 1., 1.],\n",
       "       [1., 1., 1., 1., 1., 1., 1., 1., 1., 1., 1., 1., 1., 1., 1., 1.,\n",
       "        1., 1., 1., 1., 1., 1., 1., 1., 1., 1., 1., 1.],\n",
       "       [1., 1., 1., 1., 1., 1., 1., 1., 1., 1., 1., 1., 1., 1., 1., 1.,\n",
       "        1., 1., 1., 1., 1., 1., 1., 1., 1., 1., 1., 1.],\n",
       "       [1., 1., 1., 1., 1., 1., 1., 1., 1., 1., 1., 1., 1., 1., 1., 1.,\n",
       "        1., 1., 1., 1., 1., 1., 1., 1., 1., 1., 1., 1.],\n",
       "       [1., 1., 1., 1., 1., 1., 1., 1., 1., 1., 1., 1., 1., 1., 1., 1.,\n",
       "        1., 1., 1., 1., 1., 1., 1., 1., 1., 1., 1., 1.],\n",
       "       [1., 1., 1., 1., 1., 1., 1., 1., 1., 1., 1., 1., 1., 1., 1., 1.,\n",
       "        1., 1., 1., 1., 1., 1., 1., 1., 1., 1., 1., 1.]])"
      ]
     },
     "execution_count": 8,
     "metadata": {},
     "output_type": "execute_result"
    }
   ],
   "source": [
    "# Validate that the standard deviation is close to 1 for each pixel.\n",
    "X_train_standardized.std(axis=0)"
   ]
  },
  {
   "cell_type": "markdown",
   "metadata": {},
   "source": [
    "## Create a model using the Sequential API"
   ]
  },
  {
   "cell_type": "code",
   "execution_count": 9,
   "metadata": {},
   "outputs": [],
   "source": [
    "model = keras.models.Sequential()\n",
    "# Input layer:\n",
    "model.add(keras.layers.Flatten(input_shape=[28, 28]))\n",
    "\n",
    "# Hidden layers:\n",
    "for layer in range(3):\n",
    "    model.add(keras.layers.Dense(100, activation=\"selu\", kernel_initializer=\"lecun_normal\"))\n",
    "\n",
    "# Use alpha dropout in the last hidden layer.\n",
    "model.add(keras.layers.AlphaDropout(rate=0.2))\n",
    "    \n",
    "# Output layer.\n",
    "model.add(keras.layers.Dense(10, activation=\"softmax\"))"
   ]
  },
  {
   "cell_type": "markdown",
   "metadata": {},
   "source": [
    "## Compile the model\n",
    "You must at least specify the loss function and the optimizer to use. You can also specify a list of additional metrics to use during training and evaluation."
   ]
  },
  {
   "cell_type": "code",
   "execution_count": 10,
   "metadata": {},
   "outputs": [],
   "source": [
    "# The optimixer is Stochastic Gradient Descent with momentum optimization. The momentum is set to 0.9.\n",
    "# This value usually works well in practice. We use the default learning rate (0.01).\n",
    "model.compile(loss=\"sparse_categorical_crossentropy\",\n",
    "              optimizer=keras.optimizers.SGD(momentum=0.9),\n",
    "              metrics=[\"accuracy\"])"
   ]
  },
  {
   "cell_type": "markdown",
   "metadata": {},
   "source": [
    "## Train the model"
   ]
  },
  {
   "cell_type": "code",
   "execution_count": 11,
   "metadata": {},
   "outputs": [
    {
     "name": "stdout",
     "output_type": "stream",
     "text": [
      "Epoch 1/40\n",
      "1719/1719 [==============================] - 2s 879us/step - loss: 0.4978 - accuracy: 0.8246 - val_loss: 0.3922 - val_accuracy: 0.8706\n",
      "Epoch 2/40\n",
      "1719/1719 [==============================] - 1s 804us/step - loss: 0.3811 - accuracy: 0.8609 - val_loss: 0.4284 - val_accuracy: 0.8640\n",
      "Epoch 3/40\n",
      "1719/1719 [==============================] - 1s 811us/step - loss: 0.3433 - accuracy: 0.8751 - val_loss: 0.3934 - val_accuracy: 0.8764\n",
      "Epoch 4/40\n",
      "1719/1719 [==============================] - 1s 864us/step - loss: 0.3196 - accuracy: 0.8827 - val_loss: 0.4033 - val_accuracy: 0.8772\n",
      "Epoch 5/40\n",
      "1719/1719 [==============================] - 1s 824us/step - loss: 0.3013 - accuracy: 0.8878 - val_loss: 0.3580 - val_accuracy: 0.8872\n",
      "Epoch 6/40\n",
      "1719/1719 [==============================] - 1s 824us/step - loss: 0.2823 - accuracy: 0.8940 - val_loss: 0.3979 - val_accuracy: 0.8810\n",
      "Epoch 7/40\n",
      "1719/1719 [==============================] - 1s 848us/step - loss: 0.2720 - accuracy: 0.8980 - val_loss: 0.4378 - val_accuracy: 0.8748\n",
      "Epoch 8/40\n",
      "1719/1719 [==============================] - 1s 856us/step - loss: 0.2615 - accuracy: 0.9013 - val_loss: 0.3762 - val_accuracy: 0.8820\n",
      "Epoch 9/40\n",
      "1719/1719 [==============================] - 1s 836us/step - loss: 0.2462 - accuracy: 0.9062 - val_loss: 0.4040 - val_accuracy: 0.8890\n",
      "Epoch 10/40\n",
      "1719/1719 [==============================] - 1s 843us/step - loss: 0.1960 - accuracy: 0.9241 - val_loss: 0.3801 - val_accuracy: 0.8952\n",
      "Epoch 11/40\n",
      "1719/1719 [==============================] - 2s 878us/step - loss: 0.1805 - accuracy: 0.9298 - val_loss: 0.4183 - val_accuracy: 0.8910\n",
      "Epoch 12/40\n",
      "1719/1719 [==============================] - 1s 843us/step - loss: 0.1735 - accuracy: 0.9329 - val_loss: 0.4239 - val_accuracy: 0.8876\n",
      "Epoch 13/40\n",
      "1719/1719 [==============================] - 1s 853us/step - loss: 0.1687 - accuracy: 0.9349 - val_loss: 0.4247 - val_accuracy: 0.8938\n",
      "Epoch 14/40\n",
      "1719/1719 [==============================] - 1s 838us/step - loss: 0.1418 - accuracy: 0.9453 - val_loss: 0.4425 - val_accuracy: 0.8956\n",
      "Epoch 15/40\n",
      "1719/1719 [==============================] - 2s 880us/step - loss: 0.1347 - accuracy: 0.9479 - val_loss: 0.4377 - val_accuracy: 0.8922\n"
     ]
    }
   ],
   "source": [
    "# EarlyStopping (with rollback to the best model).\n",
    "early_stopping = keras.callbacks.EarlyStopping(patience=10, restore_best_weights=True)\n",
    "\n",
    "# Performance scheduling\n",
    "# (multiply the learning rate by a factor when the error stops dropping for a number of epochs, called patience)\n",
    "lr_scheduler = keras.callbacks.ReduceLROnPlateau(factor=0.5, patience=4)\n",
    "\n",
    "# Train the model with early stopping or performance scheduling or both. Training is much faster when\n",
    "# early stopping is used, but a slightly better accuracy is achieved with performance scheduling alone.\n",
    "history = model.fit(X_train_standardized, y_train, epochs=40,\n",
    "                    validation_data=(X_valid_standardized, y_valid),\n",
    "                    callbacks=[lr_scheduler, early_stopping])"
   ]
  },
  {
   "cell_type": "code",
   "execution_count": 12,
   "metadata": {},
   "outputs": [
    {
     "data": {
      "image/png": "[encoded data removed]",
      "text/plain": [
       "<Figure size 576x360 with 1 Axes>"
      ]
     },
     "metadata": {
      "needs_background": "light"
     },
     "output_type": "display_data"
    }
   ],
   "source": [
    "# Show the learning curves.\n",
    "# (The training curves should be shifted half an epoch to the left to be completely comparable with\n",
    "# the validation curves).\n",
    "\n",
    "pd.DataFrame(history.history).plot(figsize=(8, 5))\n",
    "plt.grid(True)\n",
    "plt.gca().set_ylim(0, 1)\n",
    "plt.show()"
   ]
  },
  {
   "cell_type": "markdown",
   "metadata": {},
   "source": [
    "## Evaluate the model."
   ]
  },
  {
   "cell_type": "code",
   "execution_count": 13,
   "metadata": {},
   "outputs": [
    {
     "name": "stdout",
     "output_type": "stream",
     "text": [
      "313/313 [==============================] - 0s 508us/step - loss: 0.4018 - accuracy: 0.8784\n"
     ]
    },
    {
     "data": {
      "text/plain": [
       "[0.40176934003829956, 0.8784000277519226]"
      ]
     },
     "execution_count": 13,
     "metadata": {},
     "output_type": "execute_result"
    }
   ],
   "source": [
    "model.evaluate(X_test_standardized, y_test)"
   ]
  }
 ],
 "metadata": {
  "kernelspec": {
   "display_name": "Python 3",
   "language": "python",
   "name": "python3"
  },
  "language_info": {
   "codemirror_mode": {
    "name": "ipython",
    "version": 3
   },
   "file_extension": ".py",
   "mimetype": "text/x-python",
   "name": "python",
   "nbconvert_exporter": "python",
   "pygments_lexer": "ipython3",
   "version": "3.8.5"
  },
  "nav_menu": {
   "height": "264px",
   "width": "369px"
  },
  "toc": {
   "navigate_menu": true,
   "number_sections": true,
   "sideBar": true,
   "threshold": 6,
   "toc_cell": false,
   "toc_section_display": "block",
   "toc_window_display": false
  }
 },
 "nbformat": 4,
 "nbformat_minor": 4
}
