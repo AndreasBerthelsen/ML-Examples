{
 "cells": [
  {
   "cell_type": "markdown",
   "metadata": {},
   "source": [
    "# Exam project - CIFAR10"
   ]
  },
  {
   "cell_type": "markdown",
   "metadata": {},
   "source": [
    "## Setup"
   ]
  },
  {
   "cell_type": "code",
   "execution_count": 1,
   "metadata": {},
   "outputs": [],
   "source": [
    "# Common imports\n",
    "import sys\n",
    "import os\n",
    "import time\n",
    "import sklearn\n",
    "import numpy as np\n",
    "import pandas as pd\n",
    "import tensorflow as tf\n",
    "from tensorflow import keras\n",
    "\n",
    "# to make this notebook's output stable across runs\n",
    "np.random.seed(42)\n",
    "tf.random.set_seed(42)\n",
    "\n",
    "%matplotlib inline\n",
    "import matplotlib.pyplot as plt\n",
    "\n",
    "# Ignore useless warnings (see SciPy issue #5998)\n",
    "import warnings\n",
    "warnings.filterwarnings(action = \"ignore\", message = \"^internal gelsd\")"
   ]
  },
  {
   "cell_type": "markdown",
   "metadata": {},
   "source": [
    "## Load the data\n",
    "Keras has a number of functions to load popular datasets in keras.datasets. The dataset is already split for you between a training set and a test set."
   ]
  },
  {
   "cell_type": "code",
   "execution_count": 2,
   "metadata": {},
   "outputs": [],
   "source": [
    "cifar10 = keras.datasets.cifar10\n",
    "(data_train_full, label_train_full), (data_test, label_test) = cifar10.load_data()"
   ]
  },
  {
   "cell_type": "code",
   "execution_count": 3,
   "metadata": {},
   "outputs": [
    {
     "data": {
      "text/plain": [
       "dtype('uint8')"
      ]
     },
     "execution_count": 3,
     "metadata": {},
     "output_type": "execute_result"
    }
   ],
   "source": [
    "data_train_full.dtype"
   ]
  },
  {
   "cell_type": "code",
   "execution_count": 4,
   "metadata": {},
   "outputs": [
    {
     "name": "stdout",
     "output_type": "stream",
     "text": [
      "Full set: (50000, 32, 32, 3)\n"
     ]
    }
   ],
   "source": [
    "# Show the size and dimension of the dataset. 50k element, 32x32 images, RGB color layers\n",
    "print('Full set:', data_train_full.shape)"
   ]
  },
  {
   "cell_type": "code",
   "execution_count": 5,
   "metadata": {},
   "outputs": [],
   "source": [
    "# Split the full training set into a validation set and a (smaller) training set, and scale the pixel intensities down to the 0-1 range and convert them to floats, by dividing by 255.0\n",
    "# validate: 0-5000, train: 5000-\n",
    "data_validation, data_train = data_train_full[:5000] / 255.0, data_train_full[5000:] / 255.0 \n",
    "label_validation, label_train = label_train_full[:5000], label_train_full[5000:]\n",
    "data_test = data_test / 255.0"
   ]
  },
  {
   "cell_type": "code",
   "execution_count": 6,
   "metadata": {},
   "outputs": [
    {
     "name": "stdout",
     "output_type": "stream",
     "text": [
      "Train: (45000, 32, 32, 3)\n",
      "Validate: (5000, 32, 32, 3)\n"
     ]
    }
   ],
   "source": [
    "print('Train:', data_train.shape)\n",
    "print('Validate:', data_validation.shape)"
   ]
  },
  {
   "cell_type": "code",
   "execution_count": 7,
   "metadata": {},
   "outputs": [
    {
     "data": {
      "image/png": "[encoded data removed]",
      "text/plain": [
       "<Figure size 432x288 with 1 Axes>"
      ]
     },
     "metadata": {
      "needs_background": "light"
     },
     "output_type": "display_data"
    }
   ],
   "source": [
    "#Plot an image using Matplotlib's imshow() function\n",
    "plt.imshow(data_train[0])\n",
    "plt.axis('off')\n",
    "plt.show()"
   ]
  },
  {
   "cell_type": "code",
   "execution_count": 8,
   "metadata": {},
   "outputs": [
    {
     "data": {
      "text/plain": [
       "'Frog'"
      ]
     },
     "execution_count": 8,
     "metadata": {},
     "output_type": "execute_result"
    }
   ],
   "source": [
    "class_names = [\"Airplane\", \"Automobile\", \"Bird\", \"Cat\", \"Deer\",\n",
    "               \"Dog\", \"Frog\", \"Horse\", \"Ship\", \"Truck\"]\n",
    "class_names[label_train[0][0]]"
   ]
  },
  {
   "cell_type": "markdown",
   "metadata": {},
   "source": [
    "## Standardize the data\n",
    "Because we want to use the SELU activation function and LeCun weight initializer, we should standardize all the input features to a mean of 0 and a standard deviation of 1. Since each pixel is an input feature, there are 28x28=784 input features, and we need to compute the mean and standard deviation for each of them."
   ]
  },
  {
   "cell_type": "code",
   "execution_count": 9,
   "metadata": {},
   "outputs": [
    {
     "name": "stdout",
     "output_type": "stream",
     "text": [
      "Means: (1, 32, 32, 3)\n",
      "Standard deviation: (1, 32, 32, 3)\n"
     ]
    }
   ],
   "source": [
    "# Compute the mean for each pixel.\n",
    "pixel_means = data_train.mean(axis = 0, keepdims = True)\n",
    "print('Means:', pixel_means.shape)\n",
    "\n",
    "# Compute the standard deviation for each pixel.\n",
    "pixel_stds = data_train.std(axis = 0, keepdims = True)\n",
    "print('Standard deviation:', pixel_stds.shape)"
   ]
  },
  {
   "cell_type": "code",
   "execution_count": 10,
   "metadata": {},
   "outputs": [],
   "source": [
    "# Scale the inputs to mean 0 and standard deviation 1 to achieve self-normalization with SELU and LeCun.\n",
    "data_train_standardized = (data_train - pixel_means) / pixel_stds\n",
    "data_validation_standardized = (data_validation - pixel_means) / pixel_stds\n",
    "data_test_standardized = (data_test - pixel_means) / pixel_stds"
   ]
  },
  {
   "cell_type": "code",
   "execution_count": 11,
   "metadata": {},
   "outputs": [
    {
     "data": {
      "text/plain": [
       "array([[[[-1.26346538e-14,  3.83544900e-14, -1.45948340e-14],\n",
       "         [ 2.16892529e-14,  3.88299911e-14,  2.69281881e-14],\n",
       "         [ 3.47678923e-15,  4.16193598e-14,  3.18685522e-14],\n",
       "         ...,\n",
       "         [ 1.76495559e-14,  6.61919458e-14,  2.21680353e-14],\n",
       "         [ 1.66235371e-14,  4.96447476e-14,  3.16723191e-14],\n",
       "         [ 5.35746262e-15,  4.45144613e-14,  1.94159799e-14]],\n",
       "\n",
       "        [[-1.99349722e-14, -3.55779603e-15,  4.97943415e-15],\n",
       "         [ 8.87647980e-15,  5.65033699e-14,  3.09045777e-14],\n",
       "         [-5.48222702e-15,  5.33282455e-14,  1.60781906e-14],\n",
       "         ...,\n",
       "         [ 1.28854458e-15,  1.69432073e-14,  1.56435655e-14],\n",
       "         [-5.75694554e-15,  1.82706147e-14, -1.09884447e-15],\n",
       "         [-4.67727092e-15,  2.91203851e-14,  1.43271271e-14]],\n",
       "\n",
       "        [[-2.38230916e-14,  2.39115740e-14,  1.65502476e-14],\n",
       "         [ 1.54112772e-15,  5.32304225e-14,  3.12234189e-16],\n",
       "         [ 1.71493387e-14,  4.50213447e-14,  7.41992640e-15],\n",
       "         ...,\n",
       "         [-1.77874505e-15,  4.72152293e-14,  1.28525487e-14],\n",
       "         [-6.03147162e-15,  3.13038336e-14,  3.94043316e-15],\n",
       "         [-1.94002690e-14,  1.50302511e-14, -5.88925452e-15]],\n",
       "\n",
       "        ...,\n",
       "\n",
       "        [[-4.60960998e-14, -1.94454588e-14, -8.10382070e-14],\n",
       "         [-3.54677349e-14, -4.98424431e-14, -7.99850365e-14],\n",
       "         [-3.65975324e-14, -3.90230478e-14, -8.54803130e-14],\n",
       "         ...,\n",
       "         [-3.67897416e-14, -6.23728082e-14, -9.42505136e-14],\n",
       "         [-1.58437313e-14, -3.79363997e-14, -7.64520299e-14],\n",
       "         [-4.15772404e-14, -3.31281521e-14, -8.95977860e-14]],\n",
       "\n",
       "        [[-4.34805297e-14, -4.10451087e-14, -8.99513180e-14],\n",
       "         [-2.61402097e-14, -4.29036698e-14, -8.77437589e-14],\n",
       "         [-2.83665577e-14, -4.81265375e-14, -9.01708965e-14],\n",
       "         ...,\n",
       "         [-1.80138497e-14, -3.16927669e-14, -9.20452455e-14],\n",
       "         [-2.67316786e-14, -3.08060639e-14, -1.03972352e-13],\n",
       "         [-3.25662115e-14, -3.01285367e-14, -9.15512851e-14]],\n",
       "\n",
       "        [[-1.09369310e-14, -2.43294557e-14, -8.53288010e-14],\n",
       "         [-2.01748821e-14, -3.88763009e-14, -6.32546213e-14],\n",
       "         [-1.38689881e-14, -2.84715911e-14, -7.70930728e-14],\n",
       "         ...,\n",
       "         [-3.06231805e-14, -4.06397632e-14, -7.22581476e-14],\n",
       "         [-3.19223388e-14, -3.26851484e-14, -9.55062252e-14],\n",
       "         [-3.65882386e-14, -2.06118480e-14, -9.47159659e-14]]]])"
      ]
     },
     "execution_count": 11,
     "metadata": {},
     "output_type": "execute_result"
    }
   ],
   "source": [
    "# Validate that the mean is close to 0 for each pixel.\n",
    "data_train_standardized.mean(axis = 0, keepdims = True)"
   ]
  },
  {
   "cell_type": "code",
   "execution_count": 12,
   "metadata": {},
   "outputs": [
    {
     "data": {
      "text/plain": [
       "array([[[[1., 1., 1.],\n",
       "         [1., 1., 1.],\n",
       "         [1., 1., 1.],\n",
       "         ...,\n",
       "         [1., 1., 1.],\n",
       "         [1., 1., 1.],\n",
       "         [1., 1., 1.]],\n",
       "\n",
       "        [[1., 1., 1.],\n",
       "         [1., 1., 1.],\n",
       "         [1., 1., 1.],\n",
       "         ...,\n",
       "         [1., 1., 1.],\n",
       "         [1., 1., 1.],\n",
       "         [1., 1., 1.]],\n",
       "\n",
       "        [[1., 1., 1.],\n",
       "         [1., 1., 1.],\n",
       "         [1., 1., 1.],\n",
       "         ...,\n",
       "         [1., 1., 1.],\n",
       "         [1., 1., 1.],\n",
       "         [1., 1., 1.]],\n",
       "\n",
       "        ...,\n",
       "\n",
       "        [[1., 1., 1.],\n",
       "         [1., 1., 1.],\n",
       "         [1., 1., 1.],\n",
       "         ...,\n",
       "         [1., 1., 1.],\n",
       "         [1., 1., 1.],\n",
       "         [1., 1., 1.]],\n",
       "\n",
       "        [[1., 1., 1.],\n",
       "         [1., 1., 1.],\n",
       "         [1., 1., 1.],\n",
       "         ...,\n",
       "         [1., 1., 1.],\n",
       "         [1., 1., 1.],\n",
       "         [1., 1., 1.]],\n",
       "\n",
       "        [[1., 1., 1.],\n",
       "         [1., 1., 1.],\n",
       "         [1., 1., 1.],\n",
       "         ...,\n",
       "         [1., 1., 1.],\n",
       "         [1., 1., 1.],\n",
       "         [1., 1., 1.]]]])"
      ]
     },
     "execution_count": 12,
     "metadata": {},
     "output_type": "execute_result"
    }
   ],
   "source": [
    "# Validate that the standard deviation is close to 1 for each pixel.\n",
    "data_train_standardized.std(axis = 0, keepdims = True)"
   ]
  },
  {
   "cell_type": "markdown",
   "metadata": {},
   "source": [
    "## Create the model using the Sequential API"
   ]
  },
  {
   "cell_type": "code",
   "execution_count": 13,
   "metadata": {},
   "outputs": [],
   "source": [
    "# Define the path for checkpoints and for saving the model.\n",
    "#model_path = os.path.join('ml_exam_cifar10', 'best_model')"
   ]
  },
  {
   "cell_type": "code",
   "execution_count": 14,
   "metadata": {},
   "outputs": [],
   "source": [
    "# Load a previously trained model.\n",
    "#model = keras.models.load_model(model_path)"
   ]
  },
  {
   "cell_type": "code",
   "execution_count": 15,
   "metadata": {},
   "outputs": [],
   "source": [
    "# Create a new model.\n",
    "model = keras.models.Sequential()\n",
    "\n",
    "# Input layer:\n",
    "model.add(keras.layers.Flatten(input_shape = [32, 32, 3]))\n",
    "\n",
    "# Hidden layers:\n",
    "for layer in range(10):\n",
    "    model.add(keras.layers.Dense(200, activation = \"selu\", kernel_initializer = \"lecun_normal\"))\n",
    "\n",
    "# Use alpha dropout in the last hidden layer.\n",
    "model.add(keras.layers.AlphaDropout(rate = 0.2))\n",
    "    \n",
    "# Output layer.\n",
    "model.add(keras.layers.Dense(10, activation = \"softmax\"))"
   ]
  },
  {
   "cell_type": "markdown",
   "metadata": {},
   "source": [
    "## Compile the model\n",
    "You must at least specify the loss function and the optimizer to use. You can also specify a list of additional metrics to use during training and evaluation."
   ]
  },
  {
   "cell_type": "code",
   "execution_count": 16,
   "metadata": {},
   "outputs": [],
   "source": [
    "# The optimixer is Stochastic Gradient Descent with momentum optimization. The momentum is set to 0.9.\n",
    "# This value usually works well in practice. We use the default learning rate (0.01).\n",
    "model.compile(loss = \"sparse_categorical_crossentropy\",\n",
    "              optimizer = keras.optimizers.SGD(momentum = 0.9),\n",
    "              metrics = [\"accuracy\"])"
   ]
  },
  {
   "cell_type": "markdown",
   "metadata": {},
   "source": [
    "## Train the model"
   ]
  },
  {
   "cell_type": "code",
   "execution_count": 17,
   "metadata": {},
   "outputs": [
    {
     "name": "stdout",
     "output_type": "stream",
     "text": [
      "Epoch 1/50\n",
      "1407/1407 [==============================] - 6s 4ms/step - loss: 1.9517 - accuracy: 0.3241 - val_loss: 2.0114 - val_accuracy: 0.3844\n",
      "Epoch 2/50\n",
      "1407/1407 [==============================] - 6s 4ms/step - loss: 1.6961 - accuracy: 0.4128 - val_loss: 2.0484 - val_accuracy: 0.3758\n",
      "Epoch 3/50\n",
      "1407/1407 [==============================] - 6s 4ms/step - loss: 1.6034 - accuracy: 0.4443 - val_loss: 1.7421 - val_accuracy: 0.4362\n",
      "Epoch 4/50\n",
      "1407/1407 [==============================] - 6s 4ms/step - loss: 1.5297 - accuracy: 0.4724 - val_loss: 1.7408 - val_accuracy: 0.4506\n",
      "Epoch 5/50\n",
      "1407/1407 [==============================] - 6s 4ms/step - loss: 1.4586 - accuracy: 0.4953 - val_loss: 1.6030 - val_accuracy: 0.4984\n",
      "Epoch 6/50\n",
      "1407/1407 [==============================] - 6s 4ms/step - loss: 1.4100 - accuracy: 0.5168 - val_loss: 1.6202 - val_accuracy: 0.5002\n",
      "Epoch 7/50\n",
      "1407/1407 [==============================] - 6s 4ms/step - loss: 1.3542 - accuracy: 0.5388 - val_loss: 1.7925 - val_accuracy: 0.4916\n",
      "Epoch 8/50\n",
      "1407/1407 [==============================] - 6s 4ms/step - loss: 1.3075 - accuracy: 0.5537 - val_loss: 1.7220 - val_accuracy: 0.4982\n",
      "Epoch 9/50\n",
      "1407/1407 [==============================] - 6s 4ms/step - loss: 1.2619 - accuracy: 0.5676 - val_loss: 1.7620 - val_accuracy: 0.4958\n",
      "Epoch 10/50\n",
      "1407/1407 [==============================] - 6s 4ms/step - loss: 1.0215 - accuracy: 0.6457 - val_loss: 1.5977 - val_accuracy: 0.5398\n",
      "Epoch 11/50\n",
      "1407/1407 [==============================] - 6s 4ms/step - loss: 0.9321 - accuracy: 0.6778 - val_loss: 1.7643 - val_accuracy: 0.5412\n",
      "Epoch 12/50\n",
      "1407/1407 [==============================] - 5s 4ms/step - loss: 0.8843 - accuracy: 0.6931 - val_loss: 1.7832 - val_accuracy: 0.5390\n",
      "Epoch 13/50\n",
      "1407/1407 [==============================] - 6s 4ms/step - loss: 0.8400 - accuracy: 0.7052 - val_loss: 1.8123 - val_accuracy: 0.5322\n",
      "Epoch 14/50\n",
      "1407/1407 [==============================] - 6s 4ms/step - loss: 0.8036 - accuracy: 0.7171 - val_loss: 1.8624 - val_accuracy: 0.5358\n",
      "Epoch 15/50\n",
      "1407/1407 [==============================] - 6s 4ms/step - loss: 0.6128 - accuracy: 0.7837 - val_loss: 2.0982 - val_accuracy: 0.5446\n",
      "Epoch 16/50\n",
      "1407/1407 [==============================] - 5s 4ms/step - loss: 0.5357 - accuracy: 0.8137 - val_loss: 2.3201 - val_accuracy: 0.5368\n",
      "Epoch 17/50\n",
      "1407/1407 [==============================] - 6s 4ms/step - loss: 0.5014 - accuracy: 0.8240 - val_loss: 2.4092 - val_accuracy: 0.5382\n",
      "Epoch 18/50\n",
      "1407/1407 [==============================] - 6s 4ms/step - loss: 0.4680 - accuracy: 0.8331 - val_loss: 2.6087 - val_accuracy: 0.5288\n",
      "Epoch 19/50\n",
      "1407/1407 [==============================] - 6s 4ms/step - loss: 0.3231 - accuracy: 0.8872 - val_loss: 3.0738 - val_accuracy: 0.5368\n",
      "Epoch 20/50\n",
      "1407/1407 [==============================] - 6s 4ms/step - loss: 0.2658 - accuracy: 0.9094 - val_loss: 3.3479 - val_accuracy: 0.5356\n"
     ]
    }
   ],
   "source": [
    "# EarlyStopping (with rollback to the best model).\n",
    "early_stopping = keras.callbacks.EarlyStopping(patience = 10, restore_best_weights = True)\n",
    "\n",
    "# Performance scheduling (multiply the learning rate by a factor when the error stops dropping for a number of epochs, called patience)\n",
    "lr_scheduler = keras.callbacks.ReduceLROnPlateau(factor = 0.5, patience = 4)\n",
    "\n",
    "#checkpoint = keras.callbacks.ModelCheckpoint(filepath = model_path, monitor = 'val_loss', save_best_only = True, )\n",
    "\n",
    "# Train the model with early stopping or performance scheduling or both. Training is much faster when early stopping is used, but a slightly better accuracy is achieved with performance scheduling alone.\n",
    "history = model.fit(data_train_standardized, label_train, epochs = 50,\n",
    "                    validation_data = (data_validation_standardized, label_validation),\n",
    "                    callbacks = [lr_scheduler, early_stopping])"
   ]
  },
  {
   "cell_type": "code",
   "execution_count": 18,
   "metadata": {},
   "outputs": [
    {
     "data": {
      "image/png": "[encoded data removed]",
      "text/plain": [
       "<Figure size 576x360 with 1 Axes>"
      ]
     },
     "metadata": {
      "needs_background": "light"
     },
     "output_type": "display_data"
    }
   ],
   "source": [
    "# Show the learning curves.\n",
    "# (The training curves should be shifted half an epoch to the left to be completely comparable with the validation curves).\n",
    "\n",
    "pd.DataFrame(history.history).plot(figsize = (8, 5))\n",
    "plt.grid(True)\n",
    "plt.gca().set_ylim(0, 1)\n",
    "plt.show()"
   ]
  },
  {
   "cell_type": "code",
   "execution_count": 19,
   "metadata": {},
   "outputs": [
    {
     "name": "stdout",
     "output_type": "stream",
     "text": [
      "313/313 [==============================] - 0s 2ms/step - loss: 1.6251 - accuracy: 0.5358\n"
     ]
    },
    {
     "data": {
      "text/plain": [
       "[1.6251401901245117, 0.5357999801635742]"
      ]
     },
     "execution_count": 19,
     "metadata": {},
     "output_type": "execute_result"
    }
   ],
   "source": [
    "# Evaluating the trained model using the test set.\n",
    "model.evaluate(data_test_standardized, label_test)"
   ]
  },
  {
   "cell_type": "code",
   "execution_count": 20,
   "metadata": {},
   "outputs": [],
   "source": [
    "# Save the model, if needed (OPTIONAL!)\n",
    "#keras.models.save_model(model, model_path, overwrite = True, include_optimizer = True)"
   ]
  },
  {
   "cell_type": "code",
   "execution_count": null,
   "metadata": {},
   "outputs": [],
   "source": []
  }
 ],
 "metadata": {
  "kernelspec": {
   "display_name": "Python 3",
   "language": "python",
   "name": "python3"
  },
  "language_info": {
   "codemirror_mode": {
    "name": "ipython",
    "version": 3
   },
   "file_extension": ".py",
   "mimetype": "text/x-python",
   "name": "python",
   "nbconvert_exporter": "python",
   "pygments_lexer": "ipython3",
   "version": "3.8.5"
  }
 },
 "nbformat": 4,
 "nbformat_minor": 2
}
