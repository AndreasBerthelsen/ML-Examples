{
 "cells": [
  {
   "cell_type": "markdown",
   "metadata": {},
   "source": [
    "**Chapter 11 – Training Deep Neural Networks**"
   ]
  },
  {
   "cell_type": "markdown",
   "metadata": {},
   "source": [
    "<table align=\"left\">\n",
    "  <td>\n",
    "    <a target=\"_blank\" href=\"https://colab.research.google.com/github/ageron/handson-ml2/blob/master/10_neural_nets_with_keras.ipynb\"><img src=\"https://www.tensorflow.org/images/colab_logo_32px.png\" />Run in Google Colab</a>\n",
    "  </td>\n",
    "</table>"
   ]
  },
  {
   "cell_type": "markdown",
   "metadata": {},
   "source": [
    "# Training using the Fashion MNIST dataset\n",
    "We will train and evaluate an MLP on the Fashion MNIST dataset. It consists of 70.000 grayscale images of 28x28 pixels each, and there are 10 classes.\n",
    "\n",
    "Hyperparameters:\n",
    "1. Optimizer: Stochastic Gradient Descent\n",
    "2. Activation function: RELU\n",
    "3. Weight initialization: Default"
   ]
  },
  {
   "cell_type": "markdown",
   "metadata": {},
   "source": [
    "## Setup"
   ]
  },
  {
   "cell_type": "code",
   "execution_count": 1,
   "metadata": {},
   "outputs": [],
   "source": [
    "# Common imports\n",
    "import sys\n",
    "import os\n",
    "import sklearn\n",
    "import numpy as np\n",
    "import pandas as pd\n",
    "import tensorflow as tf\n",
    "from tensorflow import keras\n",
    "\n",
    "# to make this notebook's output stable across runs\n",
    "np.random.seed(42)\n",
    "tf.random.set_seed(42)\n",
    "\n",
    "# To plot pretty figures\n",
    "%matplotlib inline\n",
    "import matplotlib.pyplot as plt\n",
    "\n",
    "# Ignore useless warnings (see SciPy issue #5998)\n",
    "import warnings\n",
    "warnings.filterwarnings(action=\"ignore\", message=\"^internal gelsd\")"
   ]
  },
  {
   "cell_type": "markdown",
   "metadata": {},
   "source": [
    "## Load the data"
   ]
  },
  {
   "cell_type": "code",
   "execution_count": 2,
   "metadata": {},
   "outputs": [],
   "source": [
    "fashion_mnist = keras.datasets.fashion_mnist\n",
    "(X_train_full, y_train_full), (X_test, y_test) = fashion_mnist.load_data()"
   ]
  },
  {
   "cell_type": "code",
   "execution_count": 3,
   "metadata": {},
   "outputs": [],
   "source": [
    "# Split the full training set into a validation set and a (smaller) training set.\n",
    "# Normalize the data\n",
    "X_valid, X_train = X_train_full[:5000] / 255.0, X_train_full[5000:] / 255.0\n",
    "y_valid, y_train = y_train_full[:5000], y_train_full[5000:]\n",
    "X_test = X_test / 255.0"
   ]
  },
  {
   "cell_type": "code",
   "execution_count": 4,
   "metadata": {},
   "outputs": [
    {
     "data": {
      "text/plain": [
       "(55000, 28, 28)"
      ]
     },
     "execution_count": 4,
     "metadata": {},
     "output_type": "execute_result"
    }
   ],
   "source": [
    "X_train.shape"
   ]
  },
  {
   "cell_type": "markdown",
   "metadata": {},
   "source": [
    "## Create a model using the Sequential API"
   ]
  },
  {
   "cell_type": "code",
   "execution_count": 5,
   "metadata": {},
   "outputs": [],
   "source": [
    "model = keras.models.Sequential()\n",
    "# Input layer:\n",
    "model.add(keras.layers.Flatten(input_shape=[28, 28]))\n",
    "\n",
    "# Hidden layers:\n",
    "for layer in range(3):\n",
    "    model.add(keras.layers.Dense(100, activation=\"relu\"))\n",
    "    \n",
    "model.add(keras.layers.AlphaDropout(rate=0.2))\n",
    "    \n",
    "# Output layer.\n",
    "model.add(keras.layers.Dense(10, activation=\"softmax\"))"
   ]
  },
  {
   "cell_type": "markdown",
   "metadata": {},
   "source": [
    "## Compile the model\n",
    "You must at least specify the loss function and the optimizer to use. You can also specify a list of additional metrics to use during training and evaluation."
   ]
  },
  {
   "cell_type": "code",
   "execution_count": 6,
   "metadata": {},
   "outputs": [],
   "source": [
    "# The optimixer is Stochastic Gradient Descent with momentum optimization. The momentum is set to 0.9.\n",
    "# This value usually works well in practice. We use the default learning rate (0.01).\n",
    "model.compile(loss=\"sparse_categorical_crossentropy\",\n",
    "              optimizer=\"sgd\",\n",
    "              metrics=[\"accuracy\"])"
   ]
  },
  {
   "cell_type": "markdown",
   "metadata": {},
   "source": [
    "## Train the model"
   ]
  },
  {
   "cell_type": "code",
   "execution_count": 7,
   "metadata": {},
   "outputs": [
    {
     "name": "stdout",
     "output_type": "stream",
     "text": [
      "Epoch 1/40\n",
      "1719/1719 [==============================] - 2s 1ms/step - loss: 1.2131 - accuracy: 0.5468 - val_loss: 0.6536 - val_accuracy: 0.7632\n",
      "Epoch 2/40\n",
      "1719/1719 [==============================] - 2s 1ms/step - loss: 0.7220 - accuracy: 0.7314 - val_loss: 0.5544 - val_accuracy: 0.8144\n",
      "Epoch 3/40\n",
      "1719/1719 [==============================] - 2s 1ms/step - loss: 0.6257 - accuracy: 0.7741 - val_loss: 0.5957 - val_accuracy: 0.8000\n",
      "Epoch 4/40\n",
      "1719/1719 [==============================] - 2s 1ms/step - loss: 0.5759 - accuracy: 0.7944 - val_loss: 0.4914 - val_accuracy: 0.8370\n",
      "Epoch 5/40\n",
      "1719/1719 [==============================] - 2s 1ms/step - loss: 0.5478 - accuracy: 0.8048 - val_loss: 0.4685 - val_accuracy: 0.8456\n",
      "Epoch 6/40\n",
      "1719/1719 [==============================] - 2s 1ms/step - loss: 0.5197 - accuracy: 0.8153 - val_loss: 0.4495 - val_accuracy: 0.8498\n",
      "Epoch 7/40\n",
      "1719/1719 [==============================] - 2s 1ms/step - loss: 0.5043 - accuracy: 0.8223 - val_loss: 0.4597 - val_accuracy: 0.8512\n",
      "Epoch 8/40\n",
      "1719/1719 [==============================] - 2s 1ms/step - loss: 0.4883 - accuracy: 0.8269 - val_loss: 0.4534 - val_accuracy: 0.8500\n",
      "Epoch 9/40\n",
      "1719/1719 [==============================] - 2s 1ms/step - loss: 0.4761 - accuracy: 0.8310 - val_loss: 0.4266 - val_accuracy: 0.8618\n",
      "Epoch 10/40\n",
      "1719/1719 [==============================] - 2s 1ms/step - loss: 0.4667 - accuracy: 0.8338 - val_loss: 0.4405 - val_accuracy: 0.8572\n",
      "Epoch 11/40\n",
      "1719/1719 [==============================] - 2s 1ms/step - loss: 0.4536 - accuracy: 0.8393 - val_loss: 0.4250 - val_accuracy: 0.8646\n",
      "Epoch 12/40\n",
      "1719/1719 [==============================] - 2s 1ms/step - loss: 0.4460 - accuracy: 0.8418 - val_loss: 0.4266 - val_accuracy: 0.8642\n",
      "Epoch 13/40\n",
      "1719/1719 [==============================] - 2s 1ms/step - loss: 0.4393 - accuracy: 0.8429 - val_loss: 0.4062 - val_accuracy: 0.8670\n",
      "Epoch 14/40\n",
      "1719/1719 [==============================] - 2s 1ms/step - loss: 0.4322 - accuracy: 0.8459 - val_loss: 0.4237 - val_accuracy: 0.8626\n",
      "Epoch 15/40\n",
      "1719/1719 [==============================] - 2s 1ms/step - loss: 0.4223 - accuracy: 0.8494 - val_loss: 0.4283 - val_accuracy: 0.8610\n",
      "Epoch 16/40\n",
      "1719/1719 [==============================] - 2s 1ms/step - loss: 0.4179 - accuracy: 0.8503 - val_loss: 0.4025 - val_accuracy: 0.8710\n",
      "Epoch 17/40\n",
      "1719/1719 [==============================] - 2s 1ms/step - loss: 0.4137 - accuracy: 0.8520 - val_loss: 0.4578 - val_accuracy: 0.8566\n",
      "Epoch 18/40\n",
      "1719/1719 [==============================] - 2s 1ms/step - loss: 0.4087 - accuracy: 0.8539 - val_loss: 0.4181 - val_accuracy: 0.8674\n",
      "Epoch 19/40\n",
      "1719/1719 [==============================] - 2s 1ms/step - loss: 0.3979 - accuracy: 0.8565 - val_loss: 0.4025 - val_accuracy: 0.8674\n",
      "Epoch 20/40\n",
      "1719/1719 [==============================] - 2s 1ms/step - loss: 0.3982 - accuracy: 0.8571 - val_loss: 0.4153 - val_accuracy: 0.8624\n",
      "Epoch 21/40\n",
      "1719/1719 [==============================] - 2s 1ms/step - loss: 0.3939 - accuracy: 0.8575 - val_loss: 0.3841 - val_accuracy: 0.8710\n",
      "Epoch 22/40\n",
      "1719/1719 [==============================] - 2s 1ms/step - loss: 0.3879 - accuracy: 0.8603 - val_loss: 0.3977 - val_accuracy: 0.8764\n",
      "Epoch 23/40\n",
      "1719/1719 [==============================] - 2s 1ms/step - loss: 0.3836 - accuracy: 0.8615 - val_loss: 0.3769 - val_accuracy: 0.8750\n",
      "Epoch 24/40\n",
      "1719/1719 [==============================] - 2s 1ms/step - loss: 0.3802 - accuracy: 0.8625 - val_loss: 0.3795 - val_accuracy: 0.8740\n",
      "Epoch 25/40\n",
      "1719/1719 [==============================] - 2s 1ms/step - loss: 0.3758 - accuracy: 0.8636 - val_loss: 0.3917 - val_accuracy: 0.8742\n",
      "Epoch 26/40\n",
      "1719/1719 [==============================] - 2s 1ms/step - loss: 0.3707 - accuracy: 0.8671 - val_loss: 0.3827 - val_accuracy: 0.8746\n",
      "Epoch 27/40\n",
      "1719/1719 [==============================] - 2s 1ms/step - loss: 0.3703 - accuracy: 0.8655 - val_loss: 0.3890 - val_accuracy: 0.8756\n",
      "Epoch 28/40\n",
      "1719/1719 [==============================] - 2s 1ms/step - loss: 0.3658 - accuracy: 0.8678 - val_loss: 0.3968 - val_accuracy: 0.8730\n"
     ]
    }
   ],
   "source": [
    "# EarlyStopping (with rollback to the best model).\n",
    "early_stopping = keras.callbacks.EarlyStopping(patience=5, restore_best_weights=True)\n",
    "\n",
    "# Train the model with early stopping or performance scheduling or both. Training is much faster when\n",
    "# early stopping is used, but a slightly better accuracy is achieved with performance scheduling alone.\n",
    "history = model.fit(X_train, y_train, epochs=40,\n",
    "                    validation_data=(X_valid, y_valid),\n",
    "                    callbacks=[early_stopping])"
   ]
  },
  {
   "cell_type": "code",
   "execution_count": 8,
   "metadata": {},
   "outputs": [
    {
     "data": {
      "image/png": "[encoded data removed]",
      "text/plain": [
       "<Figure size 576x360 with 1 Axes>"
      ]
     },
     "metadata": {
      "needs_background": "light"
     },
     "output_type": "display_data"
    }
   ],
   "source": [
    "# Show the learning curves.\n",
    "# (The training curves should be shifted half an epoch to the left to be completely comparable with\n",
    "# the validation curves).\n",
    "\n",
    "pd.DataFrame(history.history).plot(figsize=(8, 5))\n",
    "plt.grid(True)\n",
    "plt.gca().set_ylim(0, 1)\n",
    "plt.show()"
   ]
  },
  {
   "cell_type": "markdown",
   "metadata": {},
   "source": [
    "## Evaluate the model."
   ]
  },
  {
   "cell_type": "code",
   "execution_count": 9,
   "metadata": {},
   "outputs": [
    {
     "name": "stdout",
     "output_type": "stream",
     "text": [
      "313/313 [==============================] - 0s 817us/step - loss: 0.4155 - accuracy: 0.8630\n"
     ]
    },
    {
     "data": {
      "text/plain": [
       "[0.41548413038253784, 0.8629999756813049]"
      ]
     },
     "execution_count": 9,
     "metadata": {},
     "output_type": "execute_result"
    }
   ],
   "source": [
    "model.evaluate(X_test, y_test)"
   ]
  }
 ],
 "metadata": {
  "kernelspec": {
   "display_name": "Python 3",
   "language": "python",
   "name": "python3"
  },
  "language_info": {
   "codemirror_mode": {
    "name": "ipython",
    "version": 3
   },
   "file_extension": ".py",
   "mimetype": "text/x-python",
   "name": "python",
   "nbconvert_exporter": "python",
   "pygments_lexer": "ipython3",
   "version": "3.8.5"
  },
  "nav_menu": {
   "height": "264px",
   "width": "369px"
  },
  "toc": {
   "navigate_menu": true,
   "number_sections": true,
   "sideBar": true,
   "threshold": 6,
   "toc_cell": false,
   "toc_section_display": "block",
   "toc_window_display": false
  }
 },
 "nbformat": 4,
 "nbformat_minor": 4
}
