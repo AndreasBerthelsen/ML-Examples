{
 "cells": [
  {
   "cell_type": "markdown",
   "metadata": {},
   "source": [
    "**Chapter 11 – Training Deep Neural Networks**"
   ]
  },
  {
   "cell_type": "markdown",
   "metadata": {},
   "source": [
    "<table align=\"left\">\n",
    "  <td>\n",
    "    <a target=\"_blank\" href=\"https://colab.research.google.com/github/ageron/handson-ml2/blob/master/10_neural_nets_with_keras.ipynb\"><img src=\"https://www.tensorflow.org/images/colab_logo_32px.png\" />Run in Google Colab</a>\n",
    "  </td>\n",
    "</table>"
   ]
  },
  {
   "cell_type": "markdown",
   "metadata": {},
   "source": [
    "# Training using the Fashion MNIST dataset\n",
    "We will train and evaluate an MLP on the Fashion MNIST dataset. It consists of 70.000 grayscale images of 28x28 pixels each, and there are 10 classes.\n",
    "\n",
    "Hyperparameters:\n",
    "1. Optimizer: Momentum optimization\n",
    "2. Activation function: RELU\n",
    "3. Weight initialization: Default (glorot_uniform)\n",
    "4. Learning rate schedule: Performance scheduling"
   ]
  },
  {
   "cell_type": "markdown",
   "metadata": {},
   "source": [
    "## Setup"
   ]
  },
  {
   "cell_type": "code",
   "execution_count": 1,
   "metadata": {},
   "outputs": [],
   "source": [
    "# Common imports\n",
    "import sys\n",
    "import os\n",
    "import sklearn\n",
    "import numpy as np\n",
    "import pandas as pd\n",
    "import tensorflow as tf\n",
    "from tensorflow import keras\n",
    "\n",
    "# to make this notebook's output stable across runs\n",
    "np.random.seed(42)\n",
    "tf.random.set_seed(42)\n",
    "\n",
    "# To plot pretty figures\n",
    "%matplotlib inline\n",
    "import matplotlib.pyplot as plt\n",
    "\n",
    "# Ignore useless warnings (see SciPy issue #5998)\n",
    "import warnings\n",
    "warnings.filterwarnings(action=\"ignore\", message=\"^internal gelsd\")"
   ]
  },
  {
   "cell_type": "markdown",
   "metadata": {},
   "source": [
    "## Load the data"
   ]
  },
  {
   "cell_type": "code",
   "execution_count": 2,
   "metadata": {},
   "outputs": [],
   "source": [
    "fashion_mnist = keras.datasets.fashion_mnist\n",
    "(X_train_full, y_train_full), (X_test, y_test) = fashion_mnist.load_data()"
   ]
  },
  {
   "cell_type": "code",
   "execution_count": 3,
   "metadata": {},
   "outputs": [],
   "source": [
    "# Split the full training set into a validation set and a (smaller) training set.\n",
    "# Normalize the data\n",
    "X_valid, X_train = X_train_full[:5000] / 255.0, X_train_full[5000:] / 255.0\n",
    "y_valid, y_train = y_train_full[:5000], y_train_full[5000:]\n",
    "X_test = X_test / 255.0"
   ]
  },
  {
   "cell_type": "code",
   "execution_count": 4,
   "metadata": {},
   "outputs": [
    {
     "data": {
      "text/plain": [
       "(55000, 28, 28)"
      ]
     },
     "execution_count": 4,
     "metadata": {},
     "output_type": "execute_result"
    }
   ],
   "source": [
    "X_train.shape"
   ]
  },
  {
   "cell_type": "markdown",
   "metadata": {},
   "source": [
    "## Create a model using the Sequential API"
   ]
  },
  {
   "cell_type": "code",
   "execution_count": 5,
   "metadata": {},
   "outputs": [],
   "source": [
    "model = keras.models.Sequential()\n",
    "# Input layer:\n",
    "model.add(keras.layers.Flatten(input_shape=[28, 28]))\n",
    "\n",
    "# Hidden layers:\n",
    "for layer in range(3):\n",
    "    model.add(keras.layers.Dense(100, activation=\"relu\"))\n",
    "        \n",
    "# Output layer.\n",
    "model.add(keras.layers.Dense(10, activation=\"softmax\"))"
   ]
  },
  {
   "cell_type": "markdown",
   "metadata": {},
   "source": [
    "## Compile the model\n",
    "You must at least specify the loss function and the optimizer to use. You can also specify a list of additional metrics to use during training and evaluation."
   ]
  },
  {
   "cell_type": "code",
   "execution_count": 6,
   "metadata": {},
   "outputs": [],
   "source": [
    "# The optimixer is Stochastic Gradient Descent with momentum optimization. The momentum is set to 0.9.\n",
    "# This value usually works well in practice. We use the default learning rate (0.01).\n",
    "model.compile(loss=\"sparse_categorical_crossentropy\",\n",
    "              optimizer=keras.optimizers.SGD(momentum=0.9),\n",
    "              metrics=[\"accuracy\"])"
   ]
  },
  {
   "cell_type": "markdown",
   "metadata": {},
   "source": [
    "## Train the model"
   ]
  },
  {
   "cell_type": "code",
   "execution_count": 7,
   "metadata": {
    "scrolled": true
   },
   "outputs": [
    {
     "name": "stdout",
     "output_type": "stream",
     "text": [
      "Epoch 1/40\n",
      "1719/1719 [==============================] - 1s 825us/step - loss: 0.5535 - accuracy: 0.7999 - val_loss: 0.3949 - val_accuracy: 0.8606\n",
      "Epoch 2/40\n",
      "1719/1719 [==============================] - 1s 772us/step - loss: 0.3974 - accuracy: 0.8549 - val_loss: 0.4096 - val_accuracy: 0.8566\n",
      "Epoch 3/40\n",
      "1719/1719 [==============================] - 1s 750us/step - loss: 0.3580 - accuracy: 0.8669 - val_loss: 0.3558 - val_accuracy: 0.8726\n",
      "Epoch 4/40\n",
      "1719/1719 [==============================] - 1s 761us/step - loss: 0.3330 - accuracy: 0.8765 - val_loss: 0.3204 - val_accuracy: 0.8830\n",
      "Epoch 5/40\n",
      "1719/1719 [==============================] - 1s 761us/step - loss: 0.3149 - accuracy: 0.8820 - val_loss: 0.3336 - val_accuracy: 0.8736\n",
      "Epoch 6/40\n",
      "1719/1719 [==============================] - 1s 781us/step - loss: 0.2997 - accuracy: 0.8888 - val_loss: 0.3289 - val_accuracy: 0.8824\n",
      "Epoch 7/40\n",
      "1719/1719 [==============================] - 1s 783us/step - loss: 0.2894 - accuracy: 0.8918 - val_loss: 0.3076 - val_accuracy: 0.8904\n",
      "Epoch 8/40\n",
      "1719/1719 [==============================] - 1s 825us/step - loss: 0.2793 - accuracy: 0.8962 - val_loss: 0.3082 - val_accuracy: 0.8856\n",
      "Epoch 9/40\n",
      "1719/1719 [==============================] - 1s 794us/step - loss: 0.2695 - accuracy: 0.8981 - val_loss: 0.3065 - val_accuracy: 0.8870\n",
      "Epoch 10/40\n",
      "1719/1719 [==============================] - 1s 796us/step - loss: 0.2590 - accuracy: 0.9035 - val_loss: 0.3078 - val_accuracy: 0.8914\n",
      "Epoch 11/40\n",
      "1719/1719 [==============================] - 1s 781us/step - loss: 0.2526 - accuracy: 0.9043 - val_loss: 0.3075 - val_accuracy: 0.8918\n",
      "Epoch 12/40\n",
      "1719/1719 [==============================] - 1s 776us/step - loss: 0.2450 - accuracy: 0.9071 - val_loss: 0.3313 - val_accuracy: 0.8810\n",
      "Epoch 13/40\n",
      "1719/1719 [==============================] - 1s 810us/step - loss: 0.2401 - accuracy: 0.9088 - val_loss: 0.2985 - val_accuracy: 0.8958\n",
      "Epoch 14/40\n",
      "1719/1719 [==============================] - 1s 776us/step - loss: 0.2317 - accuracy: 0.9117 - val_loss: 0.3095 - val_accuracy: 0.8902\n",
      "Epoch 15/40\n",
      "1719/1719 [==============================] - 1s 775us/step - loss: 0.2238 - accuracy: 0.9159 - val_loss: 0.2994 - val_accuracy: 0.8932\n",
      "Epoch 16/40\n",
      "1719/1719 [==============================] - 1s 776us/step - loss: 0.2203 - accuracy: 0.9169 - val_loss: 0.3202 - val_accuracy: 0.8870\n",
      "Epoch 17/40\n",
      "1719/1719 [==============================] - 1s 793us/step - loss: 0.2129 - accuracy: 0.9180 - val_loss: 0.3055 - val_accuracy: 0.8900\n",
      "Epoch 18/40\n",
      "1719/1719 [==============================] - 1s 763us/step - loss: 0.1805 - accuracy: 0.9318 - val_loss: 0.2892 - val_accuracy: 0.9022\n",
      "Epoch 19/40\n",
      "1719/1719 [==============================] - 1s 791us/step - loss: 0.1737 - accuracy: 0.9345 - val_loss: 0.2943 - val_accuracy: 0.9030\n",
      "Epoch 20/40\n",
      "1719/1719 [==============================] - 1s 809us/step - loss: 0.1682 - accuracy: 0.9362 - val_loss: 0.3071 - val_accuracy: 0.8988\n",
      "Epoch 21/40\n",
      "1719/1719 [==============================] - 1s 782us/step - loss: 0.1643 - accuracy: 0.9372 - val_loss: 0.3020 - val_accuracy: 0.8994\n",
      "Epoch 22/40\n",
      "1719/1719 [==============================] - 1s 769us/step - loss: 0.1609 - accuracy: 0.9390 - val_loss: 0.3048 - val_accuracy: 0.8996\n",
      "Epoch 23/40\n",
      "1719/1719 [==============================] - 1s 763us/step - loss: 0.1418 - accuracy: 0.9473 - val_loss: 0.2986 - val_accuracy: 0.9010\n",
      "Epoch 24/40\n",
      "1719/1719 [==============================] - 1s 807us/step - loss: 0.1383 - accuracy: 0.9480 - val_loss: 0.3083 - val_accuracy: 0.9002\n",
      "Epoch 25/40\n",
      "1719/1719 [==============================] - 1s 831us/step - loss: 0.1344 - accuracy: 0.9490 - val_loss: 0.3131 - val_accuracy: 0.8984\n",
      "Epoch 26/40\n",
      "1719/1719 [==============================] - 1s 781us/step - loss: 0.1325 - accuracy: 0.9503 - val_loss: 0.3131 - val_accuracy: 0.8996\n",
      "Epoch 27/40\n",
      "1719/1719 [==============================] - 1s 797us/step - loss: 0.1217 - accuracy: 0.9551 - val_loss: 0.3114 - val_accuracy: 0.9018\n",
      "Epoch 28/40\n",
      "1719/1719 [==============================] - 1s 823us/step - loss: 0.1194 - accuracy: 0.9557 - val_loss: 0.3181 - val_accuracy: 0.9006\n"
     ]
    }
   ],
   "source": [
    "# EarlyStopping (with rollback to the best model).\n",
    "early_stopping = keras.callbacks.EarlyStopping(patience=10, restore_best_weights=True)\n",
    "\n",
    "# Performance scheduling\n",
    "# (multiply the learning rate by a factor when the error stops dropping for a number of epochs, called patience)\n",
    "lr_scheduler = keras.callbacks.ReduceLROnPlateau(factor=0.5, patience=4)\n",
    "\n",
    "# Train the model with early stopping or performance scheduling or both. Training is much faster when\n",
    "# early stopping is used, but a slightly better accuracy is achieved with performance scheduling alone.\n",
    "history = model.fit(X_train, y_train, epochs=40,\n",
    "                    validation_data=(X_valid, y_valid),\n",
    "                    callbacks=[lr_scheduler, early_stopping])"
   ]
  },
  {
   "cell_type": "code",
   "execution_count": 8,
   "metadata": {},
   "outputs": [
    {
     "data": {
      "image/png": "[encoded data removed]",
      "text/plain": [
       "<Figure size 576x360 with 1 Axes>"
      ]
     },
     "metadata": {
      "needs_background": "light"
     },
     "output_type": "display_data"
    }
   ],
   "source": [
    "# Show the learning curves.\n",
    "# (The training curves should be shifted half an epoch to the left to be completely comparable with\n",
    "# the validation curves).\n",
    "\n",
    "pd.DataFrame(history.history).plot(figsize=(8, 5))\n",
    "plt.grid(True)\n",
    "plt.gca().set_ylim(0, 1)\n",
    "plt.show()"
   ]
  },
  {
   "cell_type": "markdown",
   "metadata": {},
   "source": [
    "## Evaluate the model."
   ]
  },
  {
   "cell_type": "code",
   "execution_count": 9,
   "metadata": {},
   "outputs": [
    {
     "name": "stdout",
     "output_type": "stream",
     "text": [
      "313/313 [==============================] - 0s 529us/step - loss: 0.3308 - accuracy: 0.8931\n"
     ]
    },
    {
     "data": {
      "text/plain": [
       "[0.3308495879173279, 0.8931000232696533]"
      ]
     },
     "execution_count": 9,
     "metadata": {},
     "output_type": "execute_result"
    }
   ],
   "source": [
    "model.evaluate(X_test, y_test)"
   ]
  }
 ],
 "metadata": {
  "kernelspec": {
   "display_name": "Python 3",
   "language": "python",
   "name": "python3"
  },
  "language_info": {
   "codemirror_mode": {
    "name": "ipython",
    "version": 3
   },
   "file_extension": ".py",
   "mimetype": "text/x-python",
   "name": "python",
   "nbconvert_exporter": "python",
   "pygments_lexer": "ipython3",
   "version": "3.8.5"
  },
  "nav_menu": {
   "height": "264px",
   "width": "369px"
  },
  "toc": {
   "navigate_menu": true,
   "number_sections": true,
   "sideBar": true,
   "threshold": 6,
   "toc_cell": false,
   "toc_section_display": "block",
   "toc_window_display": false
  }
 },
 "nbformat": 4,
 "nbformat_minor": 4
}
