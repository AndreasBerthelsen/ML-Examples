{
 "cells": [
  {
   "cell_type": "markdown",
   "metadata": {
    "id": "8FCuv1Qkpn_V"
   },
   "source": [
    "# MLP Regressor trained with the California housing dataset"
   ]
  },
  {
   "cell_type": "markdown",
   "metadata": {
    "id": "HgZOnJ-vpn_X"
   },
   "source": [
    "## Setup"
   ]
  },
  {
   "cell_type": "code",
   "execution_count": 1,
   "metadata": {
    "id": "WizM4unQpn_Y"
   },
   "outputs": [],
   "source": [
    "# Common imports\n",
    "import sys\n",
    "import os\n",
    "import sklearn\n",
    "import numpy as np\n",
    "import pandas as pd\n",
    "import tensorflow as tf\n",
    "from tensorflow import keras\n",
    "\n",
    "# to make this notebook's output stable across runs\n",
    "np.random.seed(42)\n",
    "tf.random.set_seed(42)\n",
    "\n",
    "# To plot pretty figures\n",
    "%matplotlib inline\n",
    "import matplotlib.pyplot as plt\n",
    "\n",
    "# Import the SSL module and configure certificate verification to be optional to avoid SSLCertVerificationError.\n",
    "import ssl\n",
    "ssl.SSLContext.verify_mode = ssl.VerifyMode.CERT_OPTIONAL\n",
    "\n",
    "# Ignore useless warnings (see SciPy issue #5998)\n",
    "import warnings\n",
    "warnings.filterwarnings(action=\"ignore\", message=\"^internal gelsd\")"
   ]
  },
  {
   "cell_type": "markdown",
   "metadata": {
    "id": "dAhJ2A_Kpn_Z"
   },
   "source": [
    "## Load and split the dataset"
   ]
  },
  {
   "cell_type": "code",
   "execution_count": 2,
   "metadata": {
    "id": "mpOM30iDpn_Z"
   },
   "outputs": [],
   "source": [
    "from sklearn.datasets import fetch_california_housing\n",
    "from sklearn.model_selection import train_test_split\n",
    "from sklearn.preprocessing import StandardScaler\n",
    "from sklearn.preprocessing import MinMaxScaler\n",
    "\n",
    "housing = fetch_california_housing()\n",
    "\n",
    "X_train_full, X_test, y_train_full, y_test = train_test_split(housing.data, housing.target, random_state=42)\n",
    "X_train, X_valid, y_train, y_valid = train_test_split(X_train_full, y_train_full, random_state=42)\n",
    "\n",
    "# We could scale the features using SciKitLearn's StandardScaler or MinMaxScaler,\n",
    "# but in this example we will use the Keras Normalization Layer instead.\n",
    "#scaler = StandardScaler()\n",
    "#X_train = scaler.fit_transform(X_train)\n",
    "#X_valid = scaler.transform(X_valid)\n",
    "#X_test = scaler.transform(X_test)"
   ]
  },
  {
   "cell_type": "code",
   "execution_count": 3,
   "metadata": {
    "colab": {
     "base_uri": "https://localhost:8080/"
    },
    "id": "TLLbArbxpn_Z",
    "outputId": "ecd6ef0a-2dd6-418c-855e-81b347837a41"
   },
   "outputs": [
    {
     "data": {
      "text/plain": [
       "['MedInc',\n",
       " 'HouseAge',\n",
       " 'AveRooms',\n",
       " 'AveBedrms',\n",
       " 'Population',\n",
       " 'AveOccup',\n",
       " 'Latitude',\n",
       " 'Longitude']"
      ]
     },
     "execution_count": 3,
     "metadata": {},
     "output_type": "execute_result"
    }
   ],
   "source": [
    "# Display the feature names.\n",
    "# Note that this dataset is not exactly the same as the \"housing\" dataset used in chapter 2.\n",
    "# As a result, we cannot completely compare the RMSE of this model with the RMSEs of the\n",
    "# other models that we trained and tested using the dataset from chapter 2.\n",
    "housing.feature_names"
   ]
  },
  {
   "cell_type": "code",
   "execution_count": 4,
   "metadata": {
    "id": "qCXFVlM_pn_a"
   },
   "outputs": [],
   "source": [
    "# Computing the mean median_house_value.\n",
    "# We can see that the target value have been scaled down by a factor of 100000\n",
    "# compared to the Housing dataset used in chapter 2."
   ]
  },
  {
   "cell_type": "code",
   "execution_count": 5,
   "metadata": {
    "colab": {
     "base_uri": "https://localhost:8080/"
    },
    "id": "tn-TfIhfpn_a",
    "outputId": "a0e39fb4-210b-464b-9cd6-fa8ef6faaba0"
   },
   "outputs": [
    {
     "data": {
      "text/plain": [
       "(20640, 8)"
      ]
     },
     "execution_count": 5,
     "metadata": {},
     "output_type": "execute_result"
    }
   ],
   "source": [
    "housing.data.shape"
   ]
  },
  {
   "cell_type": "markdown",
   "metadata": {
    "id": "qhgtjhYQpn_a"
   },
   "source": [
    "## Build, compile, train and evaluate a model"
   ]
  },
  {
   "cell_type": "code",
   "execution_count": 6,
   "metadata": {
    "id": "UdQWyA2Qpn_b",
    "scrolled": true
   },
   "outputs": [
    {
     "name": "stderr",
     "output_type": "stream",
     "text": [
      "2024-02-25 19:32:58.539919: W tensorflow/tsl/platform/profile_utils/cpu_utils.cc:128] Failed to get CPU frequency: 0 Hz\n"
     ]
    }
   ],
   "source": [
    "# Build a model.\n",
    "# We don't need to specify an input layer, since we don't need to convert the input array.\n",
    "# For regression problems, we don't use an activation function in the output layer.\n",
    "\n",
    "# Keras Normalization Layer. See:\n",
    "#   https://www.tensorflow.org/api_docs/python/tf/keras/layers/Normalization\n",
    "norm_layer = keras.layers.Normalization(axis=1)\n",
    "\n",
    "model = keras.models.Sequential([\n",
    "    norm_layer,\n",
    "    # hidden layers\n",
    "    keras.layers.Dense(50, activation=\"relu\"),\n",
    "    keras.layers.Dense(50, activation=\"relu\"),\n",
    "    keras.layers.Dense(50, activation=\"relu\"),\n",
    "    # output layer\n",
    "    keras.layers.Dense(1)\n",
    "])\n",
    "\n",
    "# Compile the model.\n",
    "# For regression problems, we use the \"mean_squared_error\" as loss function.\n",
    "model.compile(loss=\"mse\", optimizer=\"sgd\", metrics=[\"RootMeanSquaredError\"])\n",
    "\n",
    "# Normalize inputs.\n",
    "norm_layer.adapt(X_train)"
   ]
  },
  {
   "cell_type": "code",
   "execution_count": 7,
   "metadata": {
    "colab": {
     "base_uri": "https://localhost:8080/"
    },
    "id": "aXYx7GuUpn_b",
    "outputId": "92e60de2-c7f9-4276-c9ee-b4cdb8694082"
   },
   "outputs": [
    {
     "name": "stdout",
     "output_type": "stream",
     "text": [
      "Epoch 1/50\n",
      "363/363 [==============================] - 0s 706us/step - loss: 0.7231 - root_mean_squared_error: 0.8504 - val_loss: 1.3043 - val_root_mean_squared_error: 1.1421\n",
      "Epoch 2/50\n",
      "363/363 [==============================] - 0s 467us/step - loss: 0.4075 - root_mean_squared_error: 0.6383 - val_loss: 3.2450 - val_root_mean_squared_error: 1.8014\n",
      "Epoch 3/50\n",
      "363/363 [==============================] - 0s 660us/step - loss: 0.4003 - root_mean_squared_error: 0.6327 - val_loss: 0.3931 - val_root_mean_squared_error: 0.6269\n",
      "Epoch 4/50\n",
      "363/363 [==============================] - 0s 463us/step - loss: 0.3594 - root_mean_squared_error: 0.5995 - val_loss: 0.4442 - val_root_mean_squared_error: 0.6665\n",
      "Epoch 5/50\n",
      "363/363 [==============================] - 0s 471us/step - loss: 0.3503 - root_mean_squared_error: 0.5918 - val_loss: 0.3445 - val_root_mean_squared_error: 0.5869\n",
      "Epoch 6/50\n",
      "363/363 [==============================] - 0s 468us/step - loss: 0.3419 - root_mean_squared_error: 0.5847 - val_loss: 0.4653 - val_root_mean_squared_error: 0.6821\n",
      "Epoch 7/50\n",
      "363/363 [==============================] - 0s 475us/step - loss: 0.3441 - root_mean_squared_error: 0.5866 - val_loss: 0.3774 - val_root_mean_squared_error: 0.6143\n",
      "Epoch 8/50\n",
      "363/363 [==============================] - 0s 474us/step - loss: 0.3357 - root_mean_squared_error: 0.5794 - val_loss: 0.3413 - val_root_mean_squared_error: 0.5842\n",
      "Epoch 9/50\n",
      "363/363 [==============================] - 0s 478us/step - loss: 0.3288 - root_mean_squared_error: 0.5734 - val_loss: 0.3383 - val_root_mean_squared_error: 0.5816\n",
      "Epoch 10/50\n",
      "363/363 [==============================] - 0s 467us/step - loss: 0.3244 - root_mean_squared_error: 0.5695 - val_loss: 0.3743 - val_root_mean_squared_error: 0.6118\n",
      "Epoch 11/50\n",
      "363/363 [==============================] - 0s 469us/step - loss: 0.3219 - root_mean_squared_error: 0.5674 - val_loss: 0.3196 - val_root_mean_squared_error: 0.5653\n",
      "Epoch 12/50\n",
      "363/363 [==============================] - 0s 473us/step - loss: 0.3191 - root_mean_squared_error: 0.5649 - val_loss: 0.3947 - val_root_mean_squared_error: 0.6283\n",
      "Epoch 13/50\n",
      "363/363 [==============================] - 0s 471us/step - loss: 0.3149 - root_mean_squared_error: 0.5611 - val_loss: 0.3092 - val_root_mean_squared_error: 0.5560\n",
      "Epoch 14/50\n",
      "363/363 [==============================] - 0s 471us/step - loss: 0.3108 - root_mean_squared_error: 0.5575 - val_loss: 0.3007 - val_root_mean_squared_error: 0.5484\n",
      "Epoch 15/50\n",
      "363/363 [==============================] - 0s 470us/step - loss: 0.3095 - root_mean_squared_error: 0.5564 - val_loss: 0.3791 - val_root_mean_squared_error: 0.6157\n",
      "Epoch 16/50\n",
      "363/363 [==============================] - 0s 470us/step - loss: 0.3058 - root_mean_squared_error: 0.5530 - val_loss: 0.4500 - val_root_mean_squared_error: 0.6708\n",
      "Epoch 17/50\n",
      "363/363 [==============================] - 0s 470us/step - loss: 0.3024 - root_mean_squared_error: 0.5499 - val_loss: 0.3778 - val_root_mean_squared_error: 0.6147\n",
      "Epoch 18/50\n",
      "363/363 [==============================] - 0s 472us/step - loss: 0.3007 - root_mean_squared_error: 0.5484 - val_loss: 0.3425 - val_root_mean_squared_error: 0.5853\n",
      "Epoch 19/50\n",
      "363/363 [==============================] - 0s 469us/step - loss: 0.2995 - root_mean_squared_error: 0.5473 - val_loss: 0.3361 - val_root_mean_squared_error: 0.5797\n",
      "Epoch 20/50\n",
      "363/363 [==============================] - 0s 470us/step - loss: 0.2978 - root_mean_squared_error: 0.5457 - val_loss: 0.4506 - val_root_mean_squared_error: 0.6713\n",
      "Epoch 21/50\n",
      "363/363 [==============================] - 0s 472us/step - loss: 0.2945 - root_mean_squared_error: 0.5427 - val_loss: 0.3118 - val_root_mean_squared_error: 0.5584\n",
      "Epoch 22/50\n",
      "363/363 [==============================] - 0s 470us/step - loss: 0.2919 - root_mean_squared_error: 0.5403 - val_loss: 0.3529 - val_root_mean_squared_error: 0.5940\n",
      "Epoch 23/50\n",
      "363/363 [==============================] - 0s 475us/step - loss: 0.2905 - root_mean_squared_error: 0.5389 - val_loss: 0.3138 - val_root_mean_squared_error: 0.5602\n",
      "Epoch 24/50\n",
      "363/363 [==============================] - 0s 469us/step - loss: 0.2884 - root_mean_squared_error: 0.5371 - val_loss: 0.4187 - val_root_mean_squared_error: 0.6470\n",
      "Epoch 25/50\n",
      "363/363 [==============================] - 0s 469us/step - loss: 0.2874 - root_mean_squared_error: 0.5361 - val_loss: 0.2819 - val_root_mean_squared_error: 0.5309\n",
      "Epoch 26/50\n",
      "363/363 [==============================] - 0s 468us/step - loss: 0.2857 - root_mean_squared_error: 0.5345 - val_loss: 0.4587 - val_root_mean_squared_error: 0.6773\n",
      "Epoch 27/50\n",
      "363/363 [==============================] - 0s 471us/step - loss: 0.2865 - root_mean_squared_error: 0.5353 - val_loss: 0.4296 - val_root_mean_squared_error: 0.6554\n",
      "Epoch 28/50\n",
      "363/363 [==============================] - 0s 468us/step - loss: 0.2867 - root_mean_squared_error: 0.5354 - val_loss: 0.3324 - val_root_mean_squared_error: 0.5765\n",
      "Epoch 29/50\n",
      "363/363 [==============================] - 0s 467us/step - loss: 0.2826 - root_mean_squared_error: 0.5316 - val_loss: 0.2990 - val_root_mean_squared_error: 0.5468\n",
      "Epoch 30/50\n",
      "363/363 [==============================] - 0s 473us/step - loss: 0.2820 - root_mean_squared_error: 0.5310 - val_loss: 0.3084 - val_root_mean_squared_error: 0.5554\n",
      "Epoch 31/50\n",
      "363/363 [==============================] - 0s 476us/step - loss: 0.2837 - root_mean_squared_error: 0.5327 - val_loss: 0.3070 - val_root_mean_squared_error: 0.5541\n",
      "Epoch 32/50\n",
      "363/363 [==============================] - 0s 476us/step - loss: 0.2792 - root_mean_squared_error: 0.5284 - val_loss: 0.3242 - val_root_mean_squared_error: 0.5694\n",
      "Epoch 33/50\n",
      "363/363 [==============================] - 0s 469us/step - loss: 0.2782 - root_mean_squared_error: 0.5274 - val_loss: 0.2828 - val_root_mean_squared_error: 0.5318\n",
      "Epoch 34/50\n",
      "363/363 [==============================] - 0s 473us/step - loss: 0.2746 - root_mean_squared_error: 0.5240 - val_loss: 0.2959 - val_root_mean_squared_error: 0.5439\n",
      "Epoch 35/50\n",
      "363/363 [==============================] - 0s 470us/step - loss: 0.2740 - root_mean_squared_error: 0.5234 - val_loss: 0.3511 - val_root_mean_squared_error: 0.5926\n",
      "Epoch 36/50\n",
      "363/363 [==============================] - 0s 485us/step - loss: 0.2736 - root_mean_squared_error: 0.5231 - val_loss: 0.2932 - val_root_mean_squared_error: 0.5415\n",
      "Epoch 37/50\n",
      "363/363 [==============================] - 0s 476us/step - loss: 0.2720 - root_mean_squared_error: 0.5215 - val_loss: 0.3212 - val_root_mean_squared_error: 0.5667\n",
      "Epoch 38/50\n",
      "363/363 [==============================] - 0s 466us/step - loss: 0.2696 - root_mean_squared_error: 0.5193 - val_loss: 0.2779 - val_root_mean_squared_error: 0.5271\n",
      "Epoch 39/50\n",
      "363/363 [==============================] - 0s 471us/step - loss: 0.2763 - root_mean_squared_error: 0.5256 - val_loss: 0.2941 - val_root_mean_squared_error: 0.5423\n",
      "Epoch 40/50\n",
      "363/363 [==============================] - 0s 474us/step - loss: 0.2713 - root_mean_squared_error: 0.5209 - val_loss: 0.3049 - val_root_mean_squared_error: 0.5522\n",
      "Epoch 41/50\n",
      "363/363 [==============================] - 0s 472us/step - loss: 0.2697 - root_mean_squared_error: 0.5194 - val_loss: 0.2855 - val_root_mean_squared_error: 0.5343\n",
      "Epoch 42/50\n",
      "363/363 [==============================] - 0s 474us/step - loss: 0.2702 - root_mean_squared_error: 0.5198 - val_loss: 0.2864 - val_root_mean_squared_error: 0.5352\n",
      "Epoch 43/50\n",
      "363/363 [==============================] - 0s 468us/step - loss: 0.2660 - root_mean_squared_error: 0.5157 - val_loss: 0.2956 - val_root_mean_squared_error: 0.5437\n",
      "Epoch 44/50\n",
      "363/363 [==============================] - 0s 455us/step - loss: 0.2648 - root_mean_squared_error: 0.5146 - val_loss: 0.3153 - val_root_mean_squared_error: 0.5615\n",
      "Epoch 45/50\n",
      "363/363 [==============================] - 0s 469us/step - loss: 0.2642 - root_mean_squared_error: 0.5140 - val_loss: 0.2922 - val_root_mean_squared_error: 0.5405\n",
      "Epoch 46/50\n",
      "363/363 [==============================] - 0s 480us/step - loss: 0.2652 - root_mean_squared_error: 0.5150 - val_loss: 0.3044 - val_root_mean_squared_error: 0.5517\n",
      "Epoch 47/50\n",
      "363/363 [==============================] - 0s 466us/step - loss: 0.2641 - root_mean_squared_error: 0.5139 - val_loss: 0.2809 - val_root_mean_squared_error: 0.5300\n"
     ]
    },
    {
     "name": "stdout",
     "output_type": "stream",
     "text": [
      "Epoch 48/50\n",
      "363/363 [==============================] - 0s 468us/step - loss: 0.2631 - root_mean_squared_error: 0.5129 - val_loss: 0.2798 - val_root_mean_squared_error: 0.5289\n",
      "Epoch 49/50\n",
      "363/363 [==============================] - 0s 455us/step - loss: 0.2610 - root_mean_squared_error: 0.5109 - val_loss: 0.2834 - val_root_mean_squared_error: 0.5324\n",
      "Epoch 50/50\n",
      "363/363 [==============================] - 0s 467us/step - loss: 0.2610 - root_mean_squared_error: 0.5109 - val_loss: 0.3099 - val_root_mean_squared_error: 0.5566\n"
     ]
    }
   ],
   "source": [
    "# Train the model.\n",
    "history = model.fit(X_train, y_train, epochs=50, validation_data=(X_valid, y_valid))"
   ]
  },
  {
   "cell_type": "code",
   "execution_count": 8,
   "metadata": {
    "colab": {
     "base_uri": "https://localhost:8080/",
     "height": 451
    },
    "id": "Z95S4Gd0pn_b",
    "outputId": "2e9c2a7b-8e2c-4db3-e866-5094207097cd"
   },
   "outputs": [
    {
     "data": {
      "image/png": "[encoded data removed]",
      "text/plain": [
       "<Figure size 800x500 with 1 Axes>"
      ]
     },
     "metadata": {},
     "output_type": "display_data"
    }
   ],
   "source": [
    "# Show the learning curves.\n",
    "pd.DataFrame(history.history).plot(figsize=(8, 5))\n",
    "plt.grid(True)\n",
    "plt.gca().set_ylim(0, 1)\n",
    "plt.show()"
   ]
  },
  {
   "cell_type": "code",
   "execution_count": 9,
   "metadata": {
    "colab": {
     "base_uri": "https://localhost:8080/"
    },
    "id": "5JRECEHspn_b",
    "outputId": "f56ab8d5-1e28-41f8-d8f6-20afc8b20315"
   },
   "outputs": [
    {
     "name": "stdout",
     "output_type": "stream",
     "text": [
      "162/162 [==============================] - 0s 337us/step - loss: 0.2803 - root_mean_squared_error: 0.5294\n"
     ]
    }
   ],
   "source": [
    "# Evaluate the model (outputs the MSE).\n",
    "loss = model.evaluate(X_test, y_test)"
   ]
  },
  {
   "cell_type": "markdown",
   "metadata": {
    "id": "iRdy1iKkpn_b"
   },
   "source": [
    "<b>Observation:</b><br/>\n",
    "If we multipy the RMSE with 100000, we get the RMSE expressed in USD."
   ]
  },
  {
   "cell_type": "code",
   "execution_count": 10,
   "metadata": {
    "colab": {
     "base_uri": "https://localhost:8080/"
    },
    "id": "DKD4KAmCpn_b",
    "outputId": "f14eafe6-dd07-4756-a013-9bc18b967712"
   },
   "outputs": [
    {
     "name": "stdout",
     "output_type": "stream",
     "text": [
      "1/1 [==============================] - 0s 44ms/step\n"
     ]
    },
    {
     "data": {
      "text/plain": [
       "array([[0.5478058],\n",
       "       [1.0804386],\n",
       "       [4.793735 ]], dtype=float32)"
      ]
     },
     "execution_count": 10,
     "metadata": {},
     "output_type": "execute_result"
    }
   ],
   "source": [
    "# Make predictions for the first 3 instances in the test set.\n",
    "X_new = X_test[:3]\n",
    "y_pred = model.predict(X_new)\n",
    "y_pred"
   ]
  },
  {
   "cell_type": "code",
   "execution_count": 11,
   "metadata": {
    "colab": {
     "base_uri": "https://localhost:8080/"
    },
    "id": "62dYeO6Hpn_b",
    "outputId": "1528db3d-b0aa-4ca6-ab58-757ced54aee5"
   },
   "outputs": [
    {
     "data": {
      "text/plain": [
       "array([0.477  , 0.458  , 5.00001])"
      ]
     },
     "execution_count": 11,
     "metadata": {},
     "output_type": "execute_result"
    }
   ],
   "source": [
    "# Compare with the corresponding values target values\n",
    "y_test[:3]"
   ]
  },
  {
   "cell_type": "markdown",
   "metadata": {
    "id": "YLd5Uvpvpn_b"
   },
   "source": [
    "<b>Observation:</b><br/>\n",
    "The second prediction is very bad given the RMSE. The other two predictions are okay."
   ]
  }
 ],
 "metadata": {
  "colab": {
   "provenance": []
  },
  "kernelspec": {
   "display_name": "Python 3 (ipykernel)",
   "language": "python",
   "name": "python3"
  },
  "language_info": {
   "codemirror_mode": {
    "name": "ipython",
    "version": 3
   },
   "file_extension": ".py",
   "mimetype": "text/x-python",
   "name": "python",
   "nbconvert_exporter": "python",
   "pygments_lexer": "ipython3",
   "version": "3.10.9"
  },
  "nav_menu": {
   "height": "264px",
   "width": "369px"
  },
  "toc": {
   "navigate_menu": true,
   "number_sections": true,
   "sideBar": true,
   "threshold": 6,
   "toc_cell": false,
   "toc_section_display": "block",
   "toc_window_display": false
  }
 },
 "nbformat": 4,
 "nbformat_minor": 1
}
