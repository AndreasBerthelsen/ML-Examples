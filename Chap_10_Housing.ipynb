{
 "cells": [
  {
   "cell_type": "markdown",
   "metadata": {
    "id": "8FCuv1Qkpn_V"
   },
   "source": [
    "# MLP Regressor trained with the California housing dataset"
   ]
  },
  {
   "cell_type": "markdown",
   "metadata": {
    "id": "HgZOnJ-vpn_X"
   },
   "source": [
    "## Setup"
   ]
  },
  {
   "cell_type": "code",
   "execution_count": 1,
   "metadata": {
    "id": "WizM4unQpn_Y"
   },
   "outputs": [],
   "source": [
    "# Common imports\n",
    "import sys\n",
    "import os\n",
    "import sklearn\n",
    "import numpy as np\n",
    "import pandas as pd\n",
    "import tensorflow as tf\n",
    "from tensorflow import keras\n",
    "\n",
    "# to make this notebook's output stable across runs\n",
    "np.random.seed(42)\n",
    "tf.random.set_seed(42)\n",
    "\n",
    "# To plot pretty figures\n",
    "%matplotlib inline\n",
    "import matplotlib.pyplot as plt\n",
    "\n",
    "# Import the SSL module and configure certificate verification to be optional to avoid SSLCertVerificationError.\n",
    "import ssl\n",
    "ssl.SSLContext.verify_mode = ssl.VerifyMode.CERT_OPTIONAL\n",
    "\n",
    "# Ignore useless warnings (see SciPy issue #5998)\n",
    "import warnings\n",
    "warnings.filterwarnings(action=\"ignore\", message=\"^internal gelsd\")"
   ]
  },
  {
   "cell_type": "markdown",
   "metadata": {
    "id": "dAhJ2A_Kpn_Z"
   },
   "source": [
    "## Load, split and scale the dataset"
   ]
  },
  {
   "cell_type": "code",
   "execution_count": 2,
   "metadata": {
    "id": "mpOM30iDpn_Z"
   },
   "outputs": [],
   "source": [
    "from sklearn.datasets import fetch_california_housing\n",
    "from sklearn.model_selection import train_test_split\n",
    "from sklearn.preprocessing import StandardScaler\n",
    "from sklearn.preprocessing import MinMaxScaler\n",
    "\n",
    "housing = fetch_california_housing()\n",
    "\n",
    "X_train_full, X_test, y_train_full, y_test = train_test_split(housing.data, housing.target, random_state=42)\n",
    "X_train, X_valid, y_train, y_valid = train_test_split(X_train_full, y_train_full, random_state=42)\n",
    "\n",
    "# We could scale the features using SciKitLearn's StandardScaler or MinMaxScaler,\n",
    "# but in this example we will use the Keras Normalization Layer instead.\n",
    "#scaler = StandardScaler()\n",
    "#X_train = scaler.fit_transform(X_train)\n",
    "#X_valid = scaler.transform(X_valid)\n",
    "#X_test = scaler.transform(X_test)"
   ]
  },
  {
   "cell_type": "code",
   "execution_count": 3,
   "metadata": {
    "colab": {
     "base_uri": "https://localhost:8080/"
    },
    "id": "TLLbArbxpn_Z",
    "outputId": "ecd6ef0a-2dd6-418c-855e-81b347837a41"
   },
   "outputs": [
    {
     "data": {
      "text/plain": [
       "['MedInc',\n",
       " 'HouseAge',\n",
       " 'AveRooms',\n",
       " 'AveBedrms',\n",
       " 'Population',\n",
       " 'AveOccup',\n",
       " 'Latitude',\n",
       " 'Longitude']"
      ]
     },
     "execution_count": 3,
     "metadata": {},
     "output_type": "execute_result"
    }
   ],
   "source": [
    "# Display the feature names.\n",
    "# Note that this dataset is not exactly the same as the \"housing\" dataset used in chapter 2.\n",
    "# As a result, we cannot completely compare the RMSE of this model with the RMSEs of the\n",
    "# other models that we trained and tested using the dataset from chapter 2.\n",
    "housing.feature_names"
   ]
  },
  {
   "cell_type": "code",
   "execution_count": 4,
   "metadata": {
    "id": "qCXFVlM_pn_a"
   },
   "outputs": [],
   "source": [
    "# Computing the mean median_house_value.\n",
    "# We can see that the target value have been scaled down by a factor of 100000\n",
    "# compared to the Housing dataset used in chapter 2."
   ]
  },
  {
   "cell_type": "code",
   "execution_count": 5,
   "metadata": {
    "colab": {
     "base_uri": "https://localhost:8080/"
    },
    "id": "tn-TfIhfpn_a",
    "outputId": "a0e39fb4-210b-464b-9cd6-fa8ef6faaba0"
   },
   "outputs": [
    {
     "data": {
      "text/plain": [
       "(20640, 8)"
      ]
     },
     "execution_count": 5,
     "metadata": {},
     "output_type": "execute_result"
    }
   ],
   "source": [
    "housing.data.shape"
   ]
  },
  {
   "cell_type": "markdown",
   "metadata": {
    "id": "qhgtjhYQpn_a"
   },
   "source": [
    "## Build, compile, train and evaluate a model"
   ]
  },
  {
   "cell_type": "code",
   "execution_count": 6,
   "metadata": {
    "id": "UdQWyA2Qpn_b",
    "scrolled": true
   },
   "outputs": [
    {
     "name": "stderr",
     "output_type": "stream",
     "text": [
      "2023-09-20 11:44:19.688531: W tensorflow/tsl/platform/profile_utils/cpu_utils.cc:128] Failed to get CPU frequency: 0 Hz\n"
     ]
    }
   ],
   "source": [
    "# Build a model.\n",
    "# We don't need to specify an input layer, since we don't need to convert the input array.\n",
    "# For regression problems, we don't use an activation function in the output layer.\n",
    "\n",
    "# Keras Normalization Layer. See:\n",
    "#   https://www.tensorflow.org/api_docs/python/tf/keras/layers/Normalization\n",
    "norm_layer = keras.layers.Normalization(axis=1)\n",
    "\n",
    "model = keras.models.Sequential([\n",
    "    norm_layer,\n",
    "    # hidden layers\n",
    "    keras.layers.Dense(50, activation=\"relu\"),\n",
    "    keras.layers.Dense(50, activation=\"relu\"),\n",
    "    keras.layers.Dense(50, activation=\"relu\"),\n",
    "    # output layer\n",
    "    keras.layers.Dense(1)\n",
    "])\n",
    "\n",
    "# Compile the model.\n",
    "# For regression problems, we use the \"mean_squared_error\" as loss function.\n",
    "model.compile(loss=\"mse\", optimizer=\"sgd\", metrics=[\"RootMeanSquaredError\"])\n",
    "\n",
    "# Normalize inputs.\n",
    "norm_layer.adapt(X_train)"
   ]
  },
  {
   "cell_type": "code",
   "execution_count": 7,
   "metadata": {
    "colab": {
     "base_uri": "https://localhost:8080/"
    },
    "id": "aXYx7GuUpn_b",
    "outputId": "92e60de2-c7f9-4276-c9ee-b4cdb8694082"
   },
   "outputs": [
    {
     "name": "stdout",
     "output_type": "stream",
     "text": [
      "Epoch 1/40\n",
      "363/363 [==============================] - 0s 727us/step - loss: 1.4449 - root_mean_squared_error: 1.2020 - val_loss: 1.3261 - val_root_mean_squared_error: 1.1516\n",
      "Epoch 2/40\n",
      "363/363 [==============================] - 0s 469us/step - loss: 1.3476 - root_mean_squared_error: 1.1608 - val_loss: 1.3213 - val_root_mean_squared_error: 1.1495\n",
      "Epoch 3/40\n",
      "363/363 [==============================] - 0s 671us/step - loss: 1.3468 - root_mean_squared_error: 1.1605 - val_loss: 1.3136 - val_root_mean_squared_error: 1.1461\n",
      "Epoch 4/40\n",
      "363/363 [==============================] - 0s 466us/step - loss: 1.3454 - root_mean_squared_error: 1.1599 - val_loss: 1.3624 - val_root_mean_squared_error: 1.1672\n",
      "Epoch 5/40\n",
      "363/363 [==============================] - 0s 472us/step - loss: 1.3455 - root_mean_squared_error: 1.1600 - val_loss: 1.3224 - val_root_mean_squared_error: 1.1499\n",
      "Epoch 6/40\n",
      "363/363 [==============================] - 0s 465us/step - loss: 1.3444 - root_mean_squared_error: 1.1595 - val_loss: 1.3228 - val_root_mean_squared_error: 1.1502\n",
      "Epoch 7/40\n",
      "363/363 [==============================] - 0s 469us/step - loss: 1.3433 - root_mean_squared_error: 1.1590 - val_loss: 1.3140 - val_root_mean_squared_error: 1.1463\n",
      "Epoch 8/40\n",
      "363/363 [==============================] - 0s 469us/step - loss: 1.3451 - root_mean_squared_error: 1.1598 - val_loss: 1.3118 - val_root_mean_squared_error: 1.1453\n",
      "Epoch 9/40\n",
      "363/363 [==============================] - 0s 466us/step - loss: 1.3431 - root_mean_squared_error: 1.1589 - val_loss: 1.3159 - val_root_mean_squared_error: 1.1471\n",
      "Epoch 10/40\n",
      "363/363 [==============================] - 0s 466us/step - loss: 1.3415 - root_mean_squared_error: 1.1582 - val_loss: 1.3139 - val_root_mean_squared_error: 1.1463\n",
      "Epoch 11/40\n",
      "363/363 [==============================] - 0s 476us/step - loss: 1.3420 - root_mean_squared_error: 1.1584 - val_loss: 1.3160 - val_root_mean_squared_error: 1.1472\n",
      "Epoch 12/40\n",
      "363/363 [==============================] - 0s 466us/step - loss: 1.3406 - root_mean_squared_error: 1.1579 - val_loss: 1.3109 - val_root_mean_squared_error: 1.1450\n",
      "Epoch 13/40\n",
      "363/363 [==============================] - 0s 466us/step - loss: 1.3393 - root_mean_squared_error: 1.1573 - val_loss: 1.3186 - val_root_mean_squared_error: 1.1483\n",
      "Epoch 14/40\n",
      "363/363 [==============================] - 0s 489us/step - loss: 1.3407 - root_mean_squared_error: 1.1579 - val_loss: 1.3123 - val_root_mean_squared_error: 1.1456\n",
      "Epoch 15/40\n",
      "363/363 [==============================] - 0s 471us/step - loss: 1.3400 - root_mean_squared_error: 1.1576 - val_loss: 1.3129 - val_root_mean_squared_error: 1.1458\n",
      "Epoch 16/40\n",
      "363/363 [==============================] - 0s 471us/step - loss: 1.3393 - root_mean_squared_error: 1.1573 - val_loss: 1.3157 - val_root_mean_squared_error: 1.1470\n",
      "Epoch 17/40\n",
      "363/363 [==============================] - 0s 475us/step - loss: 1.3396 - root_mean_squared_error: 1.1574 - val_loss: 1.3250 - val_root_mean_squared_error: 1.1511\n",
      "Epoch 18/40\n",
      "363/363 [==============================] - 0s 465us/step - loss: 1.3383 - root_mean_squared_error: 1.1568 - val_loss: 1.3111 - val_root_mean_squared_error: 1.1450\n",
      "Epoch 19/40\n",
      "363/363 [==============================] - 0s 464us/step - loss: 1.3388 - root_mean_squared_error: 1.1571 - val_loss: 1.3121 - val_root_mean_squared_error: 1.1455\n",
      "Epoch 20/40\n",
      "363/363 [==============================] - 0s 469us/step - loss: 1.3389 - root_mean_squared_error: 1.1571 - val_loss: 1.3093 - val_root_mean_squared_error: 1.1443\n",
      "Epoch 21/40\n",
      "363/363 [==============================] - 0s 467us/step - loss: 1.3375 - root_mean_squared_error: 1.1565 - val_loss: 1.3097 - val_root_mean_squared_error: 1.1444\n",
      "Epoch 22/40\n",
      "363/363 [==============================] - 0s 466us/step - loss: 1.3377 - root_mean_squared_error: 1.1566 - val_loss: 1.3143 - val_root_mean_squared_error: 1.1464\n",
      "Epoch 23/40\n",
      "363/363 [==============================] - 0s 472us/step - loss: 1.3375 - root_mean_squared_error: 1.1565 - val_loss: 1.3112 - val_root_mean_squared_error: 1.1451\n",
      "Epoch 24/40\n",
      "363/363 [==============================] - 0s 464us/step - loss: 1.3386 - root_mean_squared_error: 1.1570 - val_loss: 1.3083 - val_root_mean_squared_error: 1.1438\n",
      "Epoch 25/40\n",
      "363/363 [==============================] - 0s 462us/step - loss: 1.3373 - root_mean_squared_error: 1.1564 - val_loss: 1.3188 - val_root_mean_squared_error: 1.1484\n",
      "Epoch 26/40\n",
      "363/363 [==============================] - 0s 471us/step - loss: 1.3371 - root_mean_squared_error: 1.1563 - val_loss: 1.3196 - val_root_mean_squared_error: 1.1487\n",
      "Epoch 27/40\n",
      "363/363 [==============================] - 0s 469us/step - loss: 1.3368 - root_mean_squared_error: 1.1562 - val_loss: 1.3094 - val_root_mean_squared_error: 1.1443\n",
      "Epoch 28/40\n",
      "363/363 [==============================] - 0s 468us/step - loss: 1.3370 - root_mean_squared_error: 1.1563 - val_loss: 1.3194 - val_root_mean_squared_error: 1.1487\n",
      "Epoch 29/40\n",
      "363/363 [==============================] - 0s 466us/step - loss: 1.3378 - root_mean_squared_error: 1.1566 - val_loss: 1.3180 - val_root_mean_squared_error: 1.1480\n",
      "Epoch 30/40\n",
      "363/363 [==============================] - 0s 469us/step - loss: 1.3362 - root_mean_squared_error: 1.1560 - val_loss: 1.3088 - val_root_mean_squared_error: 1.1440\n",
      "Epoch 31/40\n",
      "363/363 [==============================] - 0s 469us/step - loss: 1.3354 - root_mean_squared_error: 1.1556 - val_loss: 1.3083 - val_root_mean_squared_error: 1.1438\n",
      "Epoch 32/40\n",
      "363/363 [==============================] - 0s 464us/step - loss: 1.3361 - root_mean_squared_error: 1.1559 - val_loss: 1.3177 - val_root_mean_squared_error: 1.1479\n",
      "Epoch 33/40\n",
      "363/363 [==============================] - 0s 468us/step - loss: 1.3372 - root_mean_squared_error: 1.1564 - val_loss: 1.3113 - val_root_mean_squared_error: 1.1451\n",
      "Epoch 34/40\n",
      "363/363 [==============================] - 0s 476us/step - loss: 1.3360 - root_mean_squared_error: 1.1558 - val_loss: 1.3129 - val_root_mean_squared_error: 1.1458\n",
      "Epoch 35/40\n",
      "363/363 [==============================] - 0s 465us/step - loss: 1.3365 - root_mean_squared_error: 1.1561 - val_loss: 1.3120 - val_root_mean_squared_error: 1.1454\n",
      "Epoch 36/40\n",
      "363/363 [==============================] - 0s 479us/step - loss: 1.3349 - root_mean_squared_error: 1.1554 - val_loss: 1.3067 - val_root_mean_squared_error: 1.1431\n",
      "Epoch 37/40\n",
      "363/363 [==============================] - 0s 474us/step - loss: 1.3345 - root_mean_squared_error: 1.1552 - val_loss: 1.3066 - val_root_mean_squared_error: 1.1431\n",
      "Epoch 38/40\n",
      "363/363 [==============================] - 0s 468us/step - loss: 1.3343 - root_mean_squared_error: 1.1551 - val_loss: 1.3050 - val_root_mean_squared_error: 1.1424\n",
      "Epoch 39/40\n",
      "363/363 [==============================] - 0s 474us/step - loss: 1.3342 - root_mean_squared_error: 1.1551 - val_loss: 1.3139 - val_root_mean_squared_error: 1.1463\n",
      "Epoch 40/40\n",
      "363/363 [==============================] - 0s 465us/step - loss: 1.3331 - root_mean_squared_error: 1.1546 - val_loss: 1.3042 - val_root_mean_squared_error: 1.1420\n"
     ]
    }
   ],
   "source": [
    "# Train the model.\n",
    "history = model.fit(X_train, y_train, epochs=40, validation_data=(X_valid, y_valid))"
   ]
  },
  {
   "cell_type": "code",
   "execution_count": 8,
   "metadata": {
    "colab": {
     "base_uri": "https://localhost:8080/",
     "height": 451
    },
    "id": "Z95S4Gd0pn_b",
    "outputId": "2e9c2a7b-8e2c-4db3-e866-5094207097cd"
   },
   "outputs": [
    {
     "data": {
      "image/png": "[encoded data removed]",
      "text/plain": [
       "<Figure size 800x500 with 1 Axes>"
      ]
     },
     "metadata": {},
     "output_type": "display_data"
    }
   ],
   "source": [
    "# Show the learning curves.\n",
    "pd.DataFrame(history.history).plot(figsize=(8, 5))\n",
    "plt.grid(True)\n",
    "plt.gca().set_ylim(0, 1)\n",
    "plt.show()"
   ]
  },
  {
   "cell_type": "code",
   "execution_count": 9,
   "metadata": {
    "colab": {
     "base_uri": "https://localhost:8080/"
    },
    "id": "5JRECEHspn_b",
    "outputId": "f56ab8d5-1e28-41f8-d8f6-20afc8b20315"
   },
   "outputs": [
    {
     "name": "stdout",
     "output_type": "stream",
     "text": [
      "162/162 [==============================] - 0s 340us/step - loss: 1.3121 - root_mean_squared_error: 1.1455\n"
     ]
    }
   ],
   "source": [
    "# Evaluate the model (outputs the MSE).\n",
    "loss = model.evaluate(X_test, y_test)"
   ]
  },
  {
   "cell_type": "markdown",
   "metadata": {
    "id": "iRdy1iKkpn_b"
   },
   "source": [
    "<b>Observation:</b><br/>\n",
    "If we multipy the RMSE with 100000, we get the RMSE expressed in USD."
   ]
  },
  {
   "cell_type": "code",
   "execution_count": 10,
   "metadata": {
    "colab": {
     "base_uri": "https://localhost:8080/"
    },
    "id": "DKD4KAmCpn_b",
    "outputId": "f14eafe6-dd07-4756-a013-9bc18b967712"
   },
   "outputs": [
    {
     "name": "stdout",
     "output_type": "stream",
     "text": [
      "1/1 [==============================] - 0s 44ms/step\n"
     ]
    },
    {
     "data": {
      "text/plain": [
       "array([[1.9688934],\n",
       "       [1.9747473],\n",
       "       [2.0151205]], dtype=float32)"
      ]
     },
     "execution_count": 10,
     "metadata": {},
     "output_type": "execute_result"
    }
   ],
   "source": [
    "# Make predictions for the first 3 instances in the test set.\n",
    "X_new = X_test[:3]\n",
    "y_pred = model.predict(X_new)\n",
    "y_pred"
   ]
  },
  {
   "cell_type": "code",
   "execution_count": 11,
   "metadata": {
    "colab": {
     "base_uri": "https://localhost:8080/"
    },
    "id": "62dYeO6Hpn_b",
    "outputId": "1528db3d-b0aa-4ca6-ab58-757ced54aee5"
   },
   "outputs": [
    {
     "data": {
      "text/plain": [
       "array([0.477  , 0.458  , 5.00001])"
      ]
     },
     "execution_count": 11,
     "metadata": {},
     "output_type": "execute_result"
    }
   ],
   "source": [
    "# Compare with the corresponding values target values\n",
    "y_test[:3]"
   ]
  },
  {
   "cell_type": "markdown",
   "metadata": {
    "id": "YLd5Uvpvpn_b"
   },
   "source": [
    "<b>Observation:</b><br/>\n",
    "The second prediction is very bad given the RMSE. The other two predictions are okay."
   ]
  }
 ],
 "metadata": {
  "colab": {
   "provenance": []
  },
  "kernelspec": {
   "display_name": "Python 3 (ipykernel)",
   "language": "python",
   "name": "python3"
  },
  "language_info": {
   "codemirror_mode": {
    "name": "ipython",
    "version": 3
   },
   "file_extension": ".py",
   "mimetype": "text/x-python",
   "name": "python",
   "nbconvert_exporter": "python",
   "pygments_lexer": "ipython3",
   "version": "3.10.9"
  },
  "nav_menu": {
   "height": "264px",
   "width": "369px"
  },
  "toc": {
   "navigate_menu": true,
   "number_sections": true,
   "sideBar": true,
   "threshold": 6,
   "toc_cell": false,
   "toc_section_display": "block",
   "toc_window_display": false
  }
 },
 "nbformat": 4,
 "nbformat_minor": 1
}
