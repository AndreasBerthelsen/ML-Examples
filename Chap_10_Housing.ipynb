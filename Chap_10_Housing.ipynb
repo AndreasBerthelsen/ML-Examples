{
 "cells": [
  {
   "cell_type": "markdown",
   "metadata": {
    "id": "8FCuv1Qkpn_V"
   },
   "source": [
    "# MLP Regressor trained with the California housing dataset"
   ]
  },
  {
   "cell_type": "markdown",
   "metadata": {
    "id": "HgZOnJ-vpn_X"
   },
   "source": [
    "## Setup"
   ]
  },
  {
   "cell_type": "code",
   "execution_count": 1,
   "metadata": {
    "id": "WizM4unQpn_Y"
   },
   "outputs": [],
   "source": [
    "# Common imports\n",
    "import sys\n",
    "import os\n",
    "import sklearn\n",
    "import numpy as np\n",
    "import pandas as pd\n",
    "import tensorflow as tf\n",
    "from tensorflow import keras\n",
    "\n",
    "# to make this notebook's output stable across runs\n",
    "np.random.seed(42)\n",
    "tf.random.set_seed(42)\n",
    "\n",
    "# To plot pretty figures\n",
    "%matplotlib inline\n",
    "import matplotlib.pyplot as plt\n",
    "\n",
    "# Import the SSL module and configure certificate verification to be optional to avoid SSLCertVerificationError.\n",
    "import ssl\n",
    "ssl.SSLContext.verify_mode = ssl.VerifyMode.CERT_OPTIONAL\n",
    "\n",
    "# Ignore useless warnings (see SciPy issue #5998)\n",
    "import warnings\n",
    "warnings.filterwarnings(action=\"ignore\", message=\"^internal gelsd\")"
   ]
  },
  {
   "cell_type": "markdown",
   "metadata": {
    "id": "dAhJ2A_Kpn_Z"
   },
   "source": [
    "## Load and split the dataset"
   ]
  },
  {
   "cell_type": "code",
   "execution_count": 2,
   "metadata": {
    "id": "mpOM30iDpn_Z"
   },
   "outputs": [],
   "source": [
    "from sklearn.datasets import fetch_california_housing\n",
    "from sklearn.model_selection import train_test_split\n",
    "from sklearn.preprocessing import StandardScaler\n",
    "from sklearn.preprocessing import MinMaxScaler\n",
    "\n",
    "housing = fetch_california_housing()\n",
    "\n",
    "X_train_full, X_test, y_train_full, y_test = train_test_split(housing.data, housing.target, random_state=42)\n",
    "X_train, X_valid, y_train, y_valid = train_test_split(X_train_full, y_train_full, random_state=42)\n",
    "\n",
    "# We could scale the features using SciKitLearn's StandardScaler or MinMaxScaler,\n",
    "# but in this example we will use the Keras Normalization Layer instead.\n",
    "#scaler = StandardScaler()\n",
    "#X_train = scaler.fit_transform(X_train)\n",
    "#X_valid = scaler.transform(X_valid)\n",
    "#X_test = scaler.transform(X_test)"
   ]
  },
  {
   "cell_type": "code",
   "execution_count": 3,
   "metadata": {
    "colab": {
     "base_uri": "https://localhost:8080/"
    },
    "id": "TLLbArbxpn_Z",
    "outputId": "ecd6ef0a-2dd6-418c-855e-81b347837a41"
   },
   "outputs": [
    {
     "data": {
      "text/plain": [
       "['MedInc',\n",
       " 'HouseAge',\n",
       " 'AveRooms',\n",
       " 'AveBedrms',\n",
       " 'Population',\n",
       " 'AveOccup',\n",
       " 'Latitude',\n",
       " 'Longitude']"
      ]
     },
     "execution_count": 3,
     "metadata": {},
     "output_type": "execute_result"
    }
   ],
   "source": [
    "# Display the feature names.\n",
    "# Note that this dataset is not exactly the same as the \"housing\" dataset used in chapter 2.\n",
    "# As a result, we cannot completely compare the RMSE of this model with the RMSEs of the\n",
    "# other models that we trained and tested using the dataset from chapter 2.\n",
    "housing.feature_names"
   ]
  },
  {
   "cell_type": "code",
   "execution_count": 4,
   "metadata": {
    "id": "qCXFVlM_pn_a"
   },
   "outputs": [],
   "source": [
    "# Computing the mean median_house_value.\n",
    "# We can see that the target value have been scaled down by a factor of 100000\n",
    "# compared to the Housing dataset used in chapter 2."
   ]
  },
  {
   "cell_type": "code",
   "execution_count": 5,
   "metadata": {
    "colab": {
     "base_uri": "https://localhost:8080/"
    },
    "id": "tn-TfIhfpn_a",
    "outputId": "a0e39fb4-210b-464b-9cd6-fa8ef6faaba0"
   },
   "outputs": [
    {
     "data": {
      "text/plain": [
       "(20640, 8)"
      ]
     },
     "execution_count": 5,
     "metadata": {},
     "output_type": "execute_result"
    }
   ],
   "source": [
    "housing.data.shape"
   ]
  },
  {
   "cell_type": "markdown",
   "metadata": {
    "id": "qhgtjhYQpn_a"
   },
   "source": [
    "## Build, compile, train and evaluate a model"
   ]
  },
  {
   "cell_type": "code",
   "execution_count": 6,
   "metadata": {
    "id": "UdQWyA2Qpn_b",
    "scrolled": true
   },
   "outputs": [
    {
     "name": "stderr",
     "output_type": "stream",
     "text": [
      "2024-02-25 21:24:23.932393: W tensorflow/tsl/platform/profile_utils/cpu_utils.cc:128] Failed to get CPU frequency: 0 Hz\n"
     ]
    }
   ],
   "source": [
    "# Build a model.\n",
    "# We don't need to specify an input layer, since we don't need to convert the input array.\n",
    "# For regression problems, we don't use an activation function in the output layer.\n",
    "\n",
    "# Keras Normalization Layer. See:\n",
    "#   https://www.tensorflow.org/api_docs/python/tf/keras/layers/Normalization\n",
    "norm_layer = keras.layers.Normalization()\n",
    "\n",
    "model = keras.models.Sequential([\n",
    "    norm_layer,\n",
    "    # hidden layers\n",
    "    keras.layers.Dense(50, activation=\"relu\"),\n",
    "    keras.layers.Dense(50, activation=\"relu\"),\n",
    "    keras.layers.Dense(50, activation=\"relu\"),\n",
    "    # output layer\n",
    "    keras.layers.Dense(1)\n",
    "])\n",
    "\n",
    "# Compile the model.\n",
    "# For regression problems, we use the \"mean_squared_error\" as loss function.\n",
    "model.compile(loss=\"mse\", optimizer=\"sgd\", metrics=[\"RootMeanSquaredError\"])\n",
    "\n",
    "# Normalize inputs.\n",
    "norm_layer.adapt(X_train)"
   ]
  },
  {
   "cell_type": "code",
   "execution_count": 7,
   "metadata": {
    "colab": {
     "base_uri": "https://localhost:8080/"
    },
    "id": "aXYx7GuUpn_b",
    "outputId": "92e60de2-c7f9-4276-c9ee-b4cdb8694082"
   },
   "outputs": [
    {
     "name": "stdout",
     "output_type": "stream",
     "text": [
      "Epoch 1/100\n",
      "363/363 [==============================] - 0s 707us/step - loss: 0.6972 - root_mean_squared_error: 0.8350 - val_loss: 1.1344 - val_root_mean_squared_error: 1.0651\n",
      "Epoch 2/100\n",
      "363/363 [==============================] - 0s 461us/step - loss: 0.4138 - root_mean_squared_error: 0.6433 - val_loss: 6.4058 - val_root_mean_squared_error: 2.5310\n",
      "Epoch 3/100\n",
      "363/363 [==============================] - 0s 653us/step - loss: 0.4552 - root_mean_squared_error: 0.6747 - val_loss: 0.3436 - val_root_mean_squared_error: 0.5862\n",
      "Epoch 4/100\n",
      "363/363 [==============================] - 0s 466us/step - loss: 0.3774 - root_mean_squared_error: 0.6143 - val_loss: 4.2316 - val_root_mean_squared_error: 2.0571\n",
      "Epoch 5/100\n",
      "363/363 [==============================] - 0s 467us/step - loss: 0.3711 - root_mean_squared_error: 0.6092 - val_loss: 6.9147 - val_root_mean_squared_error: 2.6296\n",
      "Epoch 6/100\n",
      "363/363 [==============================] - 0s 461us/step - loss: 0.4409 - root_mean_squared_error: 0.6640 - val_loss: 2.4375 - val_root_mean_squared_error: 1.5612\n",
      "Epoch 7/100\n",
      "363/363 [==============================] - 0s 462us/step - loss: 0.3679 - root_mean_squared_error: 0.6065 - val_loss: 0.4268 - val_root_mean_squared_error: 0.6533\n",
      "Epoch 8/100\n",
      "363/363 [==============================] - 0s 463us/step - loss: 0.3427 - root_mean_squared_error: 0.5854 - val_loss: 0.3377 - val_root_mean_squared_error: 0.5811\n",
      "Epoch 9/100\n",
      "363/363 [==============================] - 0s 466us/step - loss: 0.3334 - root_mean_squared_error: 0.5774 - val_loss: 0.3264 - val_root_mean_squared_error: 0.5713\n",
      "Epoch 10/100\n",
      "363/363 [==============================] - 0s 467us/step - loss: 0.3278 - root_mean_squared_error: 0.5725 - val_loss: 0.3270 - val_root_mean_squared_error: 0.5719\n",
      "Epoch 11/100\n",
      "363/363 [==============================] - 0s 460us/step - loss: 0.3268 - root_mean_squared_error: 0.5717 - val_loss: 0.4000 - val_root_mean_squared_error: 0.6325\n",
      "Epoch 12/100\n",
      "363/363 [==============================] - 0s 465us/step - loss: 0.3240 - root_mean_squared_error: 0.5693 - val_loss: 0.3025 - val_root_mean_squared_error: 0.5500\n",
      "Epoch 13/100\n",
      "363/363 [==============================] - 0s 474us/step - loss: 0.3175 - root_mean_squared_error: 0.5635 - val_loss: 0.3000 - val_root_mean_squared_error: 0.5477\n",
      "Epoch 14/100\n",
      "363/363 [==============================] - 0s 489us/step - loss: 0.3137 - root_mean_squared_error: 0.5601 - val_loss: 0.3232 - val_root_mean_squared_error: 0.5685\n",
      "Epoch 15/100\n",
      "363/363 [==============================] - 0s 471us/step - loss: 0.3124 - root_mean_squared_error: 0.5590 - val_loss: 0.3704 - val_root_mean_squared_error: 0.6086\n",
      "Epoch 16/100\n",
      "363/363 [==============================] - 0s 480us/step - loss: 0.3111 - root_mean_squared_error: 0.5577 - val_loss: 0.4627 - val_root_mean_squared_error: 0.6802\n",
      "Epoch 17/100\n",
      "363/363 [==============================] - 0s 466us/step - loss: 0.3112 - root_mean_squared_error: 0.5578 - val_loss: 0.3269 - val_root_mean_squared_error: 0.5718\n",
      "Epoch 18/100\n",
      "363/363 [==============================] - 0s 461us/step - loss: 0.3070 - root_mean_squared_error: 0.5541 - val_loss: 0.2872 - val_root_mean_squared_error: 0.5359\n",
      "Epoch 19/100\n",
      "363/363 [==============================] - 0s 467us/step - loss: 0.3069 - root_mean_squared_error: 0.5540 - val_loss: 0.2936 - val_root_mean_squared_error: 0.5419\n",
      "Epoch 20/100\n",
      "363/363 [==============================] - 0s 484us/step - loss: 0.3035 - root_mean_squared_error: 0.5509 - val_loss: 0.3333 - val_root_mean_squared_error: 0.5774\n",
      "Epoch 21/100\n",
      "363/363 [==============================] - 0s 486us/step - loss: 0.2988 - root_mean_squared_error: 0.5466 - val_loss: 0.2960 - val_root_mean_squared_error: 0.5440\n",
      "Epoch 22/100\n",
      "363/363 [==============================] - 0s 458us/step - loss: 0.2966 - root_mean_squared_error: 0.5446 - val_loss: 0.2937 - val_root_mean_squared_error: 0.5420\n",
      "Epoch 23/100\n",
      "363/363 [==============================] - 0s 456us/step - loss: 0.2956 - root_mean_squared_error: 0.5437 - val_loss: 0.2997 - val_root_mean_squared_error: 0.5475\n",
      "Epoch 24/100\n",
      "363/363 [==============================] - 0s 469us/step - loss: 0.2940 - root_mean_squared_error: 0.5422 - val_loss: 0.3088 - val_root_mean_squared_error: 0.5557\n",
      "Epoch 25/100\n",
      "363/363 [==============================] - 0s 478us/step - loss: 0.2931 - root_mean_squared_error: 0.5413 - val_loss: 0.3036 - val_root_mean_squared_error: 0.5510\n",
      "Epoch 26/100\n",
      "363/363 [==============================] - 0s 475us/step - loss: 0.2915 - root_mean_squared_error: 0.5399 - val_loss: 0.3298 - val_root_mean_squared_error: 0.5743\n",
      "Epoch 27/100\n",
      "363/363 [==============================] - 0s 490us/step - loss: 0.2898 - root_mean_squared_error: 0.5383 - val_loss: 0.2825 - val_root_mean_squared_error: 0.5315\n",
      "Epoch 28/100\n",
      "363/363 [==============================] - 0s 499us/step - loss: 0.2892 - root_mean_squared_error: 0.5378 - val_loss: 0.2859 - val_root_mean_squared_error: 0.5347\n",
      "Epoch 29/100\n",
      "363/363 [==============================] - 0s 498us/step - loss: 0.2887 - root_mean_squared_error: 0.5373 - val_loss: 0.2855 - val_root_mean_squared_error: 0.5343\n",
      "Epoch 30/100\n",
      "363/363 [==============================] - 0s 485us/step - loss: 0.2880 - root_mean_squared_error: 0.5366 - val_loss: 0.2879 - val_root_mean_squared_error: 0.5365\n",
      "Epoch 31/100\n",
      "363/363 [==============================] - 0s 495us/step - loss: 0.2869 - root_mean_squared_error: 0.5356 - val_loss: 0.2842 - val_root_mean_squared_error: 0.5331\n",
      "Epoch 32/100\n",
      "363/363 [==============================] - 0s 487us/step - loss: 0.2849 - root_mean_squared_error: 0.5338 - val_loss: 0.2888 - val_root_mean_squared_error: 0.5374\n",
      "Epoch 33/100\n",
      "363/363 [==============================] - 0s 461us/step - loss: 0.2846 - root_mean_squared_error: 0.5334 - val_loss: 0.2933 - val_root_mean_squared_error: 0.5416\n",
      "Epoch 34/100\n",
      "363/363 [==============================] - 0s 481us/step - loss: 0.2828 - root_mean_squared_error: 0.5318 - val_loss: 0.2888 - val_root_mean_squared_error: 0.5374\n",
      "Epoch 35/100\n",
      "363/363 [==============================] - 0s 462us/step - loss: 0.2821 - root_mean_squared_error: 0.5312 - val_loss: 0.3040 - val_root_mean_squared_error: 0.5514\n",
      "Epoch 36/100\n",
      "363/363 [==============================] - 0s 491us/step - loss: 0.2817 - root_mean_squared_error: 0.5308 - val_loss: 0.2738 - val_root_mean_squared_error: 0.5233\n",
      "Epoch 37/100\n",
      "363/363 [==============================] - 0s 472us/step - loss: 0.2802 - root_mean_squared_error: 0.5294 - val_loss: 0.2972 - val_root_mean_squared_error: 0.5451\n",
      "Epoch 38/100\n",
      "363/363 [==============================] - 0s 464us/step - loss: 0.2781 - root_mean_squared_error: 0.5274 - val_loss: 0.2756 - val_root_mean_squared_error: 0.5250\n",
      "Epoch 39/100\n",
      "363/363 [==============================] - 0s 461us/step - loss: 0.2832 - root_mean_squared_error: 0.5322 - val_loss: 0.3117 - val_root_mean_squared_error: 0.5583\n",
      "Epoch 40/100\n",
      "363/363 [==============================] - 0s 465us/step - loss: 0.2795 - root_mean_squared_error: 0.5287 - val_loss: 0.2711 - val_root_mean_squared_error: 0.5207\n",
      "Epoch 41/100\n",
      "363/363 [==============================] - 0s 500us/step - loss: 0.2819 - root_mean_squared_error: 0.5309 - val_loss: 0.3367 - val_root_mean_squared_error: 0.5802\n",
      "Epoch 42/100\n",
      "363/363 [==============================] - 0s 481us/step - loss: 0.2806 - root_mean_squared_error: 0.5297 - val_loss: 0.2957 - val_root_mean_squared_error: 0.5437\n",
      "Epoch 43/100\n",
      "363/363 [==============================] - 0s 476us/step - loss: 0.2769 - root_mean_squared_error: 0.5262 - val_loss: 0.3102 - val_root_mean_squared_error: 0.5570\n",
      "Epoch 44/100\n",
      "363/363 [==============================] - 0s 469us/step - loss: 0.2751 - root_mean_squared_error: 0.5245 - val_loss: 0.2772 - val_root_mean_squared_error: 0.5265\n",
      "Epoch 45/100\n",
      "363/363 [==============================] - 0s 491us/step - loss: 0.2736 - root_mean_squared_error: 0.5231 - val_loss: 0.2698 - val_root_mean_squared_error: 0.5194\n",
      "Epoch 46/100\n",
      "363/363 [==============================] - 0s 455us/step - loss: 0.2753 - root_mean_squared_error: 0.5247 - val_loss: 0.2901 - val_root_mean_squared_error: 0.5386\n",
      "Epoch 47/100\n"
     ]
    },
    {
     "name": "stdout",
     "output_type": "stream",
     "text": [
      "363/363 [==============================] - 0s 456us/step - loss: 0.2799 - root_mean_squared_error: 0.5290 - val_loss: 0.3066 - val_root_mean_squared_error: 0.5537\n",
      "Epoch 48/100\n",
      "363/363 [==============================] - 0s 473us/step - loss: 0.2765 - root_mean_squared_error: 0.5259 - val_loss: 0.2680 - val_root_mean_squared_error: 0.5177\n",
      "Epoch 49/100\n",
      "363/363 [==============================] - 0s 492us/step - loss: 0.2735 - root_mean_squared_error: 0.5230 - val_loss: 0.2862 - val_root_mean_squared_error: 0.5350\n",
      "Epoch 50/100\n",
      "363/363 [==============================] - 0s 463us/step - loss: 0.2732 - root_mean_squared_error: 0.5227 - val_loss: 0.2960 - val_root_mean_squared_error: 0.5440\n",
      "Epoch 51/100\n",
      "363/363 [==============================] - 0s 499us/step - loss: 0.2720 - root_mean_squared_error: 0.5215 - val_loss: 0.3125 - val_root_mean_squared_error: 0.5590\n",
      "Epoch 52/100\n",
      "363/363 [==============================] - 0s 470us/step - loss: 0.2721 - root_mean_squared_error: 0.5216 - val_loss: 0.2729 - val_root_mean_squared_error: 0.5224\n",
      "Epoch 53/100\n",
      "363/363 [==============================] - 0s 467us/step - loss: 0.2697 - root_mean_squared_error: 0.5193 - val_loss: 0.3276 - val_root_mean_squared_error: 0.5723\n",
      "Epoch 54/100\n",
      "363/363 [==============================] - 0s 497us/step - loss: 0.2691 - root_mean_squared_error: 0.5188 - val_loss: 0.2700 - val_root_mean_squared_error: 0.5196\n",
      "Epoch 55/100\n",
      "363/363 [==============================] - 0s 495us/step - loss: 0.2681 - root_mean_squared_error: 0.5178 - val_loss: 0.3856 - val_root_mean_squared_error: 0.6209\n",
      "Epoch 56/100\n",
      "363/363 [==============================] - 0s 474us/step - loss: 0.2763 - root_mean_squared_error: 0.5256 - val_loss: 0.3015 - val_root_mean_squared_error: 0.5491\n",
      "Epoch 57/100\n",
      "363/363 [==============================] - 0s 483us/step - loss: 0.2706 - root_mean_squared_error: 0.5202 - val_loss: 0.2674 - val_root_mean_squared_error: 0.5171\n",
      "Epoch 58/100\n",
      "363/363 [==============================] - 0s 468us/step - loss: 0.2671 - root_mean_squared_error: 0.5169 - val_loss: 0.2888 - val_root_mean_squared_error: 0.5374\n",
      "Epoch 59/100\n",
      "363/363 [==============================] - 0s 485us/step - loss: 0.2676 - root_mean_squared_error: 0.5173 - val_loss: 0.2749 - val_root_mean_squared_error: 0.5243\n",
      "Epoch 60/100\n",
      "363/363 [==============================] - 0s 467us/step - loss: 0.2668 - root_mean_squared_error: 0.5165 - val_loss: 0.2626 - val_root_mean_squared_error: 0.5124\n",
      "Epoch 61/100\n",
      "363/363 [==============================] - 0s 485us/step - loss: 0.2637 - root_mean_squared_error: 0.5135 - val_loss: 0.2946 - val_root_mean_squared_error: 0.5428\n",
      "Epoch 62/100\n",
      "363/363 [==============================] - 0s 462us/step - loss: 0.2651 - root_mean_squared_error: 0.5149 - val_loss: 0.2929 - val_root_mean_squared_error: 0.5412\n",
      "Epoch 63/100\n",
      "363/363 [==============================] - 0s 473us/step - loss: 0.2636 - root_mean_squared_error: 0.5134 - val_loss: 0.2737 - val_root_mean_squared_error: 0.5232\n",
      "Epoch 64/100\n",
      "363/363 [==============================] - 0s 460us/step - loss: 0.2643 - root_mean_squared_error: 0.5141 - val_loss: 0.2850 - val_root_mean_squared_error: 0.5338\n",
      "Epoch 65/100\n",
      "363/363 [==============================] - 0s 499us/step - loss: 0.2623 - root_mean_squared_error: 0.5121 - val_loss: 0.2647 - val_root_mean_squared_error: 0.5145\n",
      "Epoch 66/100\n",
      "363/363 [==============================] - 0s 470us/step - loss: 0.2616 - root_mean_squared_error: 0.5114 - val_loss: 0.3076 - val_root_mean_squared_error: 0.5546\n",
      "Epoch 67/100\n",
      "363/363 [==============================] - 0s 488us/step - loss: 0.2624 - root_mean_squared_error: 0.5123 - val_loss: 0.2636 - val_root_mean_squared_error: 0.5134\n",
      "Epoch 68/100\n",
      "363/363 [==============================] - 0s 479us/step - loss: 0.2592 - root_mean_squared_error: 0.5091 - val_loss: 0.2774 - val_root_mean_squared_error: 0.5267\n",
      "Epoch 69/100\n",
      "363/363 [==============================] - 0s 468us/step - loss: 0.2604 - root_mean_squared_error: 0.5103 - val_loss: 0.2682 - val_root_mean_squared_error: 0.5179\n",
      "Epoch 70/100\n",
      "363/363 [==============================] - 0s 462us/step - loss: 0.2585 - root_mean_squared_error: 0.5084 - val_loss: 0.2902 - val_root_mean_squared_error: 0.5387\n",
      "Epoch 71/100\n",
      "363/363 [==============================] - 0s 456us/step - loss: 0.2594 - root_mean_squared_error: 0.5093 - val_loss: 0.2853 - val_root_mean_squared_error: 0.5342\n",
      "Epoch 72/100\n",
      "363/363 [==============================] - 0s 462us/step - loss: 0.2583 - root_mean_squared_error: 0.5082 - val_loss: 0.2722 - val_root_mean_squared_error: 0.5217\n",
      "Epoch 73/100\n",
      "363/363 [==============================] - 0s 483us/step - loss: 0.2642 - root_mean_squared_error: 0.5140 - val_loss: 0.2876 - val_root_mean_squared_error: 0.5363\n",
      "Epoch 74/100\n",
      "363/363 [==============================] - 0s 457us/step - loss: 0.2612 - root_mean_squared_error: 0.5110 - val_loss: 0.2805 - val_root_mean_squared_error: 0.5297\n",
      "Epoch 75/100\n",
      "363/363 [==============================] - 0s 470us/step - loss: 0.2575 - root_mean_squared_error: 0.5075 - val_loss: 0.3202 - val_root_mean_squared_error: 0.5659\n",
      "Epoch 76/100\n",
      "363/363 [==============================] - 0s 481us/step - loss: 0.2575 - root_mean_squared_error: 0.5074 - val_loss: 0.2737 - val_root_mean_squared_error: 0.5232\n",
      "Epoch 77/100\n",
      "363/363 [==============================] - 0s 463us/step - loss: 0.2553 - root_mean_squared_error: 0.5053 - val_loss: 0.3186 - val_root_mean_squared_error: 0.5644\n",
      "Epoch 78/100\n",
      "363/363 [==============================] - 0s 459us/step - loss: 0.2552 - root_mean_squared_error: 0.5052 - val_loss: 0.2641 - val_root_mean_squared_error: 0.5139\n",
      "Epoch 79/100\n",
      "363/363 [==============================] - 0s 461us/step - loss: 0.2562 - root_mean_squared_error: 0.5062 - val_loss: 0.2821 - val_root_mean_squared_error: 0.5311\n",
      "Epoch 80/100\n",
      "363/363 [==============================] - 0s 484us/step - loss: 0.2546 - root_mean_squared_error: 0.5046 - val_loss: 0.2577 - val_root_mean_squared_error: 0.5077\n",
      "Epoch 81/100\n",
      "363/363 [==============================] - 0s 456us/step - loss: 0.2536 - root_mean_squared_error: 0.5036 - val_loss: 0.2623 - val_root_mean_squared_error: 0.5122\n",
      "Epoch 82/100\n",
      "363/363 [==============================] - 0s 458us/step - loss: 0.2526 - root_mean_squared_error: 0.5026 - val_loss: 0.2605 - val_root_mean_squared_error: 0.5103\n",
      "Epoch 83/100\n",
      "363/363 [==============================] - 0s 463us/step - loss: 0.2519 - root_mean_squared_error: 0.5019 - val_loss: 0.2562 - val_root_mean_squared_error: 0.5062\n",
      "Epoch 84/100\n",
      "363/363 [==============================] - 0s 461us/step - loss: 0.2526 - root_mean_squared_error: 0.5026 - val_loss: 0.3131 - val_root_mean_squared_error: 0.5595\n",
      "Epoch 85/100\n",
      "363/363 [==============================] - 0s 458us/step - loss: 0.2524 - root_mean_squared_error: 0.5024 - val_loss: 0.2871 - val_root_mean_squared_error: 0.5358\n",
      "Epoch 86/100\n",
      "363/363 [==============================] - 0s 479us/step - loss: 0.2530 - root_mean_squared_error: 0.5029 - val_loss: 0.2884 - val_root_mean_squared_error: 0.5370\n",
      "Epoch 87/100\n",
      "363/363 [==============================] - 0s 470us/step - loss: 0.2512 - root_mean_squared_error: 0.5012 - val_loss: 0.2670 - val_root_mean_squared_error: 0.5167\n",
      "Epoch 88/100\n",
      "363/363 [==============================] - 0s 473us/step - loss: 0.2504 - root_mean_squared_error: 0.5004 - val_loss: 0.2959 - val_root_mean_squared_error: 0.5440\n",
      "Epoch 89/100\n",
      "363/363 [==============================] - 0s 460us/step - loss: 0.2509 - root_mean_squared_error: 0.5009 - val_loss: 0.2636 - val_root_mean_squared_error: 0.5134\n",
      "Epoch 90/100\n",
      "363/363 [==============================] - 0s 501us/step - loss: 0.2493 - root_mean_squared_error: 0.4993 - val_loss: 0.2690 - val_root_mean_squared_error: 0.5186\n",
      "Epoch 91/100\n",
      "363/363 [==============================] - 0s 458us/step - loss: 0.2494 - root_mean_squared_error: 0.4994 - val_loss: 0.2647 - val_root_mean_squared_error: 0.5145\n",
      "Epoch 92/100\n",
      "363/363 [==============================] - 0s 464us/step - loss: 0.2499 - root_mean_squared_error: 0.4999 - val_loss: 0.2876 - val_root_mean_squared_error: 0.5363\n",
      "Epoch 93/100\n"
     ]
    },
    {
     "name": "stdout",
     "output_type": "stream",
     "text": [
      "363/363 [==============================] - 0s 478us/step - loss: 0.2482 - root_mean_squared_error: 0.4982 - val_loss: 0.2595 - val_root_mean_squared_error: 0.5094\n",
      "Epoch 94/100\n",
      "363/363 [==============================] - 0s 469us/step - loss: 0.2483 - root_mean_squared_error: 0.4983 - val_loss: 0.3057 - val_root_mean_squared_error: 0.5529\n",
      "Epoch 95/100\n",
      "363/363 [==============================] - 0s 456us/step - loss: 0.2475 - root_mean_squared_error: 0.4975 - val_loss: 0.2655 - val_root_mean_squared_error: 0.5153\n",
      "Epoch 96/100\n",
      "363/363 [==============================] - 0s 459us/step - loss: 0.2482 - root_mean_squared_error: 0.4982 - val_loss: 0.2783 - val_root_mean_squared_error: 0.5276\n",
      "Epoch 97/100\n",
      "363/363 [==============================] - 0s 476us/step - loss: 0.2469 - root_mean_squared_error: 0.4969 - val_loss: 0.2624 - val_root_mean_squared_error: 0.5122\n",
      "Epoch 98/100\n",
      "363/363 [==============================] - 0s 452us/step - loss: 0.2476 - root_mean_squared_error: 0.4976 - val_loss: 0.3045 - val_root_mean_squared_error: 0.5518\n",
      "Epoch 99/100\n",
      "363/363 [==============================] - 0s 471us/step - loss: 0.2478 - root_mean_squared_error: 0.4978 - val_loss: 0.2574 - val_root_mean_squared_error: 0.5073\n",
      "Epoch 100/100\n",
      "363/363 [==============================] - 0s 464us/step - loss: 0.2476 - root_mean_squared_error: 0.4976 - val_loss: 0.3047 - val_root_mean_squared_error: 0.5520\n"
     ]
    }
   ],
   "source": [
    "# Train the model.\n",
    "history = model.fit(X_train, y_train, epochs=100, validation_data=(X_valid, y_valid))"
   ]
  },
  {
   "cell_type": "code",
   "execution_count": 8,
   "metadata": {
    "colab": {
     "base_uri": "https://localhost:8080/",
     "height": 451
    },
    "id": "Z95S4Gd0pn_b",
    "outputId": "2e9c2a7b-8e2c-4db3-e866-5094207097cd"
   },
   "outputs": [
    {
     "data": {
      "image/png": "[encoded data removed]",
      "text/plain": [
       "<Figure size 800x500 with 1 Axes>"
      ]
     },
     "metadata": {},
     "output_type": "display_data"
    }
   ],
   "source": [
    "# Show the learning curves.\n",
    "pd.DataFrame(history.history).plot(figsize=(8, 5))\n",
    "plt.grid(True)\n",
    "plt.gca().set_ylim(0, 1)\n",
    "plt.show()"
   ]
  },
  {
   "cell_type": "code",
   "execution_count": 9,
   "metadata": {
    "colab": {
     "base_uri": "https://localhost:8080/"
    },
    "id": "5JRECEHspn_b",
    "outputId": "f56ab8d5-1e28-41f8-d8f6-20afc8b20315"
   },
   "outputs": [
    {
     "name": "stdout",
     "output_type": "stream",
     "text": [
      "162/162 [==============================] - 0s 331us/step - loss: 0.2723 - root_mean_squared_error: 0.5219\n"
     ]
    }
   ],
   "source": [
    "# Evaluate the model (outputs the MSE).\n",
    "loss = model.evaluate(X_test, y_test)"
   ]
  },
  {
   "cell_type": "markdown",
   "metadata": {
    "id": "iRdy1iKkpn_b"
   },
   "source": [
    "<b>Observation:</b><br/>\n",
    "If we multipy the RMSE with 100000, we get the RMSE expressed in USD."
   ]
  },
  {
   "cell_type": "code",
   "execution_count": 10,
   "metadata": {
    "colab": {
     "base_uri": "https://localhost:8080/"
    },
    "id": "DKD4KAmCpn_b",
    "outputId": "f14eafe6-dd07-4756-a013-9bc18b967712"
   },
   "outputs": [
    {
     "name": "stdout",
     "output_type": "stream",
     "text": [
      "1/1 [==============================] - 0s 44ms/step\n"
     ]
    },
    {
     "data": {
      "text/plain": [
       "array([[0.5328074 ],\n",
       "       [0.81745684],\n",
       "       [5.0154176 ]], dtype=float32)"
      ]
     },
     "execution_count": 10,
     "metadata": {},
     "output_type": "execute_result"
    }
   ],
   "source": [
    "# Make predictions for the first 3 instances in the test set.\n",
    "X_new = X_test[:3]\n",
    "y_pred = model.predict(X_new)\n",
    "y_pred"
   ]
  },
  {
   "cell_type": "code",
   "execution_count": 11,
   "metadata": {
    "colab": {
     "base_uri": "https://localhost:8080/"
    },
    "id": "62dYeO6Hpn_b",
    "outputId": "1528db3d-b0aa-4ca6-ab58-757ced54aee5"
   },
   "outputs": [
    {
     "data": {
      "text/plain": [
       "array([0.477  , 0.458  , 5.00001])"
      ]
     },
     "execution_count": 11,
     "metadata": {},
     "output_type": "execute_result"
    }
   ],
   "source": [
    "# Compare with the corresponding values target values\n",
    "y_test[:3]"
   ]
  },
  {
   "cell_type": "markdown",
   "metadata": {
    "id": "YLd5Uvpvpn_b"
   },
   "source": [
    "<b>Observation:</b><br/>\n",
    "The second prediction is very bad given the RMSE. The other two predictions are okay."
   ]
  }
 ],
 "metadata": {
  "colab": {
   "provenance": []
  },
  "kernelspec": {
   "display_name": "Python 3 (ipykernel)",
   "language": "python",
   "name": "python3"
  },
  "language_info": {
   "codemirror_mode": {
    "name": "ipython",
    "version": 3
   },
   "file_extension": ".py",
   "mimetype": "text/x-python",
   "name": "python",
   "nbconvert_exporter": "python",
   "pygments_lexer": "ipython3",
   "version": "3.10.9"
  },
  "nav_menu": {
   "height": "264px",
   "width": "369px"
  },
  "toc": {
   "navigate_menu": true,
   "number_sections": true,
   "sideBar": true,
   "threshold": 6,
   "toc_cell": false,
   "toc_section_display": "block",
   "toc_window_display": false
  }
 },
 "nbformat": 4,
 "nbformat_minor": 1
}
