{
 "cells": [
  {
   "cell_type": "markdown",
   "metadata": {},
   "source": [
    "# MLP Regressor trained with the California housing dataset"
   ]
  },
  {
   "cell_type": "markdown",
   "metadata": {},
   "source": [
    "## Setup"
   ]
  },
  {
   "cell_type": "code",
   "execution_count": 1,
   "metadata": {},
   "outputs": [],
   "source": [
    "# Common imports\n",
    "import sys\n",
    "import os\n",
    "import sklearn\n",
    "import numpy as np\n",
    "import pandas as pd\n",
    "import tensorflow as tf\n",
    "from tensorflow import keras\n",
    "\n",
    "# to make this notebook's output stable across runs\n",
    "np.random.seed(42)\n",
    "tf.random.set_seed(42)\n",
    "\n",
    "# To plot pretty figures\n",
    "%matplotlib inline\n",
    "import matplotlib.pyplot as plt\n",
    "\n",
    "# Import the SSL module and configure certificate verification to be optional to avoid SSLCertVerificationError.\n",
    "import ssl\n",
    "ssl.SSLContext.verify_mode = ssl.VerifyMode.CERT_OPTIONAL\n",
    "\n",
    "# Ignore useless warnings (see SciPy issue #5998)\n",
    "import warnings\n",
    "warnings.filterwarnings(action=\"ignore\", message=\"^internal gelsd\")"
   ]
  },
  {
   "cell_type": "markdown",
   "metadata": {},
   "source": [
    "## Load, split and scale the dataset"
   ]
  },
  {
   "cell_type": "code",
   "execution_count": 2,
   "metadata": {},
   "outputs": [],
   "source": [
    "from sklearn.datasets import fetch_california_housing\n",
    "from sklearn.model_selection import train_test_split\n",
    "from sklearn.preprocessing import StandardScaler\n",
    "\n",
    "housing = fetch_california_housing()\n",
    "\n",
    "X_train_full, X_test, y_train_full, y_test = train_test_split(housing.data, housing.target, random_state=42)\n",
    "X_train, X_valid, y_train, y_valid = train_test_split(X_train_full, y_train_full, random_state=42)\n",
    "\n",
    "scaler = StandardScaler()  # as an alternative, we could use the Keras Normalization Layer\n",
    "X_train = scaler.fit_transform(X_train)\n",
    "X_valid = scaler.transform(X_valid)\n",
    "X_test = scaler.transform(X_test)"
   ]
  },
  {
   "cell_type": "code",
   "execution_count": 3,
   "metadata": {},
   "outputs": [
    {
     "data": {
      "text/plain": [
       "['MedInc',\n",
       " 'HouseAge',\n",
       " 'AveRooms',\n",
       " 'AveBedrms',\n",
       " 'Population',\n",
       " 'AveOccup',\n",
       " 'Latitude',\n",
       " 'Longitude']"
      ]
     },
     "execution_count": 3,
     "metadata": {},
     "output_type": "execute_result"
    }
   ],
   "source": [
    "# Display the feature names.\n",
    "# Note that this dataset is not exactly the same as the \"housing\" dataset used in chapter 2.\n",
    "# As a result, we cannot completely compare the RMSE of this model with the RMSEs of the \n",
    "# other models that we trained and tested using the dataset from chapter 2.\n",
    "housing.feature_names"
   ]
  },
  {
   "cell_type": "code",
   "execution_count": 4,
   "metadata": {},
   "outputs": [],
   "source": [
    "# Computing the mean median_house_value.\n",
    "# We can see that the target value have been scaled down by a factor of 100000\n",
    "# compared to the Housing dataset used in chapter 2."
   ]
  },
  {
   "cell_type": "code",
   "execution_count": 5,
   "metadata": {},
   "outputs": [
    {
     "data": {
      "text/plain": [
       "(20640, 8)"
      ]
     },
     "execution_count": 5,
     "metadata": {},
     "output_type": "execute_result"
    }
   ],
   "source": [
    "housing.data.shape"
   ]
  },
  {
   "cell_type": "markdown",
   "metadata": {},
   "source": [
    "## Build, compile, train and evaluate a model"
   ]
  },
  {
   "cell_type": "code",
   "execution_count": 6,
   "metadata": {},
   "outputs": [],
   "source": [
    "# Build a model.\n",
    "# We don't need to specify an input layer, since we don't need to convert the input array.\n",
    "# For regression problems, we don't use an activation function in the output layer.\n",
    "\n",
    "model = keras.models.Sequential([\n",
    "    # hidden layer\n",
    "    keras.layers.Dense(30, activation=\"relu\", input_shape=X_train.shape[1:]),\n",
    "    # output layer\n",
    "    keras.layers.Dense(1)\n",
    "])\n",
    "\n",
    "# Compile the model.\n",
    "# For regression problems, we use the \"mean_squared_error\" as loss function.\n",
    "model.compile(loss=\"mse\", optimizer=\"sgd\", metrics=[\"RootMeanSquaredError\"])"
   ]
  },
  {
   "cell_type": "code",
   "execution_count": 7,
   "metadata": {},
   "outputs": [
    {
     "name": "stdout",
     "output_type": "stream",
     "text": [
      "Epoch 1/20\n",
      "  1/363 [..............................] - ETA: 53s - loss: 6.5449 - root_mean_squared_error: 2.5583"
     ]
    },
    {
     "name": "stderr",
     "output_type": "stream",
     "text": [
      "2023-02-27 13:12:32.420288: W tensorflow/core/platform/profile_utils/cpu_utils.cc:128] Failed to get CPU frequency: 0 Hz\n"
     ]
    },
    {
     "name": "stdout",
     "output_type": "stream",
     "text": [
      "363/363 [==============================] - 0s 804us/step - loss: 0.8581 - root_mean_squared_error: 0.9263 - val_loss: 2.3527 - val_root_mean_squared_error: 1.5338\n",
      "Epoch 2/20\n",
      "363/363 [==============================] - 0s 413us/step - loss: 0.5853 - root_mean_squared_error: 0.7651 - val_loss: 10.6074 - val_root_mean_squared_error: 3.2569\n",
      "Epoch 3/20\n",
      "363/363 [==============================] - 0s 416us/step - loss: 0.5725 - root_mean_squared_error: 0.7566 - val_loss: 2.9388 - val_root_mean_squared_error: 1.7143\n",
      "Epoch 4/20\n",
      "363/363 [==============================] - 0s 423us/step - loss: 0.4411 - root_mean_squared_error: 0.6642 - val_loss: 0.4564 - val_root_mean_squared_error: 0.6756\n",
      "Epoch 5/20\n",
      "363/363 [==============================] - 0s 420us/step - loss: 0.4155 - root_mean_squared_error: 0.6446 - val_loss: 0.3829 - val_root_mean_squared_error: 0.6188\n",
      "Epoch 6/20\n",
      "363/363 [==============================] - 0s 423us/step - loss: 0.4048 - root_mean_squared_error: 0.6362 - val_loss: 0.4145 - val_root_mean_squared_error: 0.6439\n",
      "Epoch 7/20\n",
      "363/363 [==============================] - 0s 403us/step - loss: 0.4031 - root_mean_squared_error: 0.6349 - val_loss: 0.3836 - val_root_mean_squared_error: 0.6193\n",
      "Epoch 8/20\n",
      "363/363 [==============================] - 0s 407us/step - loss: 0.3923 - root_mean_squared_error: 0.6264 - val_loss: 0.3849 - val_root_mean_squared_error: 0.6204\n",
      "Epoch 9/20\n",
      "363/363 [==============================] - 0s 407us/step - loss: 0.3865 - root_mean_squared_error: 0.6217 - val_loss: 0.3893 - val_root_mean_squared_error: 0.6239\n",
      "Epoch 10/20\n",
      "363/363 [==============================] - 0s 429us/step - loss: 0.3834 - root_mean_squared_error: 0.6192 - val_loss: 0.3826 - val_root_mean_squared_error: 0.6186\n",
      "Epoch 11/20\n",
      "363/363 [==============================] - 0s 411us/step - loss: 0.3824 - root_mean_squared_error: 0.6184 - val_loss: 0.3704 - val_root_mean_squared_error: 0.6086\n",
      "Epoch 12/20\n",
      "363/363 [==============================] - 0s 416us/step - loss: 0.3798 - root_mean_squared_error: 0.6162 - val_loss: 0.3880 - val_root_mean_squared_error: 0.6229\n",
      "Epoch 13/20\n",
      "363/363 [==============================] - 0s 416us/step - loss: 0.3755 - root_mean_squared_error: 0.6128 - val_loss: 0.3827 - val_root_mean_squared_error: 0.6186\n",
      "Epoch 14/20\n",
      "363/363 [==============================] - 0s 403us/step - loss: 0.3740 - root_mean_squared_error: 0.6115 - val_loss: 0.3624 - val_root_mean_squared_error: 0.6020\n",
      "Epoch 15/20\n",
      "363/363 [==============================] - 0s 418us/step - loss: 0.3763 - root_mean_squared_error: 0.6134 - val_loss: 0.3805 - val_root_mean_squared_error: 0.6168\n",
      "Epoch 16/20\n",
      "363/363 [==============================] - 0s 418us/step - loss: 0.3714 - root_mean_squared_error: 0.6094 - val_loss: 0.3662 - val_root_mean_squared_error: 0.6051\n",
      "Epoch 17/20\n",
      "363/363 [==============================] - 0s 415us/step - loss: 0.3685 - root_mean_squared_error: 0.6071 - val_loss: 0.3962 - val_root_mean_squared_error: 0.6295\n",
      "Epoch 18/20\n",
      "363/363 [==============================] - 0s 431us/step - loss: 0.3667 - root_mean_squared_error: 0.6055 - val_loss: 0.3579 - val_root_mean_squared_error: 0.5982\n",
      "Epoch 19/20\n",
      "363/363 [==============================] - 0s 410us/step - loss: 0.3736 - root_mean_squared_error: 0.6112 - val_loss: 0.3656 - val_root_mean_squared_error: 0.6046\n",
      "Epoch 20/20\n",
      "363/363 [==============================] - 0s 415us/step - loss: 0.3642 - root_mean_squared_error: 0.6035 - val_loss: 0.4267 - val_root_mean_squared_error: 0.6532\n"
     ]
    }
   ],
   "source": [
    "# Train the model.\n",
    "history = model.fit(X_train, y_train, epochs=20, validation_data=(X_valid, y_valid))"
   ]
  },
  {
   "cell_type": "code",
   "execution_count": 8,
   "metadata": {},
   "outputs": [
    {
     "data": {
      "image/png": "[encoded data removed]",
      "text/plain": [
       "<Figure size 800x500 with 1 Axes>"
      ]
     },
     "metadata": {},
     "output_type": "display_data"
    }
   ],
   "source": [
    "# Show the learning curves.         \n",
    "pd.DataFrame(history.history).plot(figsize=(8, 5))\n",
    "plt.grid(True)\n",
    "plt.gca().set_ylim(0, 1)\n",
    "plt.show()         "
   ]
  },
  {
   "cell_type": "code",
   "execution_count": 9,
   "metadata": {},
   "outputs": [
    {
     "name": "stdout",
     "output_type": "stream",
     "text": [
      "162/162 [==============================] - 0s 318us/step - loss: 0.3577 - root_mean_squared_error: 0.5981\n"
     ]
    }
   ],
   "source": [
    "# Evaluate the model (outputs the MSE).\n",
    "loss = model.evaluate(X_test, y_test)"
   ]
  },
  {
   "cell_type": "markdown",
   "metadata": {},
   "source": [
    "<b>Observation:</b><br/>\n",
    "If we multipy the RMSE with 100000, we get the RMSE expressed in USD."
   ]
  },
  {
   "cell_type": "code",
   "execution_count": 10,
   "metadata": {},
   "outputs": [
    {
     "name": "stdout",
     "output_type": "stream",
     "text": [
      "1/1 [==============================] - 0s 32ms/step\n"
     ]
    },
    {
     "data": {
      "text/plain": [
       "array([[0.6938275],\n",
       "       [1.6485776],\n",
       "       [4.096723 ]], dtype=float32)"
      ]
     },
     "execution_count": 10,
     "metadata": {},
     "output_type": "execute_result"
    }
   ],
   "source": [
    "# Make predictions for the first 3 instances in the test set.\n",
    "X_new = X_test[:3]\n",
    "y_pred = model.predict(X_new)\n",
    "y_pred"
   ]
  },
  {
   "cell_type": "code",
   "execution_count": 11,
   "metadata": {},
   "outputs": [
    {
     "data": {
      "text/plain": [
       "array([0.477  , 0.458  , 5.00001])"
      ]
     },
     "execution_count": 11,
     "metadata": {},
     "output_type": "execute_result"
    }
   ],
   "source": [
    "# Compare with the corresponding values target values\n",
    "y_test[:3]"
   ]
  },
  {
   "cell_type": "markdown",
   "metadata": {},
   "source": [
    "<b>Observation:</b><br/>\n",
    "The second prediction is very bad given the RMSE. The other two predictions are okay."
   ]
  }
 ],
 "metadata": {
  "kernelspec": {
   "display_name": "Python 3 (ipykernel)",
   "language": "python",
   "name": "python3"
  },
  "language_info": {
   "codemirror_mode": {
    "name": "ipython",
    "version": 3
   },
   "file_extension": ".py",
   "mimetype": "text/x-python",
   "name": "python",
   "nbconvert_exporter": "python",
   "pygments_lexer": "ipython3",
   "version": "3.9.15"
  },
  "nav_menu": {
   "height": "264px",
   "width": "369px"
  },
  "toc": {
   "navigate_menu": true,
   "number_sections": true,
   "sideBar": true,
   "threshold": 6,
   "toc_cell": false,
   "toc_section_display": "block",
   "toc_window_display": false
  }
 },
 "nbformat": 4,
 "nbformat_minor": 4
}
