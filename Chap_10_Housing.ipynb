{
 "cells": [
  {
   "cell_type": "markdown",
   "metadata": {
    "id": "8FCuv1Qkpn_V"
   },
   "source": [
    "# MLP Regressor trained with the California housing dataset"
   ]
  },
  {
   "cell_type": "markdown",
   "metadata": {
    "id": "HgZOnJ-vpn_X"
   },
   "source": [
    "## Setup"
   ]
  },
  {
   "cell_type": "code",
   "execution_count": 1,
   "metadata": {
    "id": "WizM4unQpn_Y"
   },
   "outputs": [],
   "source": [
    "# Common imports\n",
    "import sys\n",
    "import os\n",
    "import sklearn\n",
    "import numpy as np\n",
    "import pandas as pd\n",
    "import tensorflow as tf\n",
    "from tensorflow import keras\n",
    "\n",
    "# to make this notebook's output stable across runs\n",
    "np.random.seed(42)\n",
    "tf.random.set_seed(42)\n",
    "\n",
    "# To plot pretty figures\n",
    "%matplotlib inline\n",
    "import matplotlib.pyplot as plt\n",
    "\n",
    "# Import the SSL module and configure certificate verification to be optional to avoid SSLCertVerificationError.\n",
    "import ssl\n",
    "ssl.SSLContext.verify_mode = ssl.VerifyMode.CERT_OPTIONAL\n",
    "\n",
    "# Ignore useless warnings (see SciPy issue #5998)\n",
    "import warnings\n",
    "warnings.filterwarnings(action=\"ignore\", message=\"^internal gelsd\")"
   ]
  },
  {
   "cell_type": "markdown",
   "metadata": {
    "id": "dAhJ2A_Kpn_Z"
   },
   "source": [
    "## Load, split and scale the dataset"
   ]
  },
  {
   "cell_type": "code",
   "execution_count": 2,
   "metadata": {
    "id": "mpOM30iDpn_Z"
   },
   "outputs": [],
   "source": [
    "from sklearn.datasets import fetch_california_housing\n",
    "from sklearn.model_selection import train_test_split\n",
    "from sklearn.preprocessing import StandardScaler\n",
    "from sklearn.preprocessing import MinMaxScaler\n",
    "\n",
    "housing = fetch_california_housing()\n",
    "\n",
    "X_train_full, X_test, y_train_full, y_test = train_test_split(housing.data, housing.target, random_state=42)\n",
    "X_train, X_valid, y_train, y_valid = train_test_split(X_train_full, y_train_full, random_state=42)\n",
    "\n",
    "# We could scale the features using SciKitLearn's StandardScaler or MinMaxScaler,\n",
    "# but in this example we will use the Keras Normalization Layer instead.\n",
    "#scaler = StandardScaler()\n",
    "#X_train = scaler.fit_transform(X_train)\n",
    "#X_valid = scaler.transform(X_valid)\n",
    "#X_test = scaler.transform(X_test)"
   ]
  },
  {
   "cell_type": "code",
   "execution_count": 3,
   "metadata": {
    "colab": {
     "base_uri": "https://localhost:8080/"
    },
    "id": "TLLbArbxpn_Z",
    "outputId": "ecd6ef0a-2dd6-418c-855e-81b347837a41"
   },
   "outputs": [
    {
     "data": {
      "text/plain": [
       "['MedInc',\n",
       " 'HouseAge',\n",
       " 'AveRooms',\n",
       " 'AveBedrms',\n",
       " 'Population',\n",
       " 'AveOccup',\n",
       " 'Latitude',\n",
       " 'Longitude']"
      ]
     },
     "execution_count": 3,
     "metadata": {},
     "output_type": "execute_result"
    }
   ],
   "source": [
    "# Display the feature names.\n",
    "# Note that this dataset is not exactly the same as the \"housing\" dataset used in chapter 2.\n",
    "# As a result, we cannot completely compare the RMSE of this model with the RMSEs of the\n",
    "# other models that we trained and tested using the dataset from chapter 2.\n",
    "housing.feature_names"
   ]
  },
  {
   "cell_type": "code",
   "execution_count": 4,
   "metadata": {
    "id": "qCXFVlM_pn_a"
   },
   "outputs": [],
   "source": [
    "# Computing the mean median_house_value.\n",
    "# We can see that the target value have been scaled down by a factor of 100000\n",
    "# compared to the Housing dataset used in chapter 2."
   ]
  },
  {
   "cell_type": "code",
   "execution_count": 5,
   "metadata": {
    "colab": {
     "base_uri": "https://localhost:8080/"
    },
    "id": "tn-TfIhfpn_a",
    "outputId": "a0e39fb4-210b-464b-9cd6-fa8ef6faaba0"
   },
   "outputs": [
    {
     "data": {
      "text/plain": [
       "(20640, 8)"
      ]
     },
     "execution_count": 5,
     "metadata": {},
     "output_type": "execute_result"
    }
   ],
   "source": [
    "housing.data.shape"
   ]
  },
  {
   "cell_type": "markdown",
   "metadata": {
    "id": "qhgtjhYQpn_a"
   },
   "source": [
    "## Build, compile, train and evaluate a model"
   ]
  },
  {
   "cell_type": "code",
   "execution_count": 6,
   "metadata": {
    "id": "UdQWyA2Qpn_b",
    "scrolled": true
   },
   "outputs": [
    {
     "name": "stderr",
     "output_type": "stream",
     "text": [
      "2023-10-26 10:59:22.000327: W tensorflow/tsl/platform/profile_utils/cpu_utils.cc:128] Failed to get CPU frequency: 0 Hz\n"
     ]
    }
   ],
   "source": [
    "# Build a model.\n",
    "# We don't need to specify an input layer, since we don't need to convert the input array.\n",
    "# For regression problems, we don't use an activation function in the output layer.\n",
    "\n",
    "# Keras Normalization Layer. See:\n",
    "#   https://www.tensorflow.org/api_docs/python/tf/keras/layers/Normalization\n",
    "norm_layer = keras.layers.Normalization(axis=1)\n",
    "\n",
    "model = keras.models.Sequential([\n",
    "    norm_layer,\n",
    "    # hidden layers\n",
    "    keras.layers.Dense(50, activation=\"relu\"),\n",
    "    keras.layers.Dense(50, activation=\"relu\"),\n",
    "    keras.layers.Dense(50, activation=\"relu\"),\n",
    "    # output layer\n",
    "    keras.layers.Dense(1)\n",
    "])\n",
    "\n",
    "# Compile the model.\n",
    "# For regression problems, we use the \"mean_squared_error\" as loss function.\n",
    "model.compile(loss=\"mse\", optimizer=\"sgd\", metrics=[\"RootMeanSquaredError\"])\n",
    "\n",
    "# Normalize inputs.\n",
    "norm_layer.adapt(X_train)"
   ]
  },
  {
   "cell_type": "code",
   "execution_count": 7,
   "metadata": {
    "colab": {
     "base_uri": "https://localhost:8080/"
    },
    "id": "aXYx7GuUpn_b",
    "outputId": "92e60de2-c7f9-4276-c9ee-b4cdb8694082"
   },
   "outputs": [
    {
     "name": "stdout",
     "output_type": "stream",
     "text": [
      "Epoch 1/100\n",
      "363/363 [==============================] - 0s 713us/step - loss: 0.7537 - root_mean_squared_error: 0.8682 - val_loss: 0.5669 - val_root_mean_squared_error: 0.7529\n",
      "Epoch 2/100\n",
      "363/363 [==============================] - 0s 476us/step - loss: 0.4118 - root_mean_squared_error: 0.6417 - val_loss: 1.5470 - val_root_mean_squared_error: 1.2438\n",
      "Epoch 3/100\n",
      "363/363 [==============================] - 0s 659us/step - loss: 0.4238 - root_mean_squared_error: 0.6510 - val_loss: 0.4337 - val_root_mean_squared_error: 0.6585\n",
      "Epoch 4/100\n",
      "363/363 [==============================] - 0s 466us/step - loss: 0.3724 - root_mean_squared_error: 0.6102 - val_loss: 1.9334 - val_root_mean_squared_error: 1.3905\n",
      "Epoch 5/100\n",
      "363/363 [==============================] - 0s 470us/step - loss: 0.3631 - root_mean_squared_error: 0.6026 - val_loss: 5.4315 - val_root_mean_squared_error: 2.3306\n",
      "Epoch 6/100\n",
      "363/363 [==============================] - 0s 473us/step - loss: 0.3991 - root_mean_squared_error: 0.6317 - val_loss: 0.3290 - val_root_mean_squared_error: 0.5736\n",
      "Epoch 7/100\n",
      "363/363 [==============================] - 0s 470us/step - loss: 0.3544 - root_mean_squared_error: 0.5953 - val_loss: 0.3561 - val_root_mean_squared_error: 0.5967\n",
      "Epoch 8/100\n",
      "363/363 [==============================] - 0s 463us/step - loss: 0.3400 - root_mean_squared_error: 0.5831 - val_loss: 0.3301 - val_root_mean_squared_error: 0.5745\n",
      "Epoch 9/100\n",
      "363/363 [==============================] - 0s 470us/step - loss: 0.3352 - root_mean_squared_error: 0.5790 - val_loss: 0.4683 - val_root_mean_squared_error: 0.6843\n",
      "Epoch 10/100\n",
      "363/363 [==============================] - 0s 464us/step - loss: 0.3320 - root_mean_squared_error: 0.5762 - val_loss: 0.9296 - val_root_mean_squared_error: 0.9642\n",
      "Epoch 11/100\n",
      "363/363 [==============================] - 0s 469us/step - loss: 0.3340 - root_mean_squared_error: 0.5780 - val_loss: 2.7220 - val_root_mean_squared_error: 1.6498\n",
      "Epoch 12/100\n",
      "363/363 [==============================] - 0s 467us/step - loss: 0.3493 - root_mean_squared_error: 0.5910 - val_loss: 0.3554 - val_root_mean_squared_error: 0.5961\n",
      "Epoch 13/100\n",
      "363/363 [==============================] - 0s 464us/step - loss: 0.3215 - root_mean_squared_error: 0.5670 - val_loss: 0.3257 - val_root_mean_squared_error: 0.5707\n",
      "Epoch 14/100\n",
      "363/363 [==============================] - 0s 468us/step - loss: 0.3175 - root_mean_squared_error: 0.5635 - val_loss: 0.2989 - val_root_mean_squared_error: 0.5467\n",
      "Epoch 15/100\n",
      "363/363 [==============================] - 0s 489us/step - loss: 0.3159 - root_mean_squared_error: 0.5621 - val_loss: 0.3093 - val_root_mean_squared_error: 0.5562\n",
      "Epoch 16/100\n",
      "363/363 [==============================] - 0s 471us/step - loss: 0.3127 - root_mean_squared_error: 0.5592 - val_loss: 0.2944 - val_root_mean_squared_error: 0.5426\n",
      "Epoch 17/100\n",
      "363/363 [==============================] - 0s 469us/step - loss: 0.3093 - root_mean_squared_error: 0.5561 - val_loss: 0.3900 - val_root_mean_squared_error: 0.6245\n",
      "Epoch 18/100\n",
      "363/363 [==============================] - 0s 472us/step - loss: 0.3091 - root_mean_squared_error: 0.5560 - val_loss: 0.2921 - val_root_mean_squared_error: 0.5405\n",
      "Epoch 19/100\n",
      "363/363 [==============================] - 0s 488us/step - loss: 0.3072 - root_mean_squared_error: 0.5543 - val_loss: 0.3040 - val_root_mean_squared_error: 0.5514\n",
      "Epoch 20/100\n",
      "363/363 [==============================] - 0s 474us/step - loss: 0.3050 - root_mean_squared_error: 0.5523 - val_loss: 0.3607 - val_root_mean_squared_error: 0.6006\n",
      "Epoch 21/100\n",
      "363/363 [==============================] - 0s 469us/step - loss: 0.3028 - root_mean_squared_error: 0.5502 - val_loss: 0.2973 - val_root_mean_squared_error: 0.5453\n",
      "Epoch 22/100\n",
      "363/363 [==============================] - 0s 478us/step - loss: 0.3002 - root_mean_squared_error: 0.5479 - val_loss: 0.3078 - val_root_mean_squared_error: 0.5548\n",
      "Epoch 23/100\n",
      "363/363 [==============================] - 0s 465us/step - loss: 0.2987 - root_mean_squared_error: 0.5465 - val_loss: 0.3108 - val_root_mean_squared_error: 0.5575\n",
      "Epoch 24/100\n",
      "363/363 [==============================] - 0s 467us/step - loss: 0.2961 - root_mean_squared_error: 0.5442 - val_loss: 0.3396 - val_root_mean_squared_error: 0.5827\n",
      "Epoch 25/100\n",
      "363/363 [==============================] - 0s 482us/step - loss: 0.2959 - root_mean_squared_error: 0.5440 - val_loss: 0.3702 - val_root_mean_squared_error: 0.6084\n",
      "Epoch 26/100\n",
      "363/363 [==============================] - 0s 472us/step - loss: 0.2950 - root_mean_squared_error: 0.5431 - val_loss: 0.2834 - val_root_mean_squared_error: 0.5324\n",
      "Epoch 27/100\n",
      "363/363 [==============================] - 0s 470us/step - loss: 0.2926 - root_mean_squared_error: 0.5409 - val_loss: 0.2894 - val_root_mean_squared_error: 0.5380\n",
      "Epoch 28/100\n",
      "363/363 [==============================] - 0s 477us/step - loss: 0.2920 - root_mean_squared_error: 0.5404 - val_loss: 0.3972 - val_root_mean_squared_error: 0.6302\n",
      "Epoch 29/100\n",
      "363/363 [==============================] - 0s 471us/step - loss: 0.2908 - root_mean_squared_error: 0.5393 - val_loss: 0.2905 - val_root_mean_squared_error: 0.5390\n",
      "Epoch 30/100\n",
      "363/363 [==============================] - 0s 468us/step - loss: 0.2901 - root_mean_squared_error: 0.5386 - val_loss: 0.3204 - val_root_mean_squared_error: 0.5660\n",
      "Epoch 31/100\n",
      "363/363 [==============================] - 0s 485us/step - loss: 0.2892 - root_mean_squared_error: 0.5378 - val_loss: 0.3005 - val_root_mean_squared_error: 0.5481\n",
      "Epoch 32/100\n",
      "363/363 [==============================] - 0s 474us/step - loss: 0.2866 - root_mean_squared_error: 0.5353 - val_loss: 0.2900 - val_root_mean_squared_error: 0.5385\n",
      "Epoch 33/100\n",
      "363/363 [==============================] - 0s 480us/step - loss: 0.2857 - root_mean_squared_error: 0.5345 - val_loss: 0.2838 - val_root_mean_squared_error: 0.5327\n",
      "Epoch 34/100\n",
      "363/363 [==============================] - 0s 478us/step - loss: 0.2836 - root_mean_squared_error: 0.5325 - val_loss: 0.2952 - val_root_mean_squared_error: 0.5433\n",
      "Epoch 35/100\n",
      "363/363 [==============================] - 0s 487us/step - loss: 0.2837 - root_mean_squared_error: 0.5326 - val_loss: 0.3449 - val_root_mean_squared_error: 0.5873\n",
      "Epoch 36/100\n",
      "363/363 [==============================] - 0s 469us/step - loss: 0.2830 - root_mean_squared_error: 0.5320 - val_loss: 0.2958 - val_root_mean_squared_error: 0.5439\n",
      "Epoch 37/100\n",
      "363/363 [==============================] - 0s 466us/step - loss: 0.2831 - root_mean_squared_error: 0.5321 - val_loss: 0.3474 - val_root_mean_squared_error: 0.5894\n",
      "Epoch 38/100\n",
      "363/363 [==============================] - 0s 470us/step - loss: 0.2802 - root_mean_squared_error: 0.5293 - val_loss: 0.2797 - val_root_mean_squared_error: 0.5289\n",
      "Epoch 39/100\n",
      "363/363 [==============================] - 0s 467us/step - loss: 0.2824 - root_mean_squared_error: 0.5314 - val_loss: 0.3118 - val_root_mean_squared_error: 0.5584\n",
      "Epoch 40/100\n",
      "363/363 [==============================] - 0s 465us/step - loss: 0.2781 - root_mean_squared_error: 0.5274 - val_loss: 0.2745 - val_root_mean_squared_error: 0.5240\n",
      "Epoch 41/100\n",
      "363/363 [==============================] - 0s 469us/step - loss: 0.2780 - root_mean_squared_error: 0.5272 - val_loss: 0.4164 - val_root_mean_squared_error: 0.6453\n",
      "Epoch 42/100\n",
      "363/363 [==============================] - 0s 464us/step - loss: 0.2800 - root_mean_squared_error: 0.5292 - val_loss: 0.7380 - val_root_mean_squared_error: 0.8590\n",
      "Epoch 43/100\n",
      "363/363 [==============================] - 0s 498us/step - loss: 0.2802 - root_mean_squared_error: 0.5293 - val_loss: 0.4194 - val_root_mean_squared_error: 0.6476\n",
      "Epoch 44/100\n",
      "363/363 [==============================] - 0s 489us/step - loss: 0.2756 - root_mean_squared_error: 0.5249 - val_loss: 0.3504 - val_root_mean_squared_error: 0.5920\n",
      "Epoch 45/100\n",
      "363/363 [==============================] - 0s 470us/step - loss: 0.2726 - root_mean_squared_error: 0.5221 - val_loss: 0.2842 - val_root_mean_squared_error: 0.5331\n",
      "Epoch 46/100\n",
      "363/363 [==============================] - 0s 468us/step - loss: 0.2732 - root_mean_squared_error: 0.5227 - val_loss: 0.2903 - val_root_mean_squared_error: 0.5388\n",
      "Epoch 47/100\n"
     ]
    },
    {
     "name": "stdout",
     "output_type": "stream",
     "text": [
      "363/363 [==============================] - 0s 487us/step - loss: 0.2720 - root_mean_squared_error: 0.5215 - val_loss: 0.2970 - val_root_mean_squared_error: 0.5450\n",
      "Epoch 48/100\n",
      "363/363 [==============================] - 0s 467us/step - loss: 0.2708 - root_mean_squared_error: 0.5204 - val_loss: 0.3032 - val_root_mean_squared_error: 0.5507\n",
      "Epoch 49/100\n",
      "363/363 [==============================] - 0s 469us/step - loss: 0.2697 - root_mean_squared_error: 0.5193 - val_loss: 0.2742 - val_root_mean_squared_error: 0.5236\n",
      "Epoch 50/100\n",
      "363/363 [==============================] - 0s 469us/step - loss: 0.2686 - root_mean_squared_error: 0.5182 - val_loss: 0.2810 - val_root_mean_squared_error: 0.5301\n",
      "Epoch 51/100\n",
      "363/363 [==============================] - 0s 471us/step - loss: 0.2676 - root_mean_squared_error: 0.5173 - val_loss: 0.2839 - val_root_mean_squared_error: 0.5328\n",
      "Epoch 52/100\n",
      "363/363 [==============================] - 0s 462us/step - loss: 0.2673 - root_mean_squared_error: 0.5170 - val_loss: 0.2783 - val_root_mean_squared_error: 0.5276\n",
      "Epoch 53/100\n",
      "363/363 [==============================] - 0s 471us/step - loss: 0.2670 - root_mean_squared_error: 0.5167 - val_loss: 0.3367 - val_root_mean_squared_error: 0.5802\n",
      "Epoch 54/100\n",
      "363/363 [==============================] - 0s 485us/step - loss: 0.2648 - root_mean_squared_error: 0.5146 - val_loss: 0.2702 - val_root_mean_squared_error: 0.5198\n",
      "Epoch 55/100\n",
      "363/363 [==============================] - 0s 467us/step - loss: 0.2642 - root_mean_squared_error: 0.5140 - val_loss: 0.2723 - val_root_mean_squared_error: 0.5218\n",
      "Epoch 56/100\n",
      "363/363 [==============================] - 0s 474us/step - loss: 0.2631 - root_mean_squared_error: 0.5129 - val_loss: 0.2765 - val_root_mean_squared_error: 0.5258\n",
      "Epoch 57/100\n",
      "363/363 [==============================] - 0s 473us/step - loss: 0.2623 - root_mean_squared_error: 0.5122 - val_loss: 0.2774 - val_root_mean_squared_error: 0.5267\n",
      "Epoch 58/100\n",
      "363/363 [==============================] - 0s 477us/step - loss: 0.2616 - root_mean_squared_error: 0.5115 - val_loss: 0.2966 - val_root_mean_squared_error: 0.5446\n",
      "Epoch 59/100\n",
      "363/363 [==============================] - 0s 466us/step - loss: 0.2622 - root_mean_squared_error: 0.5120 - val_loss: 0.3170 - val_root_mean_squared_error: 0.5630\n",
      "Epoch 60/100\n",
      "363/363 [==============================] - 0s 469us/step - loss: 0.2613 - root_mean_squared_error: 0.5112 - val_loss: 0.2701 - val_root_mean_squared_error: 0.5197\n",
      "Epoch 61/100\n",
      "363/363 [==============================] - 0s 484us/step - loss: 0.2589 - root_mean_squared_error: 0.5089 - val_loss: 0.3259 - val_root_mean_squared_error: 0.5709\n",
      "Epoch 62/100\n",
      "363/363 [==============================] - 0s 464us/step - loss: 0.2596 - root_mean_squared_error: 0.5096 - val_loss: 0.2789 - val_root_mean_squared_error: 0.5281\n",
      "Epoch 63/100\n",
      "363/363 [==============================] - 0s 469us/step - loss: 0.2588 - root_mean_squared_error: 0.5087 - val_loss: 0.2801 - val_root_mean_squared_error: 0.5293\n",
      "Epoch 64/100\n",
      "363/363 [==============================] - 0s 469us/step - loss: 0.2592 - root_mean_squared_error: 0.5091 - val_loss: 0.2712 - val_root_mean_squared_error: 0.5208\n",
      "Epoch 65/100\n",
      "363/363 [==============================] - 0s 477us/step - loss: 0.2560 - root_mean_squared_error: 0.5059 - val_loss: 0.2728 - val_root_mean_squared_error: 0.5223\n",
      "Epoch 66/100\n",
      "363/363 [==============================] - 0s 473us/step - loss: 0.2561 - root_mean_squared_error: 0.5061 - val_loss: 0.2892 - val_root_mean_squared_error: 0.5378\n",
      "Epoch 67/100\n",
      "363/363 [==============================] - 0s 490us/step - loss: 0.2562 - root_mean_squared_error: 0.5062 - val_loss: 0.2709 - val_root_mean_squared_error: 0.5205\n",
      "Epoch 68/100\n",
      "363/363 [==============================] - 0s 481us/step - loss: 0.2532 - root_mean_squared_error: 0.5032 - val_loss: 0.2780 - val_root_mean_squared_error: 0.5273\n",
      "Epoch 69/100\n",
      "363/363 [==============================] - 0s 472us/step - loss: 0.2561 - root_mean_squared_error: 0.5060 - val_loss: 0.2839 - val_root_mean_squared_error: 0.5329\n",
      "Epoch 70/100\n",
      "363/363 [==============================] - 0s 468us/step - loss: 0.2533 - root_mean_squared_error: 0.5033 - val_loss: 0.2896 - val_root_mean_squared_error: 0.5382\n",
      "Epoch 71/100\n",
      "363/363 [==============================] - 0s 494us/step - loss: 0.2527 - root_mean_squared_error: 0.5027 - val_loss: 0.3053 - val_root_mean_squared_error: 0.5526\n",
      "Epoch 72/100\n",
      "363/363 [==============================] - 0s 467us/step - loss: 0.2517 - root_mean_squared_error: 0.5017 - val_loss: 0.2747 - val_root_mean_squared_error: 0.5242\n",
      "Epoch 73/100\n",
      "363/363 [==============================] - 0s 481us/step - loss: 0.2524 - root_mean_squared_error: 0.5024 - val_loss: 0.2635 - val_root_mean_squared_error: 0.5134\n",
      "Epoch 74/100\n",
      "363/363 [==============================] - 0s 481us/step - loss: 0.2527 - root_mean_squared_error: 0.5027 - val_loss: 0.2934 - val_root_mean_squared_error: 0.5417\n",
      "Epoch 75/100\n",
      "363/363 [==============================] - 0s 467us/step - loss: 0.2502 - root_mean_squared_error: 0.5002 - val_loss: 0.2982 - val_root_mean_squared_error: 0.5461\n",
      "Epoch 76/100\n",
      "363/363 [==============================] - 0s 465us/step - loss: 0.2539 - root_mean_squared_error: 0.5039 - val_loss: 0.2926 - val_root_mean_squared_error: 0.5409\n",
      "Epoch 77/100\n",
      "363/363 [==============================] - 0s 478us/step - loss: 0.2496 - root_mean_squared_error: 0.4996 - val_loss: 0.2790 - val_root_mean_squared_error: 0.5282\n",
      "Epoch 78/100\n",
      "363/363 [==============================] - 0s 470us/step - loss: 0.2484 - root_mean_squared_error: 0.4984 - val_loss: 0.2745 - val_root_mean_squared_error: 0.5239\n",
      "Epoch 79/100\n",
      "363/363 [==============================] - 0s 470us/step - loss: 0.2497 - root_mean_squared_error: 0.4997 - val_loss: 0.3375 - val_root_mean_squared_error: 0.5809\n",
      "Epoch 80/100\n",
      "363/363 [==============================] - 0s 474us/step - loss: 0.2487 - root_mean_squared_error: 0.4987 - val_loss: 0.2644 - val_root_mean_squared_error: 0.5142\n",
      "Epoch 81/100\n",
      "363/363 [==============================] - 0s 477us/step - loss: 0.2476 - root_mean_squared_error: 0.4976 - val_loss: 0.2824 - val_root_mean_squared_error: 0.5314\n",
      "Epoch 82/100\n",
      "363/363 [==============================] - 0s 476us/step - loss: 0.2455 - root_mean_squared_error: 0.4955 - val_loss: 0.2608 - val_root_mean_squared_error: 0.5107\n",
      "Epoch 83/100\n",
      "363/363 [==============================] - 0s 466us/step - loss: 0.2456 - root_mean_squared_error: 0.4956 - val_loss: 0.2603 - val_root_mean_squared_error: 0.5102\n",
      "Epoch 84/100\n",
      "363/363 [==============================] - 0s 468us/step - loss: 0.2470 - root_mean_squared_error: 0.4969 - val_loss: 0.2963 - val_root_mean_squared_error: 0.5443\n",
      "Epoch 85/100\n",
      "363/363 [==============================] - 0s 467us/step - loss: 0.2452 - root_mean_squared_error: 0.4951 - val_loss: 0.2912 - val_root_mean_squared_error: 0.5396\n",
      "Epoch 86/100\n",
      "363/363 [==============================] - 0s 467us/step - loss: 0.2455 - root_mean_squared_error: 0.4955 - val_loss: 0.2784 - val_root_mean_squared_error: 0.5277\n",
      "Epoch 87/100\n",
      "363/363 [==============================] - 0s 468us/step - loss: 0.2441 - root_mean_squared_error: 0.4941 - val_loss: 0.2993 - val_root_mean_squared_error: 0.5471\n",
      "Epoch 88/100\n",
      "363/363 [==============================] - 0s 471us/step - loss: 0.2425 - root_mean_squared_error: 0.4925 - val_loss: 0.2865 - val_root_mean_squared_error: 0.5352\n",
      "Epoch 89/100\n",
      "363/363 [==============================] - 0s 468us/step - loss: 0.2443 - root_mean_squared_error: 0.4943 - val_loss: 0.2846 - val_root_mean_squared_error: 0.5335\n",
      "Epoch 90/100\n",
      "363/363 [==============================] - 0s 468us/step - loss: 0.2431 - root_mean_squared_error: 0.4930 - val_loss: 0.2636 - val_root_mean_squared_error: 0.5134\n",
      "Epoch 91/100\n",
      "363/363 [==============================] - 0s 468us/step - loss: 0.2421 - root_mean_squared_error: 0.4920 - val_loss: 0.2899 - val_root_mean_squared_error: 0.5385\n",
      "Epoch 92/100\n",
      "363/363 [==============================] - 0s 467us/step - loss: 0.2425 - root_mean_squared_error: 0.4924 - val_loss: 0.2718 - val_root_mean_squared_error: 0.5213\n",
      "Epoch 93/100\n"
     ]
    },
    {
     "name": "stdout",
     "output_type": "stream",
     "text": [
      "363/363 [==============================] - 0s 470us/step - loss: 0.2407 - root_mean_squared_error: 0.4906 - val_loss: 0.2720 - val_root_mean_squared_error: 0.5215\n",
      "Epoch 94/100\n",
      "363/363 [==============================] - 0s 464us/step - loss: 0.2410 - root_mean_squared_error: 0.4909 - val_loss: 0.2974 - val_root_mean_squared_error: 0.5453\n",
      "Epoch 95/100\n",
      "363/363 [==============================] - 0s 464us/step - loss: 0.2401 - root_mean_squared_error: 0.4900 - val_loss: 0.2759 - val_root_mean_squared_error: 0.5253\n",
      "Epoch 96/100\n",
      "363/363 [==============================] - 0s 463us/step - loss: 0.2406 - root_mean_squared_error: 0.4906 - val_loss: 0.2961 - val_root_mean_squared_error: 0.5441\n",
      "Epoch 97/100\n",
      "363/363 [==============================] - 0s 461us/step - loss: 0.2393 - root_mean_squared_error: 0.4892 - val_loss: 0.2669 - val_root_mean_squared_error: 0.5166\n",
      "Epoch 98/100\n",
      "363/363 [==============================] - 0s 482us/step - loss: 0.2403 - root_mean_squared_error: 0.4902 - val_loss: 0.2777 - val_root_mean_squared_error: 0.5270\n",
      "Epoch 99/100\n",
      "363/363 [==============================] - 0s 465us/step - loss: 0.2401 - root_mean_squared_error: 0.4900 - val_loss: 0.2647 - val_root_mean_squared_error: 0.5145\n",
      "Epoch 100/100\n",
      "363/363 [==============================] - 0s 463us/step - loss: 0.2396 - root_mean_squared_error: 0.4895 - val_loss: 0.2900 - val_root_mean_squared_error: 0.5385\n"
     ]
    }
   ],
   "source": [
    "# Train the model.\n",
    "history = model.fit(X_train, y_train, epochs=100, validation_data=(X_valid, y_valid))"
   ]
  },
  {
   "cell_type": "code",
   "execution_count": 8,
   "metadata": {
    "colab": {
     "base_uri": "https://localhost:8080/",
     "height": 451
    },
    "id": "Z95S4Gd0pn_b",
    "outputId": "2e9c2a7b-8e2c-4db3-e866-5094207097cd"
   },
   "outputs": [
    {
     "data": {
      "image/png": "[encoded data removed]",
      "text/plain": [
       "<Figure size 800x500 with 1 Axes>"
      ]
     },
     "metadata": {},
     "output_type": "display_data"
    }
   ],
   "source": [
    "# Show the learning curves.\n",
    "pd.DataFrame(history.history).plot(figsize=(8, 5))\n",
    "plt.grid(True)\n",
    "plt.gca().set_ylim(0, 1)\n",
    "plt.show()"
   ]
  },
  {
   "cell_type": "code",
   "execution_count": 9,
   "metadata": {
    "colab": {
     "base_uri": "https://localhost:8080/"
    },
    "id": "5JRECEHspn_b",
    "outputId": "f56ab8d5-1e28-41f8-d8f6-20afc8b20315"
   },
   "outputs": [
    {
     "name": "stdout",
     "output_type": "stream",
     "text": [
      "162/162 [==============================] - 0s 351us/step - loss: 0.2712 - root_mean_squared_error: 0.5208\n"
     ]
    }
   ],
   "source": [
    "# Evaluate the model (outputs the MSE).\n",
    "loss = model.evaluate(X_test, y_test)"
   ]
  },
  {
   "cell_type": "markdown",
   "metadata": {
    "id": "iRdy1iKkpn_b"
   },
   "source": [
    "<b>Observation:</b><br/>\n",
    "If we multipy the RMSE with 100000, we get the RMSE expressed in USD."
   ]
  },
  {
   "cell_type": "code",
   "execution_count": 10,
   "metadata": {
    "colab": {
     "base_uri": "https://localhost:8080/"
    },
    "id": "DKD4KAmCpn_b",
    "outputId": "f14eafe6-dd07-4756-a013-9bc18b967712"
   },
   "outputs": [
    {
     "name": "stdout",
     "output_type": "stream",
     "text": [
      "1/1 [==============================] - 0s 46ms/step\n"
     ]
    },
    {
     "data": {
      "text/plain": [
       "array([[0.50665814],\n",
       "       [0.90831083],\n",
       "       [4.6777825 ]], dtype=float32)"
      ]
     },
     "execution_count": 10,
     "metadata": {},
     "output_type": "execute_result"
    }
   ],
   "source": [
    "# Make predictions for the first 3 instances in the test set.\n",
    "X_new = X_test[:3]\n",
    "y_pred = model.predict(X_new)\n",
    "y_pred"
   ]
  },
  {
   "cell_type": "code",
   "execution_count": 11,
   "metadata": {
    "colab": {
     "base_uri": "https://localhost:8080/"
    },
    "id": "62dYeO6Hpn_b",
    "outputId": "1528db3d-b0aa-4ca6-ab58-757ced54aee5"
   },
   "outputs": [
    {
     "data": {
      "text/plain": [
       "array([0.477  , 0.458  , 5.00001])"
      ]
     },
     "execution_count": 11,
     "metadata": {},
     "output_type": "execute_result"
    }
   ],
   "source": [
    "# Compare with the corresponding values target values\n",
    "y_test[:3]"
   ]
  },
  {
   "cell_type": "markdown",
   "metadata": {
    "id": "YLd5Uvpvpn_b"
   },
   "source": [
    "<b>Observation:</b><br/>\n",
    "The second prediction is very bad given the RMSE. The other two predictions are okay."
   ]
  }
 ],
 "metadata": {
  "colab": {
   "provenance": []
  },
  "kernelspec": {
   "display_name": "Python 3 (ipykernel)",
   "language": "python",
   "name": "python3"
  },
  "language_info": {
   "codemirror_mode": {
    "name": "ipython",
    "version": 3
   },
   "file_extension": ".py",
   "mimetype": "text/x-python",
   "name": "python",
   "nbconvert_exporter": "python",
   "pygments_lexer": "ipython3",
   "version": "3.10.9"
  },
  "nav_menu": {
   "height": "264px",
   "width": "369px"
  },
  "toc": {
   "navigate_menu": true,
   "number_sections": true,
   "sideBar": true,
   "threshold": 6,
   "toc_cell": false,
   "toc_section_display": "block",
   "toc_window_display": false
  }
 },
 "nbformat": 4,
 "nbformat_minor": 1
}
