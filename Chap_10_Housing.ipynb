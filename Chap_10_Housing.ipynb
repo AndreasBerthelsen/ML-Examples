{
 "cells": [
  {
   "cell_type": "markdown",
   "metadata": {
    "id": "8FCuv1Qkpn_V"
   },
   "source": [
    "# MLP Regressor trained with the California housing dataset"
   ]
  },
  {
   "cell_type": "markdown",
   "metadata": {
    "id": "HgZOnJ-vpn_X"
   },
   "source": [
    "## Setup"
   ]
  },
  {
   "cell_type": "code",
   "execution_count": 1,
   "metadata": {
    "id": "WizM4unQpn_Y"
   },
   "outputs": [],
   "source": [
    "# Common imports\n",
    "import sys\n",
    "import os\n",
    "import sklearn\n",
    "import numpy as np\n",
    "import pandas as pd\n",
    "import tensorflow as tf\n",
    "from tensorflow import keras\n",
    "\n",
    "# to make this notebook's output stable across runs\n",
    "np.random.seed(42)\n",
    "tf.random.set_seed(42)\n",
    "\n",
    "# To plot pretty figures\n",
    "%matplotlib inline\n",
    "import matplotlib.pyplot as plt\n",
    "\n",
    "# Import the SSL module and configure certificate verification to be optional to avoid SSLCertVerificationError.\n",
    "import ssl\n",
    "ssl.SSLContext.verify_mode = ssl.VerifyMode.CERT_OPTIONAL\n",
    "\n",
    "# Ignore useless warnings (see SciPy issue #5998)\n",
    "import warnings\n",
    "warnings.filterwarnings(action=\"ignore\", message=\"^internal gelsd\")"
   ]
  },
  {
   "cell_type": "markdown",
   "metadata": {
    "id": "dAhJ2A_Kpn_Z"
   },
   "source": [
    "## Load, split and scale the dataset"
   ]
  },
  {
   "cell_type": "code",
   "execution_count": 2,
   "metadata": {
    "id": "mpOM30iDpn_Z"
   },
   "outputs": [],
   "source": [
    "from sklearn.datasets import fetch_california_housing\n",
    "from sklearn.model_selection import train_test_split\n",
    "from sklearn.preprocessing import StandardScaler\n",
    "from sklearn.preprocessing import MinMaxScaler\n",
    "\n",
    "housing = fetch_california_housing()\n",
    "\n",
    "X_train_full, X_test, y_train_full, y_test = train_test_split(housing.data, housing.target, random_state=42)\n",
    "X_train, X_valid, y_train, y_valid = train_test_split(X_train_full, y_train_full, random_state=42)\n",
    "\n",
    "# We could scale the features using SciKitLearn's StandardScaler or MinMaxScaler,\n",
    "# but in this example we will use the Keras Normalization Layer instead.\n",
    "#scaler = StandardScaler()\n",
    "#X_train = scaler.fit_transform(X_train)\n",
    "#X_valid = scaler.transform(X_valid)\n",
    "#X_test = scaler.transform(X_test)"
   ]
  },
  {
   "cell_type": "code",
   "execution_count": 3,
   "metadata": {
    "colab": {
     "base_uri": "https://localhost:8080/"
    },
    "id": "TLLbArbxpn_Z",
    "outputId": "ecd6ef0a-2dd6-418c-855e-81b347837a41"
   },
   "outputs": [
    {
     "data": {
      "text/plain": [
       "['MedInc',\n",
       " 'HouseAge',\n",
       " 'AveRooms',\n",
       " 'AveBedrms',\n",
       " 'Population',\n",
       " 'AveOccup',\n",
       " 'Latitude',\n",
       " 'Longitude']"
      ]
     },
     "execution_count": 3,
     "metadata": {},
     "output_type": "execute_result"
    }
   ],
   "source": [
    "# Display the feature names.\n",
    "# Note that this dataset is not exactly the same as the \"housing\" dataset used in chapter 2.\n",
    "# As a result, we cannot completely compare the RMSE of this model with the RMSEs of the\n",
    "# other models that we trained and tested using the dataset from chapter 2.\n",
    "housing.feature_names"
   ]
  },
  {
   "cell_type": "code",
   "execution_count": 4,
   "metadata": {
    "id": "qCXFVlM_pn_a"
   },
   "outputs": [],
   "source": [
    "# Computing the mean median_house_value.\n",
    "# We can see that the target value have been scaled down by a factor of 100000\n",
    "# compared to the Housing dataset used in chapter 2."
   ]
  },
  {
   "cell_type": "code",
   "execution_count": 5,
   "metadata": {
    "colab": {
     "base_uri": "https://localhost:8080/"
    },
    "id": "tn-TfIhfpn_a",
    "outputId": "a0e39fb4-210b-464b-9cd6-fa8ef6faaba0"
   },
   "outputs": [
    {
     "data": {
      "text/plain": [
       "(20640, 8)"
      ]
     },
     "execution_count": 5,
     "metadata": {},
     "output_type": "execute_result"
    }
   ],
   "source": [
    "housing.data.shape"
   ]
  },
  {
   "cell_type": "markdown",
   "metadata": {
    "id": "qhgtjhYQpn_a"
   },
   "source": [
    "## Build, compile, train and evaluate a model"
   ]
  },
  {
   "cell_type": "code",
   "execution_count": 6,
   "metadata": {
    "id": "UdQWyA2Qpn_b"
   },
   "outputs": [
    {
     "name": "stderr",
     "output_type": "stream",
     "text": [
      "2023-09-20 09:57:22.038882: W tensorflow/tsl/platform/profile_utils/cpu_utils.cc:128] Failed to get CPU frequency: 0 Hz\n"
     ]
    }
   ],
   "source": [
    "# Build a model.\n",
    "# We don't need to specify an input layer, since we don't need to convert the input array.\n",
    "# For regression problems, we don't use an activation function in the output layer.\n",
    "\n",
    "# Keras Normalization Layer. See:\n",
    "#   https://www.tensorflow.org/api_docs/python/tf/keras/layers/Normalization\n",
    "norm_layer = keras.layers.Normalization(input_shape=X_train.shape[1:])\n",
    "\n",
    "model = keras.models.Sequential([\n",
    "    norm_layer,\n",
    "    # hidden layers\n",
    "    keras.layers.Dense(50, activation=\"relu\"),\n",
    "    keras.layers.Dense(50, activation=\"relu\"),\n",
    "    keras.layers.Dense(50, activation=\"relu\"),\n",
    "    # output layer\n",
    "    keras.layers.Dense(1)\n",
    "])\n",
    "\n",
    "# Compile the model.\n",
    "# For regression problems, we use the \"mean_squared_error\" as loss function.\n",
    "model.compile(loss=\"mse\", optimizer=\"sgd\", metrics=[\"RootMeanSquaredError\"])\n",
    "\n",
    "# Normalize inputs.\n",
    "norm_layer.adapt(X_train)"
   ]
  },
  {
   "cell_type": "code",
   "execution_count": 7,
   "metadata": {
    "colab": {
     "base_uri": "https://localhost:8080/"
    },
    "id": "aXYx7GuUpn_b",
    "outputId": "92e60de2-c7f9-4276-c9ee-b4cdb8694082"
   },
   "outputs": [
    {
     "name": "stdout",
     "output_type": "stream",
     "text": [
      "Epoch 1/40\n",
      "363/363 [==============================] - 0s 695us/step - loss: 0.6775 - root_mean_squared_error: 0.8231 - val_loss: 1.2376 - val_root_mean_squared_error: 1.1125\n",
      "Epoch 2/40\n",
      "363/363 [==============================] - 0s 460us/step - loss: 0.4203 - root_mean_squared_error: 0.6483 - val_loss: 4.0087 - val_root_mean_squared_error: 2.0022\n",
      "Epoch 3/40\n",
      "363/363 [==============================] - 0s 460us/step - loss: 0.4259 - root_mean_squared_error: 0.6526 - val_loss: 0.4182 - val_root_mean_squared_error: 0.6467\n",
      "Epoch 4/40\n",
      "363/363 [==============================] - 0s 467us/step - loss: 0.3674 - root_mean_squared_error: 0.6062 - val_loss: 0.4136 - val_root_mean_squared_error: 0.6431\n",
      "Epoch 5/40\n",
      "363/363 [==============================] - 0s 457us/step - loss: 0.3565 - root_mean_squared_error: 0.5971 - val_loss: 0.3330 - val_root_mean_squared_error: 0.5771\n",
      "Epoch 6/40\n",
      "363/363 [==============================] - 0s 457us/step - loss: 0.3469 - root_mean_squared_error: 0.5889 - val_loss: 0.4120 - val_root_mean_squared_error: 0.6419\n",
      "Epoch 7/40\n",
      "363/363 [==============================] - 0s 461us/step - loss: 0.3440 - root_mean_squared_error: 0.5865 - val_loss: 0.3264 - val_root_mean_squared_error: 0.5713\n",
      "Epoch 8/40\n",
      "363/363 [==============================] - 0s 473us/step - loss: 0.3359 - root_mean_squared_error: 0.5795 - val_loss: 0.3475 - val_root_mean_squared_error: 0.5895\n",
      "Epoch 9/40\n",
      "363/363 [==============================] - 0s 460us/step - loss: 0.3283 - root_mean_squared_error: 0.5730 - val_loss: 0.3596 - val_root_mean_squared_error: 0.5997\n",
      "Epoch 10/40\n",
      "363/363 [==============================] - 0s 485us/step - loss: 0.3238 - root_mean_squared_error: 0.5690 - val_loss: 0.4074 - val_root_mean_squared_error: 0.6383\n",
      "Epoch 11/40\n",
      "363/363 [==============================] - 0s 487us/step - loss: 0.3222 - root_mean_squared_error: 0.5676 - val_loss: 0.3292 - val_root_mean_squared_error: 0.5737\n",
      "Epoch 12/40\n",
      "363/363 [==============================] - 0s 471us/step - loss: 0.3189 - root_mean_squared_error: 0.5647 - val_loss: 0.4426 - val_root_mean_squared_error: 0.6653\n",
      "Epoch 13/40\n",
      "363/363 [==============================] - 0s 472us/step - loss: 0.3160 - root_mean_squared_error: 0.5622 - val_loss: 0.3014 - val_root_mean_squared_error: 0.5490\n",
      "Epoch 14/40\n",
      "363/363 [==============================] - 0s 459us/step - loss: 0.3112 - root_mean_squared_error: 0.5578 - val_loss: 0.3126 - val_root_mean_squared_error: 0.5591\n",
      "Epoch 15/40\n",
      "363/363 [==============================] - 0s 470us/step - loss: 0.3099 - root_mean_squared_error: 0.5567 - val_loss: 0.3163 - val_root_mean_squared_error: 0.5624\n",
      "Epoch 16/40\n",
      "363/363 [==============================] - 0s 473us/step - loss: 0.3064 - root_mean_squared_error: 0.5535 - val_loss: 0.2940 - val_root_mean_squared_error: 0.5423\n",
      "Epoch 17/40\n",
      "363/363 [==============================] - 0s 482us/step - loss: 0.3039 - root_mean_squared_error: 0.5513 - val_loss: 0.4034 - val_root_mean_squared_error: 0.6351\n",
      "Epoch 18/40\n",
      "363/363 [==============================] - 0s 479us/step - loss: 0.3022 - root_mean_squared_error: 0.5497 - val_loss: 0.3045 - val_root_mean_squared_error: 0.5518\n",
      "Epoch 19/40\n",
      "363/363 [==============================] - 0s 473us/step - loss: 0.3031 - root_mean_squared_error: 0.5505 - val_loss: 0.2938 - val_root_mean_squared_error: 0.5420\n",
      "Epoch 20/40\n",
      "363/363 [==============================] - 0s 466us/step - loss: 0.2996 - root_mean_squared_error: 0.5473 - val_loss: 0.4262 - val_root_mean_squared_error: 0.6528\n",
      "Epoch 21/40\n",
      "363/363 [==============================] - 0s 468us/step - loss: 0.2982 - root_mean_squared_error: 0.5460 - val_loss: 0.3001 - val_root_mean_squared_error: 0.5478\n",
      "Epoch 22/40\n",
      "363/363 [==============================] - 0s 479us/step - loss: 0.2945 - root_mean_squared_error: 0.5427 - val_loss: 0.3861 - val_root_mean_squared_error: 0.6213\n",
      "Epoch 23/40\n",
      "363/363 [==============================] - 0s 473us/step - loss: 0.2942 - root_mean_squared_error: 0.5424 - val_loss: 0.3079 - val_root_mean_squared_error: 0.5549\n",
      "Epoch 24/40\n",
      "363/363 [==============================] - 0s 466us/step - loss: 0.2914 - root_mean_squared_error: 0.5398 - val_loss: 0.3683 - val_root_mean_squared_error: 0.6069\n",
      "Epoch 25/40\n",
      "363/363 [==============================] - 0s 463us/step - loss: 0.2910 - root_mean_squared_error: 0.5394 - val_loss: 0.4222 - val_root_mean_squared_error: 0.6497\n",
      "Epoch 26/40\n",
      "363/363 [==============================] - 0s 464us/step - loss: 0.2894 - root_mean_squared_error: 0.5380 - val_loss: 0.3053 - val_root_mean_squared_error: 0.5526\n",
      "Epoch 27/40\n",
      "363/363 [==============================] - 0s 474us/step - loss: 0.2869 - root_mean_squared_error: 0.5356 - val_loss: 0.2824 - val_root_mean_squared_error: 0.5314\n",
      "Epoch 28/40\n",
      "363/363 [==============================] - 0s 461us/step - loss: 0.2866 - root_mean_squared_error: 0.5353 - val_loss: 0.3457 - val_root_mean_squared_error: 0.5880\n",
      "Epoch 29/40\n",
      "363/363 [==============================] - 0s 469us/step - loss: 0.2853 - root_mean_squared_error: 0.5341 - val_loss: 0.2887 - val_root_mean_squared_error: 0.5373\n",
      "Epoch 30/40\n",
      "363/363 [==============================] - 0s 465us/step - loss: 0.2850 - root_mean_squared_error: 0.5339 - val_loss: 0.3573 - val_root_mean_squared_error: 0.5977\n",
      "Epoch 31/40\n",
      "363/363 [==============================] - 0s 466us/step - loss: 0.2835 - root_mean_squared_error: 0.5324 - val_loss: 0.3521 - val_root_mean_squared_error: 0.5934\n",
      "Epoch 32/40\n",
      "363/363 [==============================] - 0s 460us/step - loss: 0.2810 - root_mean_squared_error: 0.5301 - val_loss: 0.2985 - val_root_mean_squared_error: 0.5464\n",
      "Epoch 33/40\n",
      "363/363 [==============================] - 0s 472us/step - loss: 0.2811 - root_mean_squared_error: 0.5302 - val_loss: 0.2874 - val_root_mean_squared_error: 0.5361\n",
      "Epoch 34/40\n",
      "363/363 [==============================] - 0s 465us/step - loss: 0.2794 - root_mean_squared_error: 0.5286 - val_loss: 0.3062 - val_root_mean_squared_error: 0.5534\n",
      "Epoch 35/40\n",
      "363/363 [==============================] - 0s 463us/step - loss: 0.2784 - root_mean_squared_error: 0.5276 - val_loss: 0.3902 - val_root_mean_squared_error: 0.6247\n",
      "Epoch 36/40\n",
      "363/363 [==============================] - 0s 468us/step - loss: 0.2778 - root_mean_squared_error: 0.5271 - val_loss: 0.2944 - val_root_mean_squared_error: 0.5426\n",
      "Epoch 37/40\n",
      "363/363 [==============================] - 0s 463us/step - loss: 0.2769 - root_mean_squared_error: 0.5263 - val_loss: 1.1531 - val_root_mean_squared_error: 1.0738\n",
      "Epoch 38/40\n",
      "363/363 [==============================] - 0s 463us/step - loss: 0.2800 - root_mean_squared_error: 0.5291 - val_loss: 0.2793 - val_root_mean_squared_error: 0.5284\n",
      "Epoch 39/40\n",
      "363/363 [==============================] - 0s 467us/step - loss: 0.2778 - root_mean_squared_error: 0.5271 - val_loss: 0.3100 - val_root_mean_squared_error: 0.5568\n",
      "Epoch 40/40\n",
      "363/363 [==============================] - 0s 461us/step - loss: 0.2754 - root_mean_squared_error: 0.5248 - val_loss: 0.3159 - val_root_mean_squared_error: 0.5621\n"
     ]
    }
   ],
   "source": [
    "# Train the model.\n",
    "history = model.fit(X_train, y_train, epochs=40, validation_data=(X_valid, y_valid))"
   ]
  },
  {
   "cell_type": "code",
   "execution_count": 8,
   "metadata": {
    "colab": {
     "base_uri": "https://localhost:8080/",
     "height": 451
    },
    "id": "Z95S4Gd0pn_b",
    "outputId": "2e9c2a7b-8e2c-4db3-e866-5094207097cd"
   },
   "outputs": [
    {
     "data": {
      "image/png": "[encoded data removed]",
      "text/plain": [
       "<Figure size 800x500 with 1 Axes>"
      ]
     },
     "metadata": {},
     "output_type": "display_data"
    }
   ],
   "source": [
    "# Show the learning curves.\n",
    "pd.DataFrame(history.history).plot(figsize=(8, 5))\n",
    "plt.grid(True)\n",
    "plt.gca().set_ylim(0, 1)\n",
    "plt.show()"
   ]
  },
  {
   "cell_type": "code",
   "execution_count": 9,
   "metadata": {
    "colab": {
     "base_uri": "https://localhost:8080/"
    },
    "id": "5JRECEHspn_b",
    "outputId": "f56ab8d5-1e28-41f8-d8f6-20afc8b20315"
   },
   "outputs": [
    {
     "name": "stdout",
     "output_type": "stream",
     "text": [
      "162/162 [==============================] - 0s 303us/step - loss: 0.2961 - root_mean_squared_error: 0.5441\n"
     ]
    }
   ],
   "source": [
    "# Evaluate the model (outputs the MSE).\n",
    "loss = model.evaluate(X_test, y_test)"
   ]
  },
  {
   "cell_type": "markdown",
   "metadata": {
    "id": "iRdy1iKkpn_b"
   },
   "source": [
    "<b>Observation:</b><br/>\n",
    "If we multipy the RMSE with 100000, we get the RMSE expressed in USD."
   ]
  },
  {
   "cell_type": "code",
   "execution_count": 10,
   "metadata": {
    "colab": {
     "base_uri": "https://localhost:8080/"
    },
    "id": "DKD4KAmCpn_b",
    "outputId": "f14eafe6-dd07-4756-a013-9bc18b967712"
   },
   "outputs": [
    {
     "name": "stdout",
     "output_type": "stream",
     "text": [
      "1/1 [==============================] - 0s 43ms/step\n"
     ]
    },
    {
     "data": {
      "text/plain": [
       "array([[0.42078167],\n",
       "       [1.0489448 ],\n",
       "       [4.5644045 ]], dtype=float32)"
      ]
     },
     "execution_count": 10,
     "metadata": {},
     "output_type": "execute_result"
    }
   ],
   "source": [
    "# Make predictions for the first 3 instances in the test set.\n",
    "X_new = X_test[:3]\n",
    "y_pred = model.predict(X_new)\n",
    "y_pred"
   ]
  },
  {
   "cell_type": "code",
   "execution_count": 11,
   "metadata": {
    "colab": {
     "base_uri": "https://localhost:8080/"
    },
    "id": "62dYeO6Hpn_b",
    "outputId": "1528db3d-b0aa-4ca6-ab58-757ced54aee5"
   },
   "outputs": [
    {
     "data": {
      "text/plain": [
       "array([0.477  , 0.458  , 5.00001])"
      ]
     },
     "execution_count": 11,
     "metadata": {},
     "output_type": "execute_result"
    }
   ],
   "source": [
    "# Compare with the corresponding values target values\n",
    "y_test[:3]"
   ]
  },
  {
   "cell_type": "markdown",
   "metadata": {
    "id": "YLd5Uvpvpn_b"
   },
   "source": [
    "<b>Observation:</b><br/>\n",
    "The second prediction is very bad given the RMSE. The other two predictions are okay."
   ]
  }
 ],
 "metadata": {
  "colab": {
   "provenance": []
  },
  "kernelspec": {
   "display_name": "Python 3 (ipykernel)",
   "language": "python",
   "name": "python3"
  },
  "language_info": {
   "codemirror_mode": {
    "name": "ipython",
    "version": 3
   },
   "file_extension": ".py",
   "mimetype": "text/x-python",
   "name": "python",
   "nbconvert_exporter": "python",
   "pygments_lexer": "ipython3",
   "version": "3.10.9"
  },
  "nav_menu": {
   "height": "264px",
   "width": "369px"
  },
  "toc": {
   "navigate_menu": true,
   "number_sections": true,
   "sideBar": true,
   "threshold": 6,
   "toc_cell": false,
   "toc_section_display": "block",
   "toc_window_display": false
  }
 },
 "nbformat": 4,
 "nbformat_minor": 1
}
